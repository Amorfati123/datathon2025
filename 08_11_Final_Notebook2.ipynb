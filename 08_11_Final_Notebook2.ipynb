{
 "cells": [
  {
   "cell_type": "markdown",
   "id": "820f9914",
   "metadata": {},
   "source": [
    "# Early Prediction of Sepsis in the ICU Using Time Series Models\n",
    "\n",
    "## Research Question (RQ)\n",
    "**Can we model and forecast vital sign trajectories in the first 24 hours of ICU admission to distinguish sepsis from non-sepsis patients, and identify early signals of sepsis onset?**\n",
    "\n",
    "This notebook walks through a complete data science pipeline for time series modeling of ICU vital signs, using the MIMIC-IV database. We focus on comparing classical forecasting methods (ARIMA, Holt-Winters) with state-of-the-art deep learning (Temporal Fusion Transformer, TFT) for the **early prediction of sepsis**, one of the most important and challenging tasks in critical care.\n",
    "\n",
    "---\n",
    "\n",
    "## Educational Objectives\n",
    "- **Hands-on data wrangling:** Extracting, tidying, and regularizing ICU time series from real-world EHR data.\n",
    "- **Benchmarking with classical models:** Applying ARIMA and Holt-Winters to forecast patient vitals and assess their limits in ICU prediction tasks.\n",
    "- **Deep learning for ICU forecasting:** Using the Temporal Fusion Transformer (TFT) to capture complex, nonlinear patterns and compare with traditional baselines.\n",
    "- **Narrating a clinical data science story:** Framing modeling choices and findings in a way that makes sense for healthcare practitioners and researchers.\n",
    "\n",
    "This approach aligns with the **CIMDAR-HIVE Research-Education Program Plan**, emphasizing:\n",
    "- Data science skills with real, messy health data\n",
    "- Model interpretability and reproducibility\n",
    "- A clear line from research question to actionable insight\n",
    "\n",
    "---\n",
    "\n",
    "*Let’s begin by building a balanced cohort of ICU patients with and without sepsis, based on diagnosis codes, so we can compare modeling performance and EDA for both groups.*\n"
   ]
  },
  {
   "cell_type": "code",
   "execution_count": 1,
   "id": "b17a52e3",
   "metadata": {},
   "outputs": [
    {
     "name": "stdout",
     "output_type": "stream",
     "text": [
      "Total ICU stays with sepsis: 14824\n"
     ]
    },
    {
     "data": {
      "text/html": [
       "<div>\n",
       "<style scoped>\n",
       "    .dataframe tbody tr th:only-of-type {\n",
       "        vertical-align: middle;\n",
       "    }\n",
       "\n",
       "    .dataframe tbody tr th {\n",
       "        vertical-align: top;\n",
       "    }\n",
       "\n",
       "    .dataframe thead th {\n",
       "        text-align: right;\n",
       "    }\n",
       "</style>\n",
       "<table border=\"1\" class=\"dataframe\">\n",
       "  <thead>\n",
       "    <tr style=\"text-align: right;\">\n",
       "      <th></th>\n",
       "      <th>subject_id</th>\n",
       "      <th>hadm_id</th>\n",
       "      <th>stay_id</th>\n",
       "      <th>first_careunit</th>\n",
       "      <th>last_careunit</th>\n",
       "      <th>intime</th>\n",
       "      <th>outtime</th>\n",
       "      <th>los</th>\n",
       "    </tr>\n",
       "  </thead>\n",
       "  <tbody>\n",
       "    <tr>\n",
       "      <th>0</th>\n",
       "      <td>10001843</td>\n",
       "      <td>26133978</td>\n",
       "      <td>39698942</td>\n",
       "      <td>Medical/Surgical Intensive Care Unit (MICU/SICU)</td>\n",
       "      <td>Medical/Surgical Intensive Care Unit (MICU/SICU)</td>\n",
       "      <td>2134-12-05 18:50:03</td>\n",
       "      <td>2134-12-06 14:38:26</td>\n",
       "      <td>0.825266</td>\n",
       "    </tr>\n",
       "    <tr>\n",
       "      <th>1</th>\n",
       "      <td>10001884</td>\n",
       "      <td>26184834</td>\n",
       "      <td>37510196</td>\n",
       "      <td>Medical Intensive Care Unit (MICU)</td>\n",
       "      <td>Medical Intensive Care Unit (MICU)</td>\n",
       "      <td>2131-01-11 04:20:05</td>\n",
       "      <td>2131-01-20 08:27:30</td>\n",
       "      <td>9.171817</td>\n",
       "    </tr>\n",
       "    <tr>\n",
       "      <th>2</th>\n",
       "      <td>10002114</td>\n",
       "      <td>27793700</td>\n",
       "      <td>34672098</td>\n",
       "      <td>Coronary Care Unit (CCU)</td>\n",
       "      <td>Coronary Care Unit (CCU)</td>\n",
       "      <td>2162-02-17 23:30:00</td>\n",
       "      <td>2162-02-20 21:16:27</td>\n",
       "      <td>2.907257</td>\n",
       "    </tr>\n",
       "    <tr>\n",
       "      <th>3</th>\n",
       "      <td>10002495</td>\n",
       "      <td>24982426</td>\n",
       "      <td>36753294</td>\n",
       "      <td>Coronary Care Unit (CCU)</td>\n",
       "      <td>Coronary Care Unit (CCU)</td>\n",
       "      <td>2141-05-22 20:18:01</td>\n",
       "      <td>2141-05-27 22:24:02</td>\n",
       "      <td>5.087512</td>\n",
       "    </tr>\n",
       "    <tr>\n",
       "      <th>4</th>\n",
       "      <td>10003400</td>\n",
       "      <td>23559586</td>\n",
       "      <td>34577403</td>\n",
       "      <td>Medical/Surgical Intensive Care Unit (MICU/SICU)</td>\n",
       "      <td>Medical/Surgical Intensive Care Unit (MICU/SICU)</td>\n",
       "      <td>2137-08-10 19:54:51</td>\n",
       "      <td>2137-08-13 17:54:54</td>\n",
       "      <td>2.916701</td>\n",
       "    </tr>\n",
       "  </tbody>\n",
       "</table>\n",
       "</div>"
      ],
      "text/plain": [
       "   subject_id   hadm_id   stay_id  \\\n",
       "0    10001843  26133978  39698942   \n",
       "1    10001884  26184834  37510196   \n",
       "2    10002114  27793700  34672098   \n",
       "3    10002495  24982426  36753294   \n",
       "4    10003400  23559586  34577403   \n",
       "\n",
       "                                     first_careunit  \\\n",
       "0  Medical/Surgical Intensive Care Unit (MICU/SICU)   \n",
       "1                Medical Intensive Care Unit (MICU)   \n",
       "2                          Coronary Care Unit (CCU)   \n",
       "3                          Coronary Care Unit (CCU)   \n",
       "4  Medical/Surgical Intensive Care Unit (MICU/SICU)   \n",
       "\n",
       "                                      last_careunit               intime  \\\n",
       "0  Medical/Surgical Intensive Care Unit (MICU/SICU)  2134-12-05 18:50:03   \n",
       "1                Medical Intensive Care Unit (MICU)  2131-01-11 04:20:05   \n",
       "2                          Coronary Care Unit (CCU)  2162-02-17 23:30:00   \n",
       "3                          Coronary Care Unit (CCU)  2141-05-22 20:18:01   \n",
       "4  Medical/Surgical Intensive Care Unit (MICU/SICU)  2137-08-10 19:54:51   \n",
       "\n",
       "               outtime       los  \n",
       "0  2134-12-06 14:38:26  0.825266  \n",
       "1  2131-01-20 08:27:30  9.171817  \n",
       "2  2162-02-20 21:16:27  2.907257  \n",
       "3  2141-05-27 22:24:02  5.087512  \n",
       "4  2137-08-13 17:54:54  2.916701  "
      ]
     },
     "metadata": {},
     "output_type": "display_data"
    }
   ],
   "source": [
    "#1 - Identify ICU stays with sepsis ICD codes (case cohort)\n",
    "\n",
    "import os\n",
    "import pandas as pd\n",
    "import numpy as np\n",
    "\n",
    "# File paths\n",
    "MIMIC_PATH = '/data0/mimiciv/3.1'\n",
    "ICU_PATH = os.path.join(MIMIC_PATH, 'icu')\n",
    "HOSP_PATH = os.path.join(MIMIC_PATH, 'hosp')\n",
    "\n",
    "icustays_fp = os.path.join(ICU_PATH, 'icustays.csv.gz')\n",
    "diagnoses_fp = os.path.join(HOSP_PATH, 'diagnoses_icd.csv.gz')\n",
    "\n",
    "# Load tables\n",
    "icustays = pd.read_csv(icustays_fp)\n",
    "diagnoses = pd.read_csv(diagnoses_fp, usecols=['subject_id', 'hadm_id', 'icd_code'])\n",
    "\n",
    "# List of sepsis ICD-10 codes (expand as needed)\n",
    "SEPSIS_ICD_CODES = [\n",
    "    'A41', 'A410', 'A411', 'A412', 'A413', 'A414', 'A415', 'A418', 'A419',\n",
    "    'R652', 'R65.2', 'R57.2'\n",
    "]\n",
    "\n",
    "# Find all admissions with a sepsis ICD code (substring match on first 3 chars)\n",
    "diagnoses['sepsis'] = diagnoses['icd_code'].astype(str).str[:3].isin([code.replace('.', '')[:3] for code in SEPSIS_ICD_CODES])\n",
    "sepsis_admissions = diagnoses[diagnoses['sepsis']][['subject_id', 'hadm_id']].drop_duplicates()\n",
    "\n",
    "# Merge with icustays to get stay_ids for sepsis cases\n",
    "sepsis_stays = pd.merge(icustays, sepsis_admissions, on=['subject_id', 'hadm_id'])\n",
    "print(f\"Total ICU stays with sepsis: {len(sepsis_stays)}\")\n",
    "display(sepsis_stays.head())"
   ]
  },
  {
   "cell_type": "markdown",
   "id": "b7a769db",
   "metadata": {},
   "source": [
    "## Why Start With Sepsis-Positive Stays? Best Practices for Rare Outcomes\n",
    "\n",
    "In real-world ICU data, critical events like sepsis are relatively rare compared to the overall population. If you just sample patients at random, you’ll often get no (or very few) cases, making it impossible to study or model the event.\n",
    "\n",
    "By *intentionally selecting all stays with sepsis ICD codes*:\n",
    "- We **guarantee enough positive cases** for analysis and predictive modeling.\n",
    "- We can more clearly study the patterns that distinguish sepsis patients from others.\n",
    "\n",
    "This approach is called **outcome-based cohort enrichment** (or “case-control” sampling) and is a standard technique in medical data science and epidemiology.\n",
    "For educational demos, it also lets us scale down to a manageable sample size (like 20–50 cases) for fast EDA and plotting.\n",
    "\n",
    "**Next:** We’ll randomly select 20 sepsis cases, and match them with 20 non-sepsis controls (ICU stays with no sepsis ICD codes), to create a balanced cohort for teaching and modeling.\n"
   ]
  },
  {
   "cell_type": "markdown",
   "id": "68a8a2c0",
   "metadata": {},
   "source": [
    "## Code Cell #2: Sample Sepsis and Non-Sepsis Stays for Cohort Building"
   ]
  },
  {
   "cell_type": "code",
   "execution_count": 2,
   "id": "be5d3491",
   "metadata": {},
   "outputs": [
    {
     "name": "stdout",
     "output_type": "stream",
     "text": [
      "Cohort shape: (20000, 9)\n",
      "Breakdown (sepsis label counts):\n",
      "sepsis\n",
      "1    10000\n",
      "0    10000\n",
      "Name: count, dtype: int64\n"
     ]
    },
    {
     "data": {
      "text/html": [
       "<div>\n",
       "<style scoped>\n",
       "    .dataframe tbody tr th:only-of-type {\n",
       "        vertical-align: middle;\n",
       "    }\n",
       "\n",
       "    .dataframe tbody tr th {\n",
       "        vertical-align: top;\n",
       "    }\n",
       "\n",
       "    .dataframe thead th {\n",
       "        text-align: right;\n",
       "    }\n",
       "</style>\n",
       "<table border=\"1\" class=\"dataframe\">\n",
       "  <thead>\n",
       "    <tr style=\"text-align: right;\">\n",
       "      <th></th>\n",
       "      <th>subject_id</th>\n",
       "      <th>hadm_id</th>\n",
       "      <th>stay_id</th>\n",
       "      <th>first_careunit</th>\n",
       "      <th>last_careunit</th>\n",
       "      <th>intime</th>\n",
       "      <th>outtime</th>\n",
       "      <th>los</th>\n",
       "      <th>sepsis</th>\n",
       "    </tr>\n",
       "  </thead>\n",
       "  <tbody>\n",
       "    <tr>\n",
       "      <th>0</th>\n",
       "      <td>19814315</td>\n",
       "      <td>23120714</td>\n",
       "      <td>33718823</td>\n",
       "      <td>Cardiac Vascular Intensive Care Unit (CVICU)</td>\n",
       "      <td>Cardiac Vascular Intensive Care Unit (CVICU)</td>\n",
       "      <td>2169-03-24 02:12:55</td>\n",
       "      <td>2169-03-25 06:35:19</td>\n",
       "      <td>1.182222</td>\n",
       "      <td>1</td>\n",
       "    </tr>\n",
       "    <tr>\n",
       "      <th>1</th>\n",
       "      <td>12160186</td>\n",
       "      <td>23741939</td>\n",
       "      <td>34251984</td>\n",
       "      <td>Coronary Care Unit (CCU)</td>\n",
       "      <td>Coronary Care Unit (CCU)</td>\n",
       "      <td>2114-05-30 02:20:05</td>\n",
       "      <td>2114-05-31 12:02:59</td>\n",
       "      <td>1.404792</td>\n",
       "      <td>1</td>\n",
       "    </tr>\n",
       "    <tr>\n",
       "      <th>2</th>\n",
       "      <td>13744193</td>\n",
       "      <td>25431144</td>\n",
       "      <td>33266608</td>\n",
       "      <td>Cardiac Vascular Intensive Care Unit (CVICU)</td>\n",
       "      <td>Cardiac Vascular Intensive Care Unit (CVICU)</td>\n",
       "      <td>2156-05-05 13:55:50</td>\n",
       "      <td>2156-05-06 17:19:52</td>\n",
       "      <td>1.141690</td>\n",
       "      <td>1</td>\n",
       "    </tr>\n",
       "    <tr>\n",
       "      <th>3</th>\n",
       "      <td>13236821</td>\n",
       "      <td>24609043</td>\n",
       "      <td>36184400</td>\n",
       "      <td>Cardiac Vascular Intensive Care Unit (CVICU)</td>\n",
       "      <td>Cardiac Vascular Intensive Care Unit (CVICU)</td>\n",
       "      <td>2164-08-31 18:36:28</td>\n",
       "      <td>2164-09-05 17:44:37</td>\n",
       "      <td>4.963993</td>\n",
       "      <td>1</td>\n",
       "    </tr>\n",
       "    <tr>\n",
       "      <th>4</th>\n",
       "      <td>12606826</td>\n",
       "      <td>29633459</td>\n",
       "      <td>30740859</td>\n",
       "      <td>Medical Intensive Care Unit (MICU)</td>\n",
       "      <td>Medical Intensive Care Unit (MICU)</td>\n",
       "      <td>2130-04-29 17:55:00</td>\n",
       "      <td>2130-05-09 10:37:37</td>\n",
       "      <td>9.696262</td>\n",
       "      <td>1</td>\n",
       "    </tr>\n",
       "  </tbody>\n",
       "</table>\n",
       "</div>"
      ],
      "text/plain": [
       "   subject_id   hadm_id   stay_id  \\\n",
       "0    19814315  23120714  33718823   \n",
       "1    12160186  23741939  34251984   \n",
       "2    13744193  25431144  33266608   \n",
       "3    13236821  24609043  36184400   \n",
       "4    12606826  29633459  30740859   \n",
       "\n",
       "                                 first_careunit  \\\n",
       "0  Cardiac Vascular Intensive Care Unit (CVICU)   \n",
       "1                      Coronary Care Unit (CCU)   \n",
       "2  Cardiac Vascular Intensive Care Unit (CVICU)   \n",
       "3  Cardiac Vascular Intensive Care Unit (CVICU)   \n",
       "4            Medical Intensive Care Unit (MICU)   \n",
       "\n",
       "                                  last_careunit               intime  \\\n",
       "0  Cardiac Vascular Intensive Care Unit (CVICU)  2169-03-24 02:12:55   \n",
       "1                      Coronary Care Unit (CCU)  2114-05-30 02:20:05   \n",
       "2  Cardiac Vascular Intensive Care Unit (CVICU)  2156-05-05 13:55:50   \n",
       "3  Cardiac Vascular Intensive Care Unit (CVICU)  2164-08-31 18:36:28   \n",
       "4            Medical Intensive Care Unit (MICU)  2130-04-29 17:55:00   \n",
       "\n",
       "               outtime       los  sepsis  \n",
       "0  2169-03-25 06:35:19  1.182222       1  \n",
       "1  2114-05-31 12:02:59  1.404792       1  \n",
       "2  2156-05-06 17:19:52  1.141690       1  \n",
       "3  2164-09-05 17:44:37  4.963993       1  \n",
       "4  2130-05-09 10:37:37  9.696262       1  "
      ]
     },
     "metadata": {},
     "output_type": "display_data"
    }
   ],
   "source": [
    "#2 - Efficiently sample 10,000 sepsis and 10,000 non-sepsis ICU stays\n",
    "\n",
    "# Set your new sample size\n",
    "n_cases = 10000\n",
    "\n",
    "np.random.seed(42)  # For reproducibility\n",
    "\n",
    "# Sample 10,000 sepsis-positive stays\n",
    "if len(sepsis_stays) < n_cases:\n",
    "    raise ValueError(f\"Not enough sepsis stays! Only {len(sepsis_stays)} found.\")\n",
    "sampled_sepsis_stays = sepsis_stays.sample(n=n_cases, random_state=42)\n",
    "\n",
    "# Identify non-sepsis stays\n",
    "non_sepsis_stays = icustays[~icustays['stay_id'].isin(sepsis_stays['stay_id'])]\n",
    "\n",
    "if len(non_sepsis_stays) < n_cases:\n",
    "    raise ValueError(f\"Not enough non-sepsis stays! Only {len(non_sepsis_stays)} found.\")\n",
    "sampled_nonsepsis_stays = non_sepsis_stays.sample(n=n_cases, random_state=42)\n",
    "\n",
    "# Combine for balanced cohort\n",
    "balanced_cohort = pd.concat([sampled_sepsis_stays, sampled_nonsepsis_stays], ignore_index=True)\n",
    "balanced_cohort['sepsis'] = [1]*n_cases + [0]*n_cases\n",
    "\n",
    "print(f\"Cohort shape: {balanced_cohort.shape}\")\n",
    "print(\"Breakdown (sepsis label counts):\")\n",
    "print(balanced_cohort['sepsis'].value_counts())\n",
    "\n",
    "display(balanced_cohort.head())\n"
   ]
  },
  {
   "cell_type": "markdown",
   "id": "13f57112",
   "metadata": {},
   "source": [
    "## Balanced Case-Control Cohort: The Best of Both Worlds\n",
    "\n",
    "We now have a carefully selected cohort:\n",
    "- **10000 ICU stays with sepsis** (confirmed by ICD diagnosis codes)\n",
    "- **10000 ICU stays without sepsis** (randomly chosen controls)\n",
    "\n",
    "This case-control approach is gold standard for rare event analysis in both clinical epidemiology and machine learning.  \n",
    "It allows us to:\n",
    "- Make fair comparisons between groups,\n",
    "- Explore what distinguishes sepsis from non-sepsis patients,\n",
    "- Build more informative and interpretable prediction models.\n",
    "\n",
    "In full-scale research, you’d often use much larger cohorts, but for EDA, teaching, and prototyping, this balance is ideal.\n",
    "\n",
    "**Next:** We’ll extract and organize the time series vital sign data for these 20000 ICU stays, setting the stage for EDA, visualization, and forecasting!\n"
   ]
  },
  {
   "cell_type": "markdown",
   "id": "bbdb228f",
   "metadata": {},
   "source": [
    "## Code Cell #3: Extract 24hr Vital Signs for the Cohort (OOP Loader)"
   ]
  },
  {
   "cell_type": "code",
   "execution_count": 3,
   "id": "2d64a3d3",
   "metadata": {},
   "outputs": [
    {
     "name": "stdout",
     "output_type": "stream",
     "text": [
      "Extracted vital sign rows: 3317788\n"
     ]
    },
    {
     "data": {
      "text/html": [
       "<div>\n",
       "<style scoped>\n",
       "    .dataframe tbody tr th:only-of-type {\n",
       "        vertical-align: middle;\n",
       "    }\n",
       "\n",
       "    .dataframe tbody tr th {\n",
       "        vertical-align: top;\n",
       "    }\n",
       "\n",
       "    .dataframe thead th {\n",
       "        text-align: right;\n",
       "    }\n",
       "</style>\n",
       "<table border=\"1\" class=\"dataframe\">\n",
       "  <thead>\n",
       "    <tr style=\"text-align: right;\">\n",
       "      <th></th>\n",
       "      <th>subject_id</th>\n",
       "      <th>hadm_id</th>\n",
       "      <th>stay_id</th>\n",
       "      <th>caregiver_id</th>\n",
       "      <th>charttime</th>\n",
       "      <th>storetime</th>\n",
       "      <th>itemid</th>\n",
       "      <th>value</th>\n",
       "      <th>valuenum</th>\n",
       "      <th>valueuom</th>\n",
       "      <th>warning</th>\n",
       "      <th>intime</th>\n",
       "      <th>hours_from_admit</th>\n",
       "    </tr>\n",
       "  </thead>\n",
       "  <tbody>\n",
       "    <tr>\n",
       "      <th>0</th>\n",
       "      <td>10001843</td>\n",
       "      <td>26133978</td>\n",
       "      <td>39698942</td>\n",
       "      <td>25744.0</td>\n",
       "      <td>2134-12-06 07:00:00</td>\n",
       "      <td>2134-12-06 10:06:00</td>\n",
       "      <td>220045</td>\n",
       "      <td>129</td>\n",
       "      <td>129.0</td>\n",
       "      <td>bpm</td>\n",
       "      <td>0.0</td>\n",
       "      <td>2134-12-05 18:50:03</td>\n",
       "      <td>12.165833</td>\n",
       "    </tr>\n",
       "    <tr>\n",
       "      <th>1</th>\n",
       "      <td>10001843</td>\n",
       "      <td>26133978</td>\n",
       "      <td>39698942</td>\n",
       "      <td>25744.0</td>\n",
       "      <td>2134-12-06 07:00:00</td>\n",
       "      <td>2134-12-06 10:06:00</td>\n",
       "      <td>220210</td>\n",
       "      <td>18</td>\n",
       "      <td>18.0</td>\n",
       "      <td>insp/min</td>\n",
       "      <td>0.0</td>\n",
       "      <td>2134-12-05 18:50:03</td>\n",
       "      <td>12.165833</td>\n",
       "    </tr>\n",
       "    <tr>\n",
       "      <th>2</th>\n",
       "      <td>10001843</td>\n",
       "      <td>26133978</td>\n",
       "      <td>39698942</td>\n",
       "      <td>25744.0</td>\n",
       "      <td>2134-12-06 07:02:00</td>\n",
       "      <td>2134-12-06 10:06:00</td>\n",
       "      <td>220179</td>\n",
       "      <td>72</td>\n",
       "      <td>72.0</td>\n",
       "      <td>mmHg</td>\n",
       "      <td>0.0</td>\n",
       "      <td>2134-12-05 18:50:03</td>\n",
       "      <td>12.199167</td>\n",
       "    </tr>\n",
       "    <tr>\n",
       "      <th>3</th>\n",
       "      <td>10001843</td>\n",
       "      <td>26133978</td>\n",
       "      <td>39698942</td>\n",
       "      <td>25744.0</td>\n",
       "      <td>2134-12-06 07:02:00</td>\n",
       "      <td>2134-12-06 10:06:00</td>\n",
       "      <td>220180</td>\n",
       "      <td>27</td>\n",
       "      <td>27.0</td>\n",
       "      <td>mmHg</td>\n",
       "      <td>0.0</td>\n",
       "      <td>2134-12-05 18:50:03</td>\n",
       "      <td>12.199167</td>\n",
       "    </tr>\n",
       "    <tr>\n",
       "      <th>4</th>\n",
       "      <td>10001843</td>\n",
       "      <td>26133978</td>\n",
       "      <td>39698942</td>\n",
       "      <td>25744.0</td>\n",
       "      <td>2134-12-06 07:02:00</td>\n",
       "      <td>2134-12-06 10:06:00</td>\n",
       "      <td>220181</td>\n",
       "      <td>34</td>\n",
       "      <td>34.0</td>\n",
       "      <td>mmHg</td>\n",
       "      <td>0.0</td>\n",
       "      <td>2134-12-05 18:50:03</td>\n",
       "      <td>12.199167</td>\n",
       "    </tr>\n",
       "    <tr>\n",
       "      <th>5</th>\n",
       "      <td>10001843</td>\n",
       "      <td>26133978</td>\n",
       "      <td>39698942</td>\n",
       "      <td>25744.0</td>\n",
       "      <td>2134-12-06 07:11:00</td>\n",
       "      <td>2134-12-06 10:06:00</td>\n",
       "      <td>220277</td>\n",
       "      <td>84</td>\n",
       "      <td>84.0</td>\n",
       "      <td>%</td>\n",
       "      <td>0.0</td>\n",
       "      <td>2134-12-05 18:50:03</td>\n",
       "      <td>12.349167</td>\n",
       "    </tr>\n",
       "    <tr>\n",
       "      <th>6</th>\n",
       "      <td>10001843</td>\n",
       "      <td>26133978</td>\n",
       "      <td>39698942</td>\n",
       "      <td>25744.0</td>\n",
       "      <td>2134-12-06 08:00:00</td>\n",
       "      <td>2134-12-06 10:06:00</td>\n",
       "      <td>220045</td>\n",
       "      <td>136</td>\n",
       "      <td>136.0</td>\n",
       "      <td>bpm</td>\n",
       "      <td>0.0</td>\n",
       "      <td>2134-12-05 18:50:03</td>\n",
       "      <td>13.165833</td>\n",
       "    </tr>\n",
       "    <tr>\n",
       "      <th>7</th>\n",
       "      <td>10001843</td>\n",
       "      <td>26133978</td>\n",
       "      <td>39698942</td>\n",
       "      <td>25744.0</td>\n",
       "      <td>2134-12-06 08:00:00</td>\n",
       "      <td>2134-12-06 10:06:00</td>\n",
       "      <td>220210</td>\n",
       "      <td>25</td>\n",
       "      <td>25.0</td>\n",
       "      <td>insp/min</td>\n",
       "      <td>0.0</td>\n",
       "      <td>2134-12-05 18:50:03</td>\n",
       "      <td>13.165833</td>\n",
       "    </tr>\n",
       "    <tr>\n",
       "      <th>8</th>\n",
       "      <td>10001843</td>\n",
       "      <td>26133978</td>\n",
       "      <td>39698942</td>\n",
       "      <td>25744.0</td>\n",
       "      <td>2134-12-06 08:01:00</td>\n",
       "      <td>2134-12-06 10:06:00</td>\n",
       "      <td>220179</td>\n",
       "      <td>87</td>\n",
       "      <td>87.0</td>\n",
       "      <td>mmHg</td>\n",
       "      <td>0.0</td>\n",
       "      <td>2134-12-05 18:50:03</td>\n",
       "      <td>13.182500</td>\n",
       "    </tr>\n",
       "    <tr>\n",
       "      <th>9</th>\n",
       "      <td>10001843</td>\n",
       "      <td>26133978</td>\n",
       "      <td>39698942</td>\n",
       "      <td>25744.0</td>\n",
       "      <td>2134-12-06 08:01:00</td>\n",
       "      <td>2134-12-06 10:06:00</td>\n",
       "      <td>220180</td>\n",
       "      <td>65</td>\n",
       "      <td>65.0</td>\n",
       "      <td>mmHg</td>\n",
       "      <td>0.0</td>\n",
       "      <td>2134-12-05 18:50:03</td>\n",
       "      <td>13.182500</td>\n",
       "    </tr>\n",
       "  </tbody>\n",
       "</table>\n",
       "</div>"
      ],
      "text/plain": [
       "   subject_id   hadm_id   stay_id  caregiver_id           charttime  \\\n",
       "0    10001843  26133978  39698942       25744.0 2134-12-06 07:00:00   \n",
       "1    10001843  26133978  39698942       25744.0 2134-12-06 07:00:00   \n",
       "2    10001843  26133978  39698942       25744.0 2134-12-06 07:02:00   \n",
       "3    10001843  26133978  39698942       25744.0 2134-12-06 07:02:00   \n",
       "4    10001843  26133978  39698942       25744.0 2134-12-06 07:02:00   \n",
       "5    10001843  26133978  39698942       25744.0 2134-12-06 07:11:00   \n",
       "6    10001843  26133978  39698942       25744.0 2134-12-06 08:00:00   \n",
       "7    10001843  26133978  39698942       25744.0 2134-12-06 08:00:00   \n",
       "8    10001843  26133978  39698942       25744.0 2134-12-06 08:01:00   \n",
       "9    10001843  26133978  39698942       25744.0 2134-12-06 08:01:00   \n",
       "\n",
       "             storetime  itemid value  valuenum  valueuom  warning  \\\n",
       "0  2134-12-06 10:06:00  220045   129     129.0       bpm      0.0   \n",
       "1  2134-12-06 10:06:00  220210    18      18.0  insp/min      0.0   \n",
       "2  2134-12-06 10:06:00  220179    72      72.0      mmHg      0.0   \n",
       "3  2134-12-06 10:06:00  220180    27      27.0      mmHg      0.0   \n",
       "4  2134-12-06 10:06:00  220181    34      34.0      mmHg      0.0   \n",
       "5  2134-12-06 10:06:00  220277    84      84.0         %      0.0   \n",
       "6  2134-12-06 10:06:00  220045   136     136.0       bpm      0.0   \n",
       "7  2134-12-06 10:06:00  220210    25      25.0  insp/min      0.0   \n",
       "8  2134-12-06 10:06:00  220179    87      87.0      mmHg      0.0   \n",
       "9  2134-12-06 10:06:00  220180    65      65.0      mmHg      0.0   \n",
       "\n",
       "               intime  hours_from_admit  \n",
       "0 2134-12-05 18:50:03         12.165833  \n",
       "1 2134-12-05 18:50:03         12.165833  \n",
       "2 2134-12-05 18:50:03         12.199167  \n",
       "3 2134-12-05 18:50:03         12.199167  \n",
       "4 2134-12-05 18:50:03         12.199167  \n",
       "5 2134-12-05 18:50:03         12.349167  \n",
       "6 2134-12-05 18:50:03         13.165833  \n",
       "7 2134-12-05 18:50:03         13.165833  \n",
       "8 2134-12-05 18:50:03         13.182500  \n",
       "9 2134-12-05 18:50:03         13.182500  "
      ]
     },
     "metadata": {},
     "output_type": "display_data"
    }
   ],
   "source": [
    "#3 - Extract 24hr vital signs for the balanced cohort\n",
    "\n",
    "chartevents_fp = os.path.join(ICU_PATH, 'chartevents.csv.gz')\n",
    "d_items_fp = os.path.join(ICU_PATH, 'd_items.csv.gz')\n",
    "\n",
    "# Vital sign itemids dictionary\n",
    "VITAL_SIGNS = {\n",
    "    \"heart_rate\": [220045],\n",
    "    \"sbp\": [220050, 220179],    # Arterial and Non-Invasive Systolic BP\n",
    "    \"dbp\": [220051, 220180],    # Arterial and Non-Invasive Diastolic BP\n",
    "    \"mbp\": [220052, 220181],    # Arterial and Non-Invasive Mean BP\n",
    "    \"temperature\": [223761, 223762], # Celsius and Fahrenheit\n",
    "    \"resp_rate\": [220210],\n",
    "    \"spo2\": [220277, 228232]\n",
    "}\n",
    "vital_itemids = list(set([item for sublist in VITAL_SIGNS.values() for item in sublist]))\n",
    "\n",
    "class VitalSignsLoader:\n",
    "    def __init__(self, chartevents_fp, icustays_df, itemids):\n",
    "        self.chartevents_fp = chartevents_fp\n",
    "        self.icustays_df = icustays_df\n",
    "        self.itemids = itemids\n",
    "\n",
    "    def load_vitals(self, stay_ids, hours=24):\n",
    "        chunksize = 10 ** 6\n",
    "        vitals = []\n",
    "        for chunk in pd.read_csv(self.chartevents_fp, chunksize=chunksize):\n",
    "            mask = chunk['stay_id'].isin(stay_ids) & chunk['itemid'].isin(self.itemids)\n",
    "            vitals.append(chunk.loc[mask])\n",
    "        vitals_df = pd.concat(vitals, ignore_index=True)\n",
    "        stay_times = self.icustays_df.set_index('stay_id')[['intime']]\n",
    "        vitals_df = vitals_df.merge(stay_times, on='stay_id', how='left')\n",
    "        vitals_df['charttime'] = pd.to_datetime(vitals_df['charttime'])\n",
    "        vitals_df['intime'] = pd.to_datetime(vitals_df['intime'])\n",
    "        vitals_df['hours_from_admit'] = (vitals_df['charttime'] - vitals_df['intime']).dt.total_seconds() / 3600.0\n",
    "        vitals_df = vitals_df[vitals_df['hours_from_admit'] <= hours]\n",
    "        return vitals_df\n",
    "\n",
    "# Use only our selected cohort stays\n",
    "cohort_stay_ids = balanced_cohort['stay_id'].tolist()\n",
    "loader = VitalSignsLoader(chartevents_fp, balanced_cohort, vital_itemids)\n",
    "vitals_24hr = loader.load_vitals(cohort_stay_ids, hours=24)\n",
    "\n",
    "print(f\"Extracted vital sign rows: {vitals_24hr.shape[0]}\")\n",
    "display(vitals_24hr.head(10))\n"
   ]
  },
  {
   "cell_type": "markdown",
   "id": "d709324b",
   "metadata": {},
   "source": [
    "## Extracted Vital Signs: Raw Signals for Clinical Prediction\n",
    "\n",
    "We’ve now efficiently extracted all bedside vital signs from the first 24 hours for our case-control cohort.  \n",
    "Each row here is a **single measurement** (e.g., heart rate, blood pressure, SpO₂), and each is:\n",
    "- Linked to a unique ICU stay (`stay_id`), patient, and timestamp.\n",
    "- Ready for EDA and transformation into features for time series forecasting.\n",
    "\n",
    "\n",
    "**Next:** Let’s tidy this dataset, by mapping cryptic itemids to human-readable names, and set it up for exploratory analysis and visualization!\n"
   ]
  },
  {
   "cell_type": "markdown",
   "id": "3abdcaeb",
   "metadata": {},
   "source": [
    "## Code Cell #4: Map ItemIDs to Human-Readable Vital Names, Tidy the Data"
   ]
  },
  {
   "cell_type": "code",
   "execution_count": 4,
   "id": "e9e7dbab",
   "metadata": {},
   "outputs": [
    {
     "name": "stdout",
     "output_type": "stream",
     "text": [
      "First 10 tidy records for our cohort:\n"
     ]
    },
    {
     "data": {
      "text/html": [
       "<div>\n",
       "<style scoped>\n",
       "    .dataframe tbody tr th:only-of-type {\n",
       "        vertical-align: middle;\n",
       "    }\n",
       "\n",
       "    .dataframe tbody tr th {\n",
       "        vertical-align: top;\n",
       "    }\n",
       "\n",
       "    .dataframe thead th {\n",
       "        text-align: right;\n",
       "    }\n",
       "</style>\n",
       "<table border=\"1\" class=\"dataframe\">\n",
       "  <thead>\n",
       "    <tr style=\"text-align: right;\">\n",
       "      <th></th>\n",
       "      <th>stay_id</th>\n",
       "      <th>charttime</th>\n",
       "      <th>variable</th>\n",
       "      <th>valuenum</th>\n",
       "      <th>valueuom</th>\n",
       "      <th>hours_from_admit</th>\n",
       "    </tr>\n",
       "  </thead>\n",
       "  <tbody>\n",
       "    <tr>\n",
       "      <th>0</th>\n",
       "      <td>39698942</td>\n",
       "      <td>2134-12-06 07:00:00</td>\n",
       "      <td>heart_rate</td>\n",
       "      <td>129.0</td>\n",
       "      <td>bpm</td>\n",
       "      <td>12.165833</td>\n",
       "    </tr>\n",
       "    <tr>\n",
       "      <th>1</th>\n",
       "      <td>39698942</td>\n",
       "      <td>2134-12-06 07:00:00</td>\n",
       "      <td>resp_rate</td>\n",
       "      <td>18.0</td>\n",
       "      <td>insp/min</td>\n",
       "      <td>12.165833</td>\n",
       "    </tr>\n",
       "    <tr>\n",
       "      <th>2</th>\n",
       "      <td>39698942</td>\n",
       "      <td>2134-12-06 07:02:00</td>\n",
       "      <td>sbp</td>\n",
       "      <td>72.0</td>\n",
       "      <td>mmHg</td>\n",
       "      <td>12.199167</td>\n",
       "    </tr>\n",
       "    <tr>\n",
       "      <th>3</th>\n",
       "      <td>39698942</td>\n",
       "      <td>2134-12-06 07:02:00</td>\n",
       "      <td>dbp</td>\n",
       "      <td>27.0</td>\n",
       "      <td>mmHg</td>\n",
       "      <td>12.199167</td>\n",
       "    </tr>\n",
       "    <tr>\n",
       "      <th>4</th>\n",
       "      <td>39698942</td>\n",
       "      <td>2134-12-06 07:02:00</td>\n",
       "      <td>mbp</td>\n",
       "      <td>34.0</td>\n",
       "      <td>mmHg</td>\n",
       "      <td>12.199167</td>\n",
       "    </tr>\n",
       "    <tr>\n",
       "      <th>5</th>\n",
       "      <td>39698942</td>\n",
       "      <td>2134-12-06 07:11:00</td>\n",
       "      <td>spo2</td>\n",
       "      <td>84.0</td>\n",
       "      <td>%</td>\n",
       "      <td>12.349167</td>\n",
       "    </tr>\n",
       "    <tr>\n",
       "      <th>6</th>\n",
       "      <td>39698942</td>\n",
       "      <td>2134-12-06 08:00:00</td>\n",
       "      <td>heart_rate</td>\n",
       "      <td>136.0</td>\n",
       "      <td>bpm</td>\n",
       "      <td>13.165833</td>\n",
       "    </tr>\n",
       "    <tr>\n",
       "      <th>7</th>\n",
       "      <td>39698942</td>\n",
       "      <td>2134-12-06 08:00:00</td>\n",
       "      <td>resp_rate</td>\n",
       "      <td>25.0</td>\n",
       "      <td>insp/min</td>\n",
       "      <td>13.165833</td>\n",
       "    </tr>\n",
       "    <tr>\n",
       "      <th>8</th>\n",
       "      <td>39698942</td>\n",
       "      <td>2134-12-06 08:01:00</td>\n",
       "      <td>sbp</td>\n",
       "      <td>87.0</td>\n",
       "      <td>mmHg</td>\n",
       "      <td>13.182500</td>\n",
       "    </tr>\n",
       "    <tr>\n",
       "      <th>9</th>\n",
       "      <td>39698942</td>\n",
       "      <td>2134-12-06 08:01:00</td>\n",
       "      <td>dbp</td>\n",
       "      <td>65.0</td>\n",
       "      <td>mmHg</td>\n",
       "      <td>13.182500</td>\n",
       "    </tr>\n",
       "  </tbody>\n",
       "</table>\n",
       "</div>"
      ],
      "text/plain": [
       "    stay_id           charttime    variable  valuenum  valueuom  \\\n",
       "0  39698942 2134-12-06 07:00:00  heart_rate     129.0       bpm   \n",
       "1  39698942 2134-12-06 07:00:00   resp_rate      18.0  insp/min   \n",
       "2  39698942 2134-12-06 07:02:00         sbp      72.0      mmHg   \n",
       "3  39698942 2134-12-06 07:02:00         dbp      27.0      mmHg   \n",
       "4  39698942 2134-12-06 07:02:00         mbp      34.0      mmHg   \n",
       "5  39698942 2134-12-06 07:11:00        spo2      84.0         %   \n",
       "6  39698942 2134-12-06 08:00:00  heart_rate     136.0       bpm   \n",
       "7  39698942 2134-12-06 08:00:00   resp_rate      25.0  insp/min   \n",
       "8  39698942 2134-12-06 08:01:00         sbp      87.0      mmHg   \n",
       "9  39698942 2134-12-06 08:01:00         dbp      65.0      mmHg   \n",
       "\n",
       "   hours_from_admit  \n",
       "0         12.165833  \n",
       "1         12.165833  \n",
       "2         12.199167  \n",
       "3         12.199167  \n",
       "4         12.199167  \n",
       "5         12.349167  \n",
       "6         13.165833  \n",
       "7         13.165833  \n",
       "8         13.182500  \n",
       "9         13.182500  "
      ]
     },
     "metadata": {},
     "output_type": "display_data"
    }
   ],
   "source": [
    "#4 - Map itemids to variable names, create a tidy dataframe for EDA\n",
    "\n",
    "# Build the itemid-to-variable mapping\n",
    "itemid_to_var = {}\n",
    "for var, ids in VITAL_SIGNS.items():\n",
    "    for id_ in ids:\n",
    "        itemid_to_var[id_] = var\n",
    "\n",
    "# Add the variable name to the dataframe\n",
    "vitals_24hr['variable'] = vitals_24hr['itemid'].map(itemid_to_var)\n",
    "\n",
    "# Keep only the columns needed for EDA and modeling\n",
    "vitals_eda = vitals_24hr[['stay_id', 'charttime', 'variable', 'valuenum', 'valueuom', 'hours_from_admit']].copy()\n",
    "\n",
    "print(\"First 10 tidy records for our cohort:\")\n",
    "display(vitals_eda.head(10))\n"
   ]
  },
  {
   "cell_type": "markdown",
   "id": "e2e49f25",
   "metadata": {},
   "source": [
    "## Tidy ICU Time Series: The Foundation for Modern Data Science\n",
    "\n",
    "Now our vital sign data is **tidy**:  \n",
    "- Each row = a single measurement (with time, stay ID, and variable name)\n",
    "- Each variable is clearly labeled (no more cryptic itemids!)\n",
    "- Ready for visualization, feature engineering, and machine learning\n",
    "\n",
    "**Why is this so important?**  \n",
    "Tidy data makes it easy to:\n",
    "- Filter by variable, time, or patient\n",
    "- Pivot from long to wide formats for model input\n",
    "- Aggregate, plot, and summarize at any level\n",
    "\n"
   ]
  },
  {
   "cell_type": "markdown",
   "id": "c5cd45cc",
   "metadata": {},
   "source": [
    "## Code Cell #5: Summarize and Visualize Missingness & Distribution"
   ]
  },
  {
   "cell_type": "code",
   "execution_count": 5,
   "id": "25c12ebb",
   "metadata": {
    "scrolled": true
   },
   "outputs": [
    {
     "name": "stdout",
     "output_type": "stream",
     "text": [
      "Fraction of ICU stays missing each vital sign in first 24h:\n"
     ]
    },
    {
     "data": {
      "text/plain": [
       "variable\n",
       "temperature    0.026466\n",
       "dbp            0.007104\n",
       "sbp            0.007054\n",
       "mbp            0.006904\n",
       "spo2           0.002001\n",
       "resp_rate      0.001451\n",
       "heart_rate     0.000000\n",
       "dtype: float64"
      ]
     },
     "metadata": {},
     "output_type": "display_data"
    },
    {
     "data": {
      "image/png": "[encoded data removed]",
      "text/plain": [
       "<Figure size 432x144 with 1 Axes>"
      ]
     },
     "metadata": {
      "needs_background": "light"
     },
     "output_type": "display_data"
    },
    {
     "data": {
      "image/png": "[encoded data removed]",
      "text/plain": [
       "<Figure size 432x144 with 1 Axes>"
      ]
     },
     "metadata": {
      "needs_background": "light"
     },
     "output_type": "display_data"
    },
    {
     "data": {
      "image/png": "[encoded data removed]",
      "text/plain": [
       "<Figure size 432x144 with 1 Axes>"
      ]
     },
     "metadata": {
      "needs_background": "light"
     },
     "output_type": "display_data"
    },
    {
     "data": {
      "image/png": "[encoded data removed]",
      "text/plain": [
       "<Figure size 432x144 with 1 Axes>"
      ]
     },
     "metadata": {
      "needs_background": "light"
     },
     "output_type": "display_data"
    },
    {
     "data": {
      "image/png": "[encoded data removed]",
      "text/plain": [
       "<Figure size 432x144 with 1 Axes>"
      ]
     },
     "metadata": {
      "needs_background": "light"
     },
     "output_type": "display_data"
    },
    {
     "data": {
      "image/png": "[encoded data removed]",
      "text/plain": [
       "<Figure size 432x144 with 1 Axes>"
      ]
     },
     "metadata": {
      "needs_background": "light"
     },
     "output_type": "display_data"
    },
    {
     "data": {
      "image/png": "[encoded data removed]",
      "text/plain": [
       "<Figure size 432x144 with 1 Axes>"
      ]
     },
     "metadata": {
      "needs_background": "light"
     },
     "output_type": "display_data"
    }
   ],
   "source": [
    "# 5. Summary statistics and missingness per vital sign, plus distribution plots\n",
    "\n",
    "import matplotlib.pyplot as plt\n",
    "import seaborn as sns\n",
    "\n",
    "# Pivot for easy summary\n",
    "pivot_vitals = vitals_eda.pivot_table(index='stay_id', columns='variable', values='valuenum', aggfunc='count')\n",
    "missing_summary = pivot_vitals.isna().mean().sort_values(ascending=False)\n",
    "\n",
    "print(\"Fraction of ICU stays missing each vital sign in first 24h:\")\n",
    "display(missing_summary)\n",
    "\n",
    "# Simple distribution plot for each variable (first 24h, all measurements pooled)\n",
    "for var in VITAL_SIGNS.keys():\n",
    "    plt.figure(figsize=(6,2))\n",
    "    sns.histplot(vitals_eda[vitals_eda['variable']==var]['valuenum'].dropna(), bins=50, kde=True)\n",
    "    plt.title(f\"{var.replace('_',' ').title()} - All 24h Measurements\")\n",
    "    plt.xlabel(\"Value\")\n",
    "    plt.ylabel(\"Frequency\")\n",
    "    plt.show()\n"
   ]
  },
  {
   "cell_type": "markdown",
   "id": "1e6ef46b",
   "metadata": {},
   "source": [
    "## Data Exploration: Missingness and Distribution of ICU Vital Signs\n",
    "\n",
    "Before modeling or forecasting, it's critical to explore and understand the completeness and distribution of our data.\n",
    "\n",
    "### 1. **Missingness Patterns**\n",
    "\n",
    "- **Fraction of ICU stays missing each vital sign in the first 24 hours:**\n",
    "\n",
    "  | Vital Sign   | % of Stays Missing |\n",
    "  |--------------|-------------------|\n",
    "  | temperature  | 2.6%              |\n",
    "  | dbp          | 0.7%              |\n",
    "  | sbp          | 0.7%              |\n",
    "  | mbp          | 0.7%              |\n",
    "  | spo2         | 0.2%              |\n",
    "  | resp_rate    | 0.1%              |\n",
    "  | heart_rate   | 0%                |\n",
    "\n",
    "  This means heart rate is almost always recorded, but temperature is missing in about 1 out of every 40 ICU stays, and blood pressures are also occasionally missing. This pattern is typical in real-world ICU data and reflects differences in clinical workflows, measurement frequency, and technical/device issues.\n",
    "\n",
    "  > **Best Practice:**  \n",
    "  Handling missing data is a key part of building reliable predictive models with EHR and ICU time series. According to Che et al. (2018), careful imputation or modeling of missingness is essential, since naive handling can introduce bias or reduce performance [[1]](https://www.nature.com/articles/s41598-018-24271-9).\n",
    "\n",
    "### 2. **Distribution and Outliers**\n",
    "\n",
    "- The histograms above show the distribution of each vital sign across all 24-hour measurements in our cohort.  \n",
    "- **Notice:** Some values are physiologically impossible or highly implausible (e.g., heart rates over 800, negative or huge blood pressures, SpO₂ > 100, etc.).\n",
    "- This is **very common in EHR/ICU data** and typically results from device errors, manual entry mistakes, or artifacts (see Johnson et al. 2016 [[2]](https://www.nature.com/articles/sdata201635)).\n",
    "\n",
    "  > **Educational Point:**  \n",
    "  The presence of these outliers is a real-world data challenge, not a bug in your code! They must be addressed before modeling, as outliers can heavily distort statistics, machine learning models, and clinical interpretation.\n",
    "\n",
    "### **Next Step**\n",
    "\n",
    "We will **clean** these variables by capping or removing physiologically impossible values, then **regularize** the time series to one measurement per hour for each vital sign, this is the foundation for building robust, interpretable time series models for sepsis prediction.\n",
    "\n",
    "---\n",
    "\n",
    "**References:**\n",
    "\n",
    "1. Che, Z., Purushotham, S., Cho, K., Sontag, D., & Liu, Y. (2018). \"Recurrent Neural Networks for Multivariate Time Series with Missing Values.\" *Scientific Reports*, 8, 6085. [https://www.nature.com/articles/s41598-018-24271-9](https://www.nature.com/articles/s41598-018-24271-9)  \n",
    "2. Johnson, A. E. W., Pollard, T. J., et al. (2016). \"MIMIC-III, a freely accessible critical care database.\" *Scientific Data*, 3, 160035. [https://www.nature.com/articles/sdata201635](https://www.nature.com/articles/sdata201635)\n"
   ]
  },
  {
   "cell_type": "markdown",
   "id": "ad2e8f5c",
   "metadata": {},
   "source": [
    "## Code Cell #6: Outlier Filtering and Hourly Regularization"
   ]
  },
  {
   "cell_type": "code",
   "execution_count": 6,
   "id": "b04999e3",
   "metadata": {},
   "outputs": [
    {
     "name": "stdout",
     "output_type": "stream",
     "text": [
      "Hourly vital signs (after outlier clipping & regularization):\n"
     ]
    },
    {
     "name": "stderr",
     "output_type": "stream",
     "text": [
      "/tmp/ipykernel_65370/493619801.py:39: FutureWarning: DataFrameGroupBy.apply operated on the grouping columns. This behavior is deprecated, and in a future version of pandas the grouping columns will be excluded from the operation. Either pass `include_groups=False` to exclude the groupings or explicitly select the grouping columns after groupby to silence this warning.\n",
      "  hourly_vitals = df_long.groupby('stay_id').apply(resample_hourly).reset_index(drop=True)\n"
     ]
    },
    {
     "data": {
      "text/html": [
       "<div>\n",
       "<style scoped>\n",
       "    .dataframe tbody tr th:only-of-type {\n",
       "        vertical-align: middle;\n",
       "    }\n",
       "\n",
       "    .dataframe tbody tr th {\n",
       "        vertical-align: top;\n",
       "    }\n",
       "\n",
       "    .dataframe thead th {\n",
       "        text-align: right;\n",
       "    }\n",
       "</style>\n",
       "<table border=\"1\" class=\"dataframe\">\n",
       "  <thead>\n",
       "    <tr style=\"text-align: right;\">\n",
       "      <th>variable</th>\n",
       "      <th>hour</th>\n",
       "      <th>stay_id</th>\n",
       "      <th>charttime</th>\n",
       "      <th>dbp</th>\n",
       "      <th>heart_rate</th>\n",
       "      <th>mbp</th>\n",
       "      <th>resp_rate</th>\n",
       "      <th>sbp</th>\n",
       "      <th>spo2</th>\n",
       "      <th>temperature</th>\n",
       "    </tr>\n",
       "  </thead>\n",
       "  <tbody>\n",
       "    <tr>\n",
       "      <th>0</th>\n",
       "      <td>0</td>\n",
       "      <td>30002498.0</td>\n",
       "      <td>2158-01-23 16:12:00</td>\n",
       "      <td>NaN</td>\n",
       "      <td>81.0</td>\n",
       "      <td>NaN</td>\n",
       "      <td>17.0</td>\n",
       "      <td>NaN</td>\n",
       "      <td>91.0</td>\n",
       "      <td>NaN</td>\n",
       "    </tr>\n",
       "    <tr>\n",
       "      <th>1</th>\n",
       "      <td>1</td>\n",
       "      <td>30002498.0</td>\n",
       "      <td>2158-01-23 17:00:00</td>\n",
       "      <td>81.0</td>\n",
       "      <td>72.0</td>\n",
       "      <td>101.0</td>\n",
       "      <td>16.0</td>\n",
       "      <td>156.0</td>\n",
       "      <td>94.0</td>\n",
       "      <td>43.0</td>\n",
       "    </tr>\n",
       "    <tr>\n",
       "      <th>2</th>\n",
       "      <td>2</td>\n",
       "      <td>30002498.0</td>\n",
       "      <td>2158-01-23 18:00:00</td>\n",
       "      <td>81.0</td>\n",
       "      <td>78.0</td>\n",
       "      <td>93.0</td>\n",
       "      <td>12.0</td>\n",
       "      <td>139.0</td>\n",
       "      <td>92.0</td>\n",
       "      <td>NaN</td>\n",
       "    </tr>\n",
       "    <tr>\n",
       "      <th>3</th>\n",
       "      <td>3</td>\n",
       "      <td>30002498.0</td>\n",
       "      <td>2158-01-23 19:00:00</td>\n",
       "      <td>NaN</td>\n",
       "      <td>86.0</td>\n",
       "      <td>NaN</td>\n",
       "      <td>14.0</td>\n",
       "      <td>NaN</td>\n",
       "      <td>92.0</td>\n",
       "      <td>NaN</td>\n",
       "    </tr>\n",
       "    <tr>\n",
       "      <th>4</th>\n",
       "      <td>4</td>\n",
       "      <td>30002498.0</td>\n",
       "      <td>2158-01-23 20:00:00</td>\n",
       "      <td>79.0</td>\n",
       "      <td>92.0</td>\n",
       "      <td>95.0</td>\n",
       "      <td>26.0</td>\n",
       "      <td>140.0</td>\n",
       "      <td>92.0</td>\n",
       "      <td>43.0</td>\n",
       "    </tr>\n",
       "    <tr>\n",
       "      <th>5</th>\n",
       "      <td>5</td>\n",
       "      <td>30002498.0</td>\n",
       "      <td>2158-01-23 21:00:00</td>\n",
       "      <td>84.0</td>\n",
       "      <td>86.0</td>\n",
       "      <td>97.0</td>\n",
       "      <td>16.0</td>\n",
       "      <td>133.0</td>\n",
       "      <td>93.0</td>\n",
       "      <td>NaN</td>\n",
       "    </tr>\n",
       "    <tr>\n",
       "      <th>6</th>\n",
       "      <td>6</td>\n",
       "      <td>30002498.0</td>\n",
       "      <td>2158-01-23 22:00:00</td>\n",
       "      <td>81.0</td>\n",
       "      <td>80.0</td>\n",
       "      <td>95.0</td>\n",
       "      <td>12.0</td>\n",
       "      <td>135.0</td>\n",
       "      <td>93.0</td>\n",
       "      <td>NaN</td>\n",
       "    </tr>\n",
       "    <tr>\n",
       "      <th>7</th>\n",
       "      <td>7</td>\n",
       "      <td>30002498.0</td>\n",
       "      <td>2158-01-23 23:00:00</td>\n",
       "      <td>83.0</td>\n",
       "      <td>82.0</td>\n",
       "      <td>97.0</td>\n",
       "      <td>20.0</td>\n",
       "      <td>144.0</td>\n",
       "      <td>95.0</td>\n",
       "      <td>NaN</td>\n",
       "    </tr>\n",
       "    <tr>\n",
       "      <th>8</th>\n",
       "      <td>8</td>\n",
       "      <td>30002498.0</td>\n",
       "      <td>2158-01-24 00:00:00</td>\n",
       "      <td>70.0</td>\n",
       "      <td>87.0</td>\n",
       "      <td>85.0</td>\n",
       "      <td>18.0</td>\n",
       "      <td>133.0</td>\n",
       "      <td>91.0</td>\n",
       "      <td>43.0</td>\n",
       "    </tr>\n",
       "    <tr>\n",
       "      <th>9</th>\n",
       "      <td>9</td>\n",
       "      <td>30002498.0</td>\n",
       "      <td>2158-01-24 01:00:00</td>\n",
       "      <td>74.0</td>\n",
       "      <td>85.0</td>\n",
       "      <td>86.0</td>\n",
       "      <td>19.0</td>\n",
       "      <td>131.0</td>\n",
       "      <td>90.0</td>\n",
       "      <td>NaN</td>\n",
       "    </tr>\n",
       "    <tr>\n",
       "      <th>10</th>\n",
       "      <td>10</td>\n",
       "      <td>30002498.0</td>\n",
       "      <td>2158-01-24 02:00:00</td>\n",
       "      <td>86.0</td>\n",
       "      <td>85.0</td>\n",
       "      <td>99.0</td>\n",
       "      <td>15.0</td>\n",
       "      <td>144.0</td>\n",
       "      <td>93.0</td>\n",
       "      <td>NaN</td>\n",
       "    </tr>\n",
       "    <tr>\n",
       "      <th>11</th>\n",
       "      <td>11</td>\n",
       "      <td>30002498.0</td>\n",
       "      <td>2158-01-24 03:00:00</td>\n",
       "      <td>59.0</td>\n",
       "      <td>87.0</td>\n",
       "      <td>74.0</td>\n",
       "      <td>19.0</td>\n",
       "      <td>121.0</td>\n",
       "      <td>92.0</td>\n",
       "      <td>NaN</td>\n",
       "    </tr>\n",
       "  </tbody>\n",
       "</table>\n",
       "</div>"
      ],
      "text/plain": [
       "variable  hour     stay_id           charttime   dbp  heart_rate    mbp  \\\n",
       "0            0  30002498.0 2158-01-23 16:12:00   NaN        81.0    NaN   \n",
       "1            1  30002498.0 2158-01-23 17:00:00  81.0        72.0  101.0   \n",
       "2            2  30002498.0 2158-01-23 18:00:00  81.0        78.0   93.0   \n",
       "3            3  30002498.0 2158-01-23 19:00:00   NaN        86.0    NaN   \n",
       "4            4  30002498.0 2158-01-23 20:00:00  79.0        92.0   95.0   \n",
       "5            5  30002498.0 2158-01-23 21:00:00  84.0        86.0   97.0   \n",
       "6            6  30002498.0 2158-01-23 22:00:00  81.0        80.0   95.0   \n",
       "7            7  30002498.0 2158-01-23 23:00:00  83.0        82.0   97.0   \n",
       "8            8  30002498.0 2158-01-24 00:00:00  70.0        87.0   85.0   \n",
       "9            9  30002498.0 2158-01-24 01:00:00  74.0        85.0   86.0   \n",
       "10          10  30002498.0 2158-01-24 02:00:00  86.0        85.0   99.0   \n",
       "11          11  30002498.0 2158-01-24 03:00:00  59.0        87.0   74.0   \n",
       "\n",
       "variable  resp_rate    sbp  spo2  temperature  \n",
       "0              17.0    NaN  91.0          NaN  \n",
       "1              16.0  156.0  94.0         43.0  \n",
       "2              12.0  139.0  92.0          NaN  \n",
       "3              14.0    NaN  92.0          NaN  \n",
       "4              26.0  140.0  92.0         43.0  \n",
       "5              16.0  133.0  93.0          NaN  \n",
       "6              12.0  135.0  93.0          NaN  \n",
       "7              20.0  144.0  95.0          NaN  \n",
       "8              18.0  133.0  91.0         43.0  \n",
       "9              19.0  131.0  90.0          NaN  \n",
       "10             15.0  144.0  93.0          NaN  \n",
       "11             19.0  121.0  92.0          NaN  "
      ]
     },
     "metadata": {},
     "output_type": "display_data"
    }
   ],
   "source": [
    "# 6. Clean physiologically implausible values and regularize to hourly grid\n",
    "\n",
    "# Reasonable clinical ranges (from MIMIC-IV guides and prior literature)\n",
    "RANGES = {\n",
    "    'heart_rate': (20, 250),        # bpm\n",
    "    'sbp': (50, 250),               # mmHg\n",
    "    'dbp': (20, 150),               # mmHg\n",
    "    'mbp': (30, 180),               # mmHg\n",
    "    'temperature': (30, 43),        # Celsius\n",
    "    'resp_rate': (4, 60),           # breaths/min\n",
    "    'spo2': (40, 100),              # %\n",
    "}\n",
    "\n",
    "def clip_values(df):\n",
    "    for var, (low, high) in RANGES.items():\n",
    "        mask = df['variable'] == var\n",
    "        df.loc[mask, 'valuenum'] = df.loc[mask, 'valuenum'].clip(lower=low, upper=high)\n",
    "    return df\n",
    "\n",
    "vitals_eda_clipped = clip_values(vitals_eda.copy())\n",
    "\n",
    "# Pivot so each stay has a column per vital sign, rows are timestamps\n",
    "df_long = vitals_eda_clipped.pivot_table(\n",
    "    index=['stay_id', 'charttime', 'hours_from_admit'],\n",
    "    columns='variable', values='valuenum', aggfunc='mean'\n",
    ").reset_index()\n",
    "\n",
    "\n",
    "# For each stay, resample to hourly intervals\n",
    "def resample_hourly(group):\n",
    "    # Set charttime as index for resampling\n",
    "    g = group.set_index('hours_from_admit')\n",
    "    idx = np.arange(0, 24)\n",
    "    hourly = g.reindex(idx, method='nearest', tolerance=0.5)  # Nearest within 30min\n",
    "    hourly.index.name = 'hour'\n",
    "    hourly = hourly.reset_index()\n",
    "    return hourly\n",
    "\n",
    "hourly_vitals = df_long.groupby('stay_id').apply(resample_hourly).reset_index(drop=True)\n",
    "\n",
    "print(\"Hourly vital signs (after outlier clipping & regularization):\")\n",
    "display(hourly_vitals.head(12))\n"
   ]
  },
  {
   "cell_type": "code",
   "execution_count": 7,
   "id": "8411cdba",
   "metadata": {},
   "outputs": [
    {
     "data": {
      "text/html": [
       "<div>\n",
       "<style scoped>\n",
       "    .dataframe tbody tr th:only-of-type {\n",
       "        vertical-align: middle;\n",
       "    }\n",
       "\n",
       "    .dataframe tbody tr th {\n",
       "        vertical-align: top;\n",
       "    }\n",
       "\n",
       "    .dataframe thead th {\n",
       "        text-align: right;\n",
       "    }\n",
       "</style>\n",
       "<table border=\"1\" class=\"dataframe\">\n",
       "  <thead>\n",
       "    <tr style=\"text-align: right;\">\n",
       "      <th>variable</th>\n",
       "      <th>hour</th>\n",
       "      <th>stay_id</th>\n",
       "      <th>charttime</th>\n",
       "      <th>dbp</th>\n",
       "      <th>heart_rate</th>\n",
       "      <th>mbp</th>\n",
       "      <th>resp_rate</th>\n",
       "      <th>sbp</th>\n",
       "      <th>spo2</th>\n",
       "      <th>temperature</th>\n",
       "    </tr>\n",
       "  </thead>\n",
       "  <tbody>\n",
       "    <tr>\n",
       "      <th>0</th>\n",
       "      <td>0</td>\n",
       "      <td>30002498.0</td>\n",
       "      <td>2158-01-23 16:12:00</td>\n",
       "      <td>NaN</td>\n",
       "      <td>81.0</td>\n",
       "      <td>NaN</td>\n",
       "      <td>17.0</td>\n",
       "      <td>NaN</td>\n",
       "      <td>91.0</td>\n",
       "      <td>NaN</td>\n",
       "    </tr>\n",
       "    <tr>\n",
       "      <th>1</th>\n",
       "      <td>1</td>\n",
       "      <td>30002498.0</td>\n",
       "      <td>2158-01-23 17:00:00</td>\n",
       "      <td>81.0</td>\n",
       "      <td>72.0</td>\n",
       "      <td>101.0</td>\n",
       "      <td>16.0</td>\n",
       "      <td>156.0</td>\n",
       "      <td>94.0</td>\n",
       "      <td>43.0</td>\n",
       "    </tr>\n",
       "    <tr>\n",
       "      <th>2</th>\n",
       "      <td>2</td>\n",
       "      <td>30002498.0</td>\n",
       "      <td>2158-01-23 18:00:00</td>\n",
       "      <td>81.0</td>\n",
       "      <td>78.0</td>\n",
       "      <td>93.0</td>\n",
       "      <td>12.0</td>\n",
       "      <td>139.0</td>\n",
       "      <td>92.0</td>\n",
       "      <td>NaN</td>\n",
       "    </tr>\n",
       "    <tr>\n",
       "      <th>3</th>\n",
       "      <td>3</td>\n",
       "      <td>30002498.0</td>\n",
       "      <td>2158-01-23 19:00:00</td>\n",
       "      <td>NaN</td>\n",
       "      <td>86.0</td>\n",
       "      <td>NaN</td>\n",
       "      <td>14.0</td>\n",
       "      <td>NaN</td>\n",
       "      <td>92.0</td>\n",
       "      <td>NaN</td>\n",
       "    </tr>\n",
       "    <tr>\n",
       "      <th>4</th>\n",
       "      <td>4</td>\n",
       "      <td>30002498.0</td>\n",
       "      <td>2158-01-23 20:00:00</td>\n",
       "      <td>79.0</td>\n",
       "      <td>92.0</td>\n",
       "      <td>95.0</td>\n",
       "      <td>26.0</td>\n",
       "      <td>140.0</td>\n",
       "      <td>92.0</td>\n",
       "      <td>43.0</td>\n",
       "    </tr>\n",
       "    <tr>\n",
       "      <th>...</th>\n",
       "      <td>...</td>\n",
       "      <td>...</td>\n",
       "      <td>...</td>\n",
       "      <td>...</td>\n",
       "      <td>...</td>\n",
       "      <td>...</td>\n",
       "      <td>...</td>\n",
       "      <td>...</td>\n",
       "      <td>...</td>\n",
       "      <td>...</td>\n",
       "    </tr>\n",
       "    <tr>\n",
       "      <th>479707</th>\n",
       "      <td>19</td>\n",
       "      <td>39999230.0</td>\n",
       "      <td>2147-09-01 18:00:00</td>\n",
       "      <td>58.0</td>\n",
       "      <td>103.0</td>\n",
       "      <td>76.0</td>\n",
       "      <td>24.0</td>\n",
       "      <td>121.0</td>\n",
       "      <td>93.0</td>\n",
       "      <td>43.0</td>\n",
       "    </tr>\n",
       "    <tr>\n",
       "      <th>479708</th>\n",
       "      <td>20</td>\n",
       "      <td>39999230.0</td>\n",
       "      <td>2147-09-01 19:00:00</td>\n",
       "      <td>53.0</td>\n",
       "      <td>103.0</td>\n",
       "      <td>70.0</td>\n",
       "      <td>19.0</td>\n",
       "      <td>111.0</td>\n",
       "      <td>94.0</td>\n",
       "      <td>NaN</td>\n",
       "    </tr>\n",
       "    <tr>\n",
       "      <th>479709</th>\n",
       "      <td>21</td>\n",
       "      <td>39999230.0</td>\n",
       "      <td>2147-09-01 20:00:00</td>\n",
       "      <td>49.0</td>\n",
       "      <td>106.0</td>\n",
       "      <td>68.0</td>\n",
       "      <td>26.0</td>\n",
       "      <td>113.0</td>\n",
       "      <td>91.0</td>\n",
       "      <td>43.0</td>\n",
       "    </tr>\n",
       "    <tr>\n",
       "      <th>479710</th>\n",
       "      <td>22</td>\n",
       "      <td>39999230.0</td>\n",
       "      <td>2147-09-01 21:00:00</td>\n",
       "      <td>55.0</td>\n",
       "      <td>103.0</td>\n",
       "      <td>70.0</td>\n",
       "      <td>19.0</td>\n",
       "      <td>108.0</td>\n",
       "      <td>92.0</td>\n",
       "      <td>NaN</td>\n",
       "    </tr>\n",
       "    <tr>\n",
       "      <th>479711</th>\n",
       "      <td>23</td>\n",
       "      <td>39999230.0</td>\n",
       "      <td>2147-09-01 22:00:00</td>\n",
       "      <td>53.0</td>\n",
       "      <td>103.0</td>\n",
       "      <td>70.0</td>\n",
       "      <td>21.0</td>\n",
       "      <td>110.0</td>\n",
       "      <td>92.0</td>\n",
       "      <td>43.0</td>\n",
       "    </tr>\n",
       "  </tbody>\n",
       "</table>\n",
       "<p>479712 rows × 10 columns</p>\n",
       "</div>"
      ],
      "text/plain": [
       "variable  hour     stay_id           charttime   dbp  heart_rate    mbp  \\\n",
       "0            0  30002498.0 2158-01-23 16:12:00   NaN        81.0    NaN   \n",
       "1            1  30002498.0 2158-01-23 17:00:00  81.0        72.0  101.0   \n",
       "2            2  30002498.0 2158-01-23 18:00:00  81.0        78.0   93.0   \n",
       "3            3  30002498.0 2158-01-23 19:00:00   NaN        86.0    NaN   \n",
       "4            4  30002498.0 2158-01-23 20:00:00  79.0        92.0   95.0   \n",
       "...        ...         ...                 ...   ...         ...    ...   \n",
       "479707      19  39999230.0 2147-09-01 18:00:00  58.0       103.0   76.0   \n",
       "479708      20  39999230.0 2147-09-01 19:00:00  53.0       103.0   70.0   \n",
       "479709      21  39999230.0 2147-09-01 20:00:00  49.0       106.0   68.0   \n",
       "479710      22  39999230.0 2147-09-01 21:00:00  55.0       103.0   70.0   \n",
       "479711      23  39999230.0 2147-09-01 22:00:00  53.0       103.0   70.0   \n",
       "\n",
       "variable  resp_rate    sbp  spo2  temperature  \n",
       "0              17.0    NaN  91.0          NaN  \n",
       "1              16.0  156.0  94.0         43.0  \n",
       "2              12.0  139.0  92.0          NaN  \n",
       "3              14.0    NaN  92.0          NaN  \n",
       "4              26.0  140.0  92.0         43.0  \n",
       "...             ...    ...   ...          ...  \n",
       "479707         24.0  121.0  93.0         43.0  \n",
       "479708         19.0  111.0  94.0          NaN  \n",
       "479709         26.0  113.0  91.0         43.0  \n",
       "479710         19.0  108.0  92.0          NaN  \n",
       "479711         21.0  110.0  92.0         43.0  \n",
       "\n",
       "[479712 rows x 10 columns]"
      ]
     },
     "execution_count": 7,
     "metadata": {},
     "output_type": "execute_result"
    }
   ],
   "source": [
    "hourly_vitals"
   ]
  },
  {
   "cell_type": "code",
   "execution_count": 94,
   "id": "f3e234a4",
   "metadata": {
    "scrolled": true
   },
   "outputs": [
    {
     "name": "stdout",
     "output_type": "stream",
     "text": [
      "\n",
      "Vital: heart_rate\n",
      "  Count of measurements: 26\n",
      "  Min interval: 14.0 min\n",
      "  Median interval: 60.0 min\n",
      "  Mean interval: 57.5 min\n",
      "  Max interval: 60.0 min\n",
      "  25th/75th percentile: 60.0 / 60.0 min\n",
      "  Example first 10 intervals: [14. 44. 60. 60. 60. 60. 60. 60. 60. 60. 60. 60. 60. 60. 60. 60. 60. 60.\n",
      " 60. 60.]\n",
      "\n",
      "Vital: sbp\n",
      "  Count of measurements: 26\n",
      "  Min interval: 13.0 min\n",
      "  Median interval: 60.0 min\n",
      "  Mean interval: 57.5 min\n",
      "  Max interval: 70.0 min\n",
      "  25th/75th percentile: 60.0 / 60.0 min\n",
      "  Example first 10 intervals: [13. 45. 70. 50. 60. 60. 60. 60. 60. 60. 60. 60. 60. 60. 60. 60. 60. 60.\n",
      " 60. 60.]\n",
      "\n",
      "Vital: dbp\n",
      "  Count of measurements: 26\n",
      "  Min interval: 13.0 min\n",
      "  Median interval: 60.0 min\n",
      "  Mean interval: 57.5 min\n",
      "  Max interval: 70.0 min\n",
      "  25th/75th percentile: 60.0 / 60.0 min\n",
      "  Example first 10 intervals: [13. 45. 70. 50. 60. 60. 60. 60. 60. 60. 60. 60. 60. 60. 60. 60. 60. 60.\n",
      " 60. 60.]\n",
      "\n",
      "Vital: mbp\n",
      "  Count of measurements: 26\n",
      "  Min interval: 13.0 min\n",
      "  Median interval: 60.0 min\n",
      "  Mean interval: 57.5 min\n",
      "  Max interval: 70.0 min\n",
      "  25th/75th percentile: 60.0 / 60.0 min\n",
      "  Example first 10 intervals: [13. 45. 70. 50. 60. 60. 60. 60. 60. 60. 60. 60. 60. 60. 60. 60. 60. 60.\n",
      " 60. 60.]\n",
      "\n",
      "Vital: resp_rate\n",
      "  Count of measurements: 26\n",
      "  Min interval: 15.0 min\n",
      "  Median interval: 60.0 min\n",
      "  Mean interval: 57.6 min\n",
      "  Max interval: 60.0 min\n",
      "  25th/75th percentile: 60.0 / 60.0 min\n",
      "  Example first 10 intervals: [15. 44. 60. 60. 60. 60. 60. 60. 60. 60. 60. 60. 60. 60. 60. 60. 60. 60.\n",
      " 60. 60.]\n",
      "\n",
      "Vital: spo2\n",
      "  Count of measurements: 26\n",
      "  Min interval: 6.0 min\n",
      "  Median interval: 60.0 min\n",
      "  Mean interval: 56.7 min\n",
      "  Max interval: 85.0 min\n",
      "  25th/75th percentile: 60.0 / 60.0 min\n",
      "  Example first 10 intervals: [65. 32. 60. 60. 60. 60. 60. 60. 60. 60. 85.  6. 29. 60. 60. 60. 60. 60.\n",
      " 60. 60.]\n",
      "\n",
      "Vital: temperature\n",
      "  Count of measurements: 7\n",
      "  Min interval: 164.0 min\n",
      "  Median interval: 240.0 min\n",
      "  Mean interval: 227.3 min\n",
      "  Max interval: 240.0 min\n",
      "  25th/75th percentile: 240.0 / 240.0 min\n",
      "  Example first 10 intervals: [164. 240. 240. 240. 240. 240.]\n"
     ]
    }
   ],
   "source": [
    "# Pick a single stay_id (or sample a few)\n",
    "example_stay = df_long['stay_id'].unique()[5]  # or use .unique()[0] to get first stay\n",
    "\n",
    "# Filter to that stay\n",
    "stay_df = df_long[df_long['stay_id'] == example_stay].copy()\n",
    "\n",
    "# Make sure charttime is datetime\n",
    "stay_df['charttime'] = pd.to_datetime(stay_df['charttime'])\n",
    "\n",
    "# List your vital columns (adjust as needed)\n",
    "vital_cols = ['heart_rate', 'sbp', 'dbp', 'mbp', 'resp_rate', 'spo2', 'temperature']\n",
    "\n",
    "# For each vital, get time differences between consecutive measurements\n",
    "for vital in vital_cols:\n",
    "    # Only keep rows where the vital is not missing\n",
    "    vital_df = stay_df[['charttime', vital]].dropna().sort_values('charttime')\n",
    "    if len(vital_df) < 2:\n",
    "        print(f\"{vital}: Not enough data for time difference calculation.\")\n",
    "        continue\n",
    "    # Compute time difference (in minutes)\n",
    "    time_diffs = vital_df['charttime'].diff().dropna().dt.total_seconds() / 60\n",
    "    print(f\"\\nVital: {vital}\")\n",
    "    print(f\"  Count of measurements: {len(vital_df)}\")\n",
    "    print(f\"  Min interval: {time_diffs.min():.1f} min\")\n",
    "    print(f\"  Median interval: {time_diffs.median():.1f} min\")\n",
    "    print(f\"  Mean interval: {time_diffs.mean():.1f} min\")\n",
    "    print(f\"  Max interval: {time_diffs.max():.1f} min\")\n",
    "    print(f\"  25th/75th percentile: {time_diffs.quantile(0.25):.1f} / {time_diffs.quantile(0.75):.1f} min\")\n",
    "    print(f\"  Example first 10 intervals: {time_diffs.head(20).values}\")\n"
   ]
  },
  {
   "cell_type": "markdown",
   "id": "ec70a863",
   "metadata": {},
   "source": [
    "### Hourly resampling is a good fit for most vitals (heart_rate, resp_rate, spo2, all BP)."
   ]
  },
  {
   "cell_type": "markdown",
   "id": "0983172d",
   "metadata": {},
   "source": [
    "## Cleaning and Regularizing ICU Time Series Data\n",
    "\n",
    "In this step, we applied two essential transformations to make our ICU vital sign data usable for modeling:\n",
    "\n",
    "### 1. **Outlier Clipping**\n",
    "- We removed or \"clipped\" all physiologically impossible values using *domain knowledge* (e.g., heart rate capped between 20–250 bpm, SpO₂ between 40–100%).\n",
    "- This ensures that measurement artifacts, device errors, or manual entry mistakes do not distort our analysis or models.\n",
    "\n",
    "> **Why use domain-based ranges?**  \n",
    "Clinical time series often include rare but clinically important extremes. IQR or boxplot-based filtering risks removing these important real events, while domain ranges, used by large-scale ICU benchmarks [[1]](https://www.nature.com/articles/s41597-019-0103-9), ensure only biologically implausible values are removed.\n",
    "\n",
    "### 2. **Hourly Regularization**\n",
    "- ICU data are charted at irregular times. We resampled the first 24 hours for each stay onto an hourly grid, selecting the nearest available measurement within ±30 minutes for each variable.\n",
    "- This produces a **clean, aligned time series for each patient**, ready for modeling and comparison.\n",
    "\n",
    "**Sample Output:**  \n",
    "As seen above, for each `stay_id`, we now have up to 24 rows (hours 0–23), with columns for each vital sign. Some values remain missing, which is common due to device downtime, measurement frequency, or clinical workflow.\n",
    "\n",
    "---\n",
    "\n",
    "**Next Step:**  \n",
    "We must now handle these remaining missing values. The way we choose to **impute** missing data can have a major impact on prediction performance, especially for time series models in healthcare [[2]](https://www.nature.com/articles/s41598-018-24271-9).\n",
    "\n",
    "---\n",
    "\n",
    "**References:**\n",
    "1. Harutyunyan, H., et al. (2019). \"Multitask learning and benchmarking with clinical time series data.\" *Scientific Data*, 6(1), 96. [https://www.nature.com/articles/s41597-019-0103-9](https://www.nature.com/articles/s41597-019-0103-9)\n",
    "2. Che, Z., et al. (2018). \"Recurrent Neural Networks for Multivariate Time Series with Missing Values.\" *Scientific Reports*, 8, 6085. [https://www.nature.com/articles/s41598-018-24271-9](https://www.nature.com/articles/s41598-018-24271-9)\n"
   ]
  },
  {
   "cell_type": "markdown",
   "id": "ed1aff2d",
   "metadata": {},
   "source": [
    "## Code Cell #7: Impute Missing Data Using Three Approaches"
   ]
  },
  {
   "cell_type": "code",
   "execution_count": 7,
   "id": "7b65ec47",
   "metadata": {
    "scrolled": true
   },
   "outputs": [
    {
     "name": "stderr",
     "output_type": "stream",
     "text": [
      "/tmp/ipykernel_65370/1433978772.py:7: FutureWarning: DataFrameGroupBy.apply operated on the grouping columns. This behavior is deprecated, and in a future version of pandas the grouping columns will be excluded from the operation. Either pass `include_groups=False` to exclude the groupings or explicitly select the grouping columns after groupby to silence this warning.\n",
      "  df_imp = df_imp.groupby(group_cols).apply(lambda g: g.ffill().bfill()).reset_index(drop=True)\n"
     ]
    },
    {
     "name": "stdout",
     "output_type": "stream",
     "text": [
      "Robust imputation done for all three methods.\n"
     ]
    },
    {
     "name": "stderr",
     "output_type": "stream",
     "text": [
      "/tmp/ipykernel_65370/1433978772.py:12: FutureWarning: DataFrameGroupBy.apply operated on the grouping columns. This behavior is deprecated, and in a future version of pandas the grouping columns will be excluded from the operation. Either pass `include_groups=False` to exclude the groupings or explicitly select the grouping columns after groupby to silence this warning.\n",
      "  df_imp = df_imp.groupby(group_cols).apply(lambda g: g.interpolate(method='linear').ffill().bfill()).reset_index(drop=True)\n"
     ]
    }
   ],
   "source": [
    "def impute_vitals(df, method='ffill'):\n",
    "    df_imp = df.copy()\n",
    "    group_cols = ['stay_id']\n",
    "\n",
    "    # 1. Groupwise imputation\n",
    "    if method == 'ffill':\n",
    "        df_imp = df_imp.groupby(group_cols).apply(lambda g: g.ffill().bfill()).reset_index(drop=True)\n",
    "    elif method == 'mean':\n",
    "        means = df_imp.mean(numeric_only=True)\n",
    "        df_imp = df_imp.fillna(means)\n",
    "    elif method == 'interpolate':\n",
    "        df_imp = df_imp.groupby(group_cols).apply(lambda g: g.interpolate(method='linear').ffill().bfill()).reset_index(drop=True)\n",
    "    else:\n",
    "        raise ValueError(\"Unknown method. Choose from ['ffill', 'mean', 'interpolate']\")\n",
    "\n",
    "    # 2. Final backup fill with median for any remaining NaNs\n",
    "    for col in ['heart_rate', 'sbp', 'dbp', 'mbp', 'resp_rate', 'spo2', 'temperature']:\n",
    "        if df_imp[col].isna().any():\n",
    "            df_imp[col] = df_imp[col].fillna(df_imp[col].median())\n",
    "\n",
    "    # Optional: Assert no NaNs left\n",
    "    assert not df_imp[['heart_rate', 'sbp', 'dbp', 'mbp', 'resp_rate', 'spo2', 'temperature']].isna().any().any(), \"Missing values remain after imputation!\"\n",
    "    return df_imp\n",
    "\n",
    "# Impute using each method (robust)\n",
    "hourly_ffill = impute_vitals(hourly_vitals, 'ffill')\n",
    "hourly_mean = impute_vitals(hourly_vitals, 'mean')\n",
    "hourly_interp = impute_vitals(hourly_vitals, 'interpolate')\n",
    "print(\"Robust imputation done for all three methods.\")\n"
   ]
  },
  {
   "cell_type": "code",
   "execution_count": null,
   "id": "73da7091",
   "metadata": {},
   "outputs": [],
   "source": []
  },
  {
   "cell_type": "markdown",
   "id": "6d342c98",
   "metadata": {},
   "source": [
    "## Robust Imputation: Ensuring No Missing Data Remain\n",
    "\n",
    "After aligning our ICU vitals to an hourly grid, we’re still left with missing values, especially for infrequently measured variables like temperature or for stays with delayed charting.  \n",
    "A fully-imputed (no missing values) dataset is a strict requirement for classical time-series models and most deep learning libraries.\n",
    "\n",
    "### Our Multi-step Imputation Strategy:\n",
    "\n",
    "1. **Groupwise Imputation (per-stay):**\n",
    "   - **Forward/Backward Fill:**  \n",
    "     Fills missing values using the last (and first) observed value within each ICU stay.  \n",
    "     *Why?* This best mimics how clinicians interpret vitals in practice.\n",
    "   - **Linear Interpolation:**  \n",
    "     Draws a straight line between adjacent measurements, filling gaps smoothly.\n",
    "\n",
    "2. **Final Safety Net: Median Fill**\n",
    "   - After groupwise imputation, we may still have missing values at the start (or throughout, if a vital is never measured in a stay).\n",
    "   - We fill any *remaining* NaNs with the **median** of that vital across the entire dataset, ensuring **no missing values remain**.\n",
    "\n",
    "3. **Assert Cleanliness:**\n",
    "   - We explicitly check for and assert the absence of missing values in all vitals post-imputation.\n",
    "\n",
    "> **Why does this matter?**  \n",
    "> Incomplete imputation (even a handful of NaNs) can crash most machine learning models, or subtly degrade performance. A robust pipeline is *crucial* for reproducible clinical data science.\n",
    "\n",
    "**Reference best practices:**  \n",
    "- Che et al. (2018) show that imputation strategy can shift AUC by 10-15% in ICU tasks.\n",
    "- Robust imputation (especially backup median/mode fill) is widely recommended in EHR modeling pipelines [[1]](https://www.nature.com/articles/s41598-018-24271-9).\n",
    "\n",
    "---\n",
    "\n",
    "**In summary:**  \n",
    "We combine *forward/backward fill*, *interpolation*, and a *final median fill* to guarantee a clean, analysis-ready table for every patient stay and every vital sign.\n",
    "\n",
    "---\n",
    "\n",
    "**References:**\n",
    "\n",
    "1. Che, Z., et al. (2018). \"Recurrent Neural Networks for Multivariate Time Series with Missing Values.\" *Scientific Reports*, 8, 6085. [https://www.nature.com/articles/s41598-018-24271-9](https://www.nature.com/articles/s41598-018-24271-9)  \n",
    "2. Johnson, A. E. W., et al. (2016). \"MIMIC-III, a freely accessible critical care database.\" *Scientific Data*, 3, 160035. [https://www.nature.com/articles/sdata201635](https://www.nature.com/articles/sdata201635)\n"
   ]
  },
  {
   "cell_type": "markdown",
   "id": "8a617a32",
   "metadata": {},
   "source": [
    "## Code Cell #8: Visualize Imputation Effects for a Single Stay and Vital Sign"
   ]
  },
  {
   "cell_type": "code",
   "execution_count": 25,
   "id": "5dbfe110",
   "metadata": {},
   "outputs": [
    {
     "data": {
      "image/png": "[encoded data removed]",
      "text/plain": [
       "<Figure size 864x432 with 1 Axes>"
      ]
     },
     "metadata": {
      "needs_background": "light"
     },
     "output_type": "display_data"
    }
   ],
   "source": [
    "# 8. Visualize effect of different imputations for one stay and one vital sign\n",
    "\n",
    "import matplotlib.pyplot as plt\n",
    "import numpy as np\n",
    "\n",
    "example_stay = hourly_vitals['stay_id'].drop_duplicates().sample(1, random_state=45).values[0]\n",
    "var = 'heart_rate'\n",
    "\n",
    "df_orig = hourly_vitals[hourly_vitals['stay_id'] == example_stay].copy()\n",
    "df_ffill = hourly_ffill[hourly_ffill['stay_id'] == example_stay]\n",
    "df_mean = hourly_mean[hourly_mean['stay_id'] == example_stay]\n",
    "df_interp = hourly_interp[hourly_interp['stay_id'] == example_stay]\n",
    "\n",
    "plt.figure(figsize=(12, 6))\n",
    "\n",
    "# Plot original values with points and line, showing missing as gaps\n",
    "plt.plot(df_orig['hour'], df_orig[var], 'ko-', label='Original (observed)', markersize=8, linewidth=3, alpha=0.7)\n",
    "\n",
    "# Highlight missing points in original series as red X's\n",
    "missing_mask = df_orig[var].isna()\n",
    "plt.scatter(df_orig['hour'][missing_mask], np.full(missing_mask.sum(), df_orig[var].min() - 5),\n",
    "            marker='x', c='red', label='Missing in Original', s=90)\n",
    "\n",
    "# Plot imputed series with distinct styles\n",
    "plt.plot(df_ffill['hour'], df_ffill[var], 'g--o', label='Forward Fill', alpha=0.8)\n",
    "plt.plot(df_interp['hour'], df_interp[var], 'b-.s', label='Linear Interp.', alpha=0.8)\n",
    "plt.plot(df_mean['hour'], df_mean[var], 'm:d', label='Mean Impute', alpha=0.8)\n",
    "\n",
    "plt.xlabel('Hour from ICU admission')\n",
    "plt.ylabel(f'{var.replace(\"_\",\" \").title()}')\n",
    "plt.title(f\"Imputation comparison for stay_id={example_stay}, variable={var}\")\n",
    "plt.legend()\n",
    "plt.grid()\n",
    "plt.tight_layout()\n",
    "plt.show()"
   ]
  },
  {
   "cell_type": "markdown",
   "id": "a5f99849",
   "metadata": {},
   "source": [
    "## Visual Comparison of Imputation Strategies for ICU Time Series\n",
    "\n",
    "This plot provides a clear, side-by-side illustration of how different imputation methods fill missing values in a real ICU patient's heart rate time series:\n",
    "\n",
    "- **Original (Observed):**  \n",
    "  Shown as a bold black line with large circles, these points represent true measurements. Gaps indicate periods where no data was recorded.\n",
    "- **Missing Values:**  \n",
    "  Marked with prominent red \"X\"s, these highlight *exactly* where information was absent in the original charting. Visualizing the missingness is key for understanding the clinical workflow and imputation impact.\n",
    "- **Forward Fill (Green dashed):**  \n",
    "  Extends the most recent measurement forward until a new value appears. This mimics a common clinical assumption, that the last value holds until re-measured, but can artificially \"flatten\" real dynamics during long gaps.\n",
    "- **Linear Interpolation (Blue dash-dot):**  \n",
    "  Fills in missing values by drawing a straight line between the previous and next observed data points. This maintains trends, but smooths over abrupt changes and may not capture rapid physiologic events.\n",
    "- **Mean Imputation (Magenta dotted):**  \n",
    "  Simply replaces all missing values with the overall mean heart rate across all patients and times. While computationally trivial, this method removes individual variability and can obscure true clinical patterns.\n",
    "\n",
    "> **Educational Insight:**  \n",
    "Visualizing imputation in this way reveals how each approach can distort or preserve the patient’s physiologic trajectory. Forward fill and interpolation better respect the temporal structure, while mean imputation acts as a (poor) baseline. These differences can significantly affect downstream models, highlighting why *careful imputation selection is a pillar of clinical data science* [[1]](https://www.nature.com/articles/s41598-018-24271-9).\n",
    "\n",
    "**Best Practice:**  \n",
    "- Always inspect and visualize your imputation strategy before modeling.\n",
    "- Choose the approach that best aligns with the clinical meaning of your data and your research question.\n",
    "\n",
    "**Reference:**  \n",
    "1. Che, Z., et al. (2018). \"Recurrent Neural Networks for Multivariate Time Series with Missing Values.\" *Scientific Reports*, 8, 6085. [https://www.nature.com/articles/s41598-018-24271-9](https://www.nature.com/articles/s41598-018-24271-9)\n"
   ]
  },
  {
   "cell_type": "code",
   "execution_count": null,
   "id": "32ad0035",
   "metadata": {
    "scrolled": true
   },
   "outputs": [],
   "source": []
  },
  {
   "cell_type": "code",
   "execution_count": 10,
   "id": "6f6cb5ed",
   "metadata": {},
   "outputs": [
    {
     "data": {
      "image/png": "[encoded data removed]",
      "text/plain": [
       "<Figure size 1008x360 with 1 Axes>"
      ]
     },
     "metadata": {
      "needs_background": "light"
     },
     "output_type": "display_data"
    }
   ],
   "source": [
    "import matplotlib.pyplot as plt\n",
    "\n",
    "stay_id = 38832118.0\n",
    "vital = 'heart_rate'\n",
    "hours = np.arange(24)\n",
    "\n",
    "# Original (possibly gappy) data\n",
    "orig = hourly_vitals[hourly_vitals['stay_id'] == stay_id].set_index('hour')[vital].reindex(hours)\n",
    "\n",
    "# Imputed data for all strategies\n",
    "imputed = {\n",
    "    'Forward Fill': hourly_ffill[hourly_ffill['stay_id'] == stay_id].set_index('hour')[vital].reindex(hours),\n",
    "    'Linear Interpolation': hourly_interp[hourly_interp['stay_id'] == stay_id].set_index('hour')[vital].reindex(hours),\n",
    "    'Mean Imputation': hourly_mean[hourly_mean['stay_id'] == stay_id].set_index('hour')[vital].reindex(hours),\n",
    "}\n",
    "\n",
    "plt.figure(figsize=(14, 5))\n",
    "plt.plot(hours, orig, 'ko-', label='Original (raw, may have gaps)', alpha=0.7, markersize=8)\n",
    "for method, data in imputed.items():\n",
    "    plt.plot(hours, data, marker='o', label=f'Imputed: {method}', linestyle='--')\n",
    "plt.xlabel('Hour from ICU admission')\n",
    "plt.ylabel(f'{vital.replace(\"_\", \" \").title()}')\n",
    "plt.title(f'Comparison of original vs. imputed for {vital}, stay_id={stay_id}')\n",
    "plt.legend()\n",
    "plt.grid()\n",
    "plt.tight_layout()\n",
    "plt.show()\n"
   ]
  },
  {
   "cell_type": "markdown",
   "id": "7b1a81a1",
   "metadata": {},
   "source": [
    "## Code Cell #9: Systematic Forecasting With ARIMA (default order) and Holt-Winters"
   ]
  },
  {
   "cell_type": "code",
   "execution_count": 23,
   "id": "61d6a0ee",
   "metadata": {},
   "outputs": [
    {
     "data": {
      "image/png": "[encoded data removed]",
      "text/plain": [
       "<Figure size 1296x360 with 3 Axes>"
      ]
     },
     "metadata": {
      "needs_background": "light"
     },
     "output_type": "display_data"
    },
    {
     "data": {
      "image/png": "[encoded data removed]",
      "text/plain": [
       "<Figure size 1296x360 with 3 Axes>"
      ]
     },
     "metadata": {
      "needs_background": "light"
     },
     "output_type": "display_data"
    },
    {
     "name": "stdout",
     "output_type": "stream",
     "text": [
      "Forecasting MAE, RMSE, MAPE, and R² for each imputation method and vital:\n"
     ]
    },
    {
     "data": {
      "text/html": [
       "<div>\n",
       "<style scoped>\n",
       "    .dataframe tbody tr th:only-of-type {\n",
       "        vertical-align: middle;\n",
       "    }\n",
       "\n",
       "    .dataframe tbody tr th {\n",
       "        vertical-align: top;\n",
       "    }\n",
       "\n",
       "    .dataframe thead th {\n",
       "        text-align: right;\n",
       "    }\n",
       "</style>\n",
       "<table border=\"1\" class=\"dataframe\">\n",
       "  <thead>\n",
       "    <tr style=\"text-align: right;\">\n",
       "      <th></th>\n",
       "      <th>Vital</th>\n",
       "      <th>Imputation</th>\n",
       "      <th>ARIMA_MAE</th>\n",
       "      <th>HW_MAE</th>\n",
       "      <th>ARIMA_RMSE</th>\n",
       "      <th>HW_RMSE</th>\n",
       "      <th>ARIMA_MAPE</th>\n",
       "      <th>HW_MAPE</th>\n",
       "      <th>ARIMA_R2</th>\n",
       "      <th>HW_R2</th>\n",
       "    </tr>\n",
       "  </thead>\n",
       "  <tbody>\n",
       "    <tr>\n",
       "      <th>0</th>\n",
       "      <td>heart_rate</td>\n",
       "      <td>Forward Fill</td>\n",
       "      <td>3.543560</td>\n",
       "      <td>5.125959</td>\n",
       "      <td>4.245745</td>\n",
       "      <td>6.176460</td>\n",
       "      <td>4.432861</td>\n",
       "      <td>6.433774</td>\n",
       "      <td>-0.948795</td>\n",
       "      <td>-3.124179</td>\n",
       "    </tr>\n",
       "    <tr>\n",
       "      <th>1</th>\n",
       "      <td>heart_rate</td>\n",
       "      <td>Linear Interpolation</td>\n",
       "      <td>2.270086</td>\n",
       "      <td>5.026830</td>\n",
       "      <td>2.545920</td>\n",
       "      <td>6.043554</td>\n",
       "      <td>2.814268</td>\n",
       "      <td>6.284899</td>\n",
       "      <td>0.211684</td>\n",
       "      <td>-3.442174</td>\n",
       "    </tr>\n",
       "    <tr>\n",
       "      <th>2</th>\n",
       "      <td>heart_rate</td>\n",
       "      <td>Mean Imputation</td>\n",
       "      <td>2.751320</td>\n",
       "      <td>5.298976</td>\n",
       "      <td>3.069415</td>\n",
       "      <td>6.588581</td>\n",
       "      <td>3.301881</td>\n",
       "      <td>6.562166</td>\n",
       "      <td>0.019191</td>\n",
       "      <td>-3.519150</td>\n",
       "    </tr>\n",
       "    <tr>\n",
       "      <th>3</th>\n",
       "      <td>sbp</td>\n",
       "      <td>Forward Fill</td>\n",
       "      <td>15.199353</td>\n",
       "      <td>12.166670</td>\n",
       "      <td>17.432582</td>\n",
       "      <td>14.611642</td>\n",
       "      <td>12.463049</td>\n",
       "      <td>10.041544</td>\n",
       "      <td>-3.641585</td>\n",
       "      <td>-2.260926</td>\n",
       "    </tr>\n",
       "    <tr>\n",
       "      <th>4</th>\n",
       "      <td>sbp</td>\n",
       "      <td>Linear Interpolation</td>\n",
       "      <td>16.123813</td>\n",
       "      <td>13.333339</td>\n",
       "      <td>17.796243</td>\n",
       "      <td>15.121734</td>\n",
       "      <td>13.209105</td>\n",
       "      <td>10.965889</td>\n",
       "      <td>-5.223485</td>\n",
       "      <td>-3.493453</td>\n",
       "    </tr>\n",
       "    <tr>\n",
       "      <th>5</th>\n",
       "      <td>sbp</td>\n",
       "      <td>Mean Imputation</td>\n",
       "      <td>7.190960</td>\n",
       "      <td>8.885605</td>\n",
       "      <td>8.369898</td>\n",
       "      <td>9.363398</td>\n",
       "      <td>5.797055</td>\n",
       "      <td>7.343369</td>\n",
       "      <td>-0.112839</td>\n",
       "      <td>-0.392705</td>\n",
       "    </tr>\n",
       "  </tbody>\n",
       "</table>\n",
       "</div>"
      ],
      "text/plain": [
       "        Vital            Imputation  ARIMA_MAE     HW_MAE  ARIMA_RMSE  \\\n",
       "0  heart_rate          Forward Fill   3.543560   5.125959    4.245745   \n",
       "1  heart_rate  Linear Interpolation   2.270086   5.026830    2.545920   \n",
       "2  heart_rate       Mean Imputation   2.751320   5.298976    3.069415   \n",
       "3         sbp          Forward Fill  15.199353  12.166670   17.432582   \n",
       "4         sbp  Linear Interpolation  16.123813  13.333339   17.796243   \n",
       "5         sbp       Mean Imputation   7.190960   8.885605    8.369898   \n",
       "\n",
       "     HW_RMSE  ARIMA_MAPE    HW_MAPE  ARIMA_R2     HW_R2  \n",
       "0   6.176460    4.432861   6.433774 -0.948795 -3.124179  \n",
       "1   6.043554    2.814268   6.284899  0.211684 -3.442174  \n",
       "2   6.588581    3.301881   6.562166  0.019191 -3.519150  \n",
       "3  14.611642   12.463049  10.041544 -3.641585 -2.260926  \n",
       "4  15.121734   13.209105  10.965889 -5.223485 -3.493453  \n",
       "5   9.363398    5.797055   7.343369 -0.112839 -0.392705  "
      ]
     },
     "metadata": {},
     "output_type": "display_data"
    }
   ],
   "source": [
    "from statsmodels.tsa.arima.model import ARIMA\n",
    "from statsmodels.tsa.holtwinters import ExponentialSmoothing\n",
    "from sklearn.metrics import mean_absolute_error, mean_squared_error, r2_score\n",
    "import numpy as np\n",
    "import matplotlib.pyplot as plt\n",
    "import pandas as pd\n",
    "\n",
    "# -- Helper for MAPE\n",
    "def mean_absolute_percentage_error(y_true, y_pred): \n",
    "    y_true, y_pred = np.array(y_true), np.array(y_pred)\n",
    "    mask = y_true != 0\n",
    "    return np.mean(np.abs((y_true[mask] - y_pred[mask]) / y_true[mask])) * 100\n",
    "\n",
    "# -- Setup: All imputed DataFrames\n",
    "imputed_dfs = {\n",
    "    'Forward Fill': hourly_ffill,\n",
    "    'Linear Interpolation': hourly_interp,\n",
    "    'Mean Imputation': hourly_mean\n",
    "}\n",
    "\n",
    "vitals_to_forecast = ['heart_rate', 'sbp']\n",
    "example_stay = 38832118.0\n",
    "hours = np.arange(24)\n",
    "results = []\n",
    "\n",
    "for var in vitals_to_forecast:\n",
    "    fig, axs = plt.subplots(1, 3, figsize=(18, 5), sharey=True)\n",
    "    for idx, (method_name, imputed_df) in enumerate(imputed_dfs.items()):\n",
    "        df_example = imputed_df[imputed_df['stay_id'] == example_stay].sort_values('hour')\n",
    "        imputed_series = df_example[var].values\n",
    "        train = imputed_series[:18]\n",
    "        test = imputed_series[18:]\n",
    "        \n",
    "        # --- ARIMA ---\n",
    "        try:\n",
    "            arima_model = ARIMA(train, order=(1,1,1)).fit()\n",
    "            arima_forecast = arima_model.forecast(steps=6)\n",
    "        except Exception as e:\n",
    "            arima_forecast = np.full(6, np.nan)\n",
    "            print(f\"ARIMA error for {method_name} - {var}: {e}\")\n",
    "\n",
    "        # --- Holt-Winters ---\n",
    "        try:\n",
    "            hw_model = ExponentialSmoothing(train, trend='add', seasonal=None).fit()\n",
    "            hw_forecast = hw_model.forecast(6)\n",
    "        except Exception as e:\n",
    "            hw_forecast = np.full(6, np.nan)\n",
    "            print(f\"Holt-Winters error for {method_name} - {var}: {e}\")\n",
    "\n",
    "        # --- Metrics for reporting ---\n",
    "        def safe_metrics(y_true, y_pred):\n",
    "            mask = ~np.isnan(y_true) & ~np.isnan(y_pred)\n",
    "            if mask.sum() == 0:\n",
    "                return np.nan, np.nan, np.nan, np.nan\n",
    "            mae = mean_absolute_error(y_true[mask], y_pred[mask])\n",
    "            rmse = np.sqrt(mean_squared_error(y_true[mask], y_pred[mask]))\n",
    "            mape = mean_absolute_percentage_error(y_true[mask], y_pred[mask])\n",
    "            r2 = r2_score(y_true[mask], y_pred[mask])\n",
    "            return mae, rmse, mape, r2\n",
    "\n",
    "        arima_mae, arima_rmse, arima_mape, arima_r2 = safe_metrics(test, arima_forecast)\n",
    "        hw_mae, hw_rmse, hw_mape, hw_r2 = safe_metrics(test, hw_forecast)\n",
    "        results.append({\n",
    "            'Vital': var,\n",
    "            'Imputation': method_name,\n",
    "            'ARIMA_MAE': arima_mae,\n",
    "            'HW_MAE': hw_mae,\n",
    "            'ARIMA_RMSE': arima_rmse,\n",
    "            'HW_RMSE': hw_rmse,\n",
    "            'ARIMA_MAPE': arima_mape,\n",
    "            'HW_MAPE': hw_mape,\n",
    "            'ARIMA_R2': arima_r2,\n",
    "            'HW_R2': hw_r2\n",
    "        })\n",
    "        \n",
    "        # --- Plot ---\n",
    "        ax = axs[idx]\n",
    "        # Imputed (all 24h): thick line\n",
    "        ax.plot(hours, imputed_series, color='slateblue', linewidth=2.5, label='Imputed (all 24h)')\n",
    "        # Observed train/test: points only, not lines (clarity)\n",
    "        ax.scatter(hours[:18], train, c='k', marker='o', label='Observed (train)', s=50)\n",
    "        ax.scatter(hours[18:], test, c='b', marker='s', label='Observed (test)', s=50)\n",
    "        # ARIMA forecast (forecast region)\n",
    "        ax.plot(hours[18:], arima_forecast, 'g^--', label='ARIMA forecast', markersize=10)\n",
    "        # Holt-Winters forecast (forecast region)\n",
    "        ax.plot(hours[18:], hw_forecast, 'ro--', label='Holt-Winters forecast', markersize=10)\n",
    "        # Professional plot styling\n",
    "        ax.set_xlabel('Hour from ICU admission', fontsize=12)\n",
    "        ax.set_ylabel(var.replace('_', ' ').title(), fontsize=12)\n",
    "        ax.set_title(f\"{method_name}\", fontsize=13, weight='bold')\n",
    "        ax.grid(alpha=0.3)\n",
    "        ax.set_xlim(0, 23)\n",
    "        if idx == 0:\n",
    "            ax.legend(fontsize=10, loc='upper left')\n",
    "    \n",
    "    plt.suptitle(f\"Imputation/Forecasting: {var} for stay_id={example_stay}\", fontsize=15, weight='bold')\n",
    "    plt.tight_layout(rect=[0, 0, 1, 0.93])\n",
    "    plt.show()\n",
    "\n",
    "# --- Metrics summary table ---\n",
    "results_df = pd.DataFrame(results)\n",
    "print(\"Forecasting MAE, RMSE, MAPE, and R² for each imputation method and vital:\")\n",
    "display(results_df)\n"
   ]
  },
  {
   "cell_type": "markdown",
   "id": "b3f6d8e3",
   "metadata": {},
   "source": [
    "## Classical Time Series Forecasting: ARIMA & Holt-Winters on ICU Vitals\n",
    "\n",
    "In this step, we demonstrate how classical forecasting models perform on short ICU time series when combined with different imputation strategies.  \n",
    "We focus on two key vitals:\n",
    "\n",
    "- **Heart Rate (`heart_rate`)**\n",
    "- **Systolic Blood Pressure (`sbp`)**\n",
    "\n",
    "### Imputation Methods Compared\n",
    "We evaluate three common approaches to handle missing data:\n",
    "- **Forward Fill** – propagates the last observed value forward.\n",
    "- **Linear Interpolation** – estimates missing values using a straight-line fit between surrounding points.\n",
    "- **Mean Imputation** – replaces missing values with the mean of observed data for that stay.\n",
    "\n",
    "### Modeling Setup\n",
    "Using a representative ICU stay (`stay_id=38832118.0`):\n",
    "- **Training window:** First 18 hours of the stay.\n",
    "- **Forecast horizon:** Next 6 hours.\n",
    "- **Models used:**\n",
    "  - **ARIMA (1,1,1):** Models trends + autocorrelations; suited for data with drift.\n",
    "  - **Holt-Winters (Additive trend, no seasonality):** Adapts to gradual changes in trend; performs well on smoother signals.\n",
    "\n",
    "**Evaluation metrics:**\n",
    "- **MAE** – Mean Absolute Error  \n",
    "- **RMSE** – Root Mean Squared Error  \n",
    "- **MAPE** – Mean Absolute Percentage Error  \n",
    "- **R²** – Coefficient of Determination\n",
    "\n",
    "### What the Plots Show\n",
    "For each imputation method:\n",
    "- **Black circles**: Observed training data (0–17 hours)  \n",
    "- **Blue squares**: Observed test data (18–23 hours)  \n",
    "- **Green triangles (dashed)**: ARIMA forecasts  \n",
    "- **Red circles (dashed)**: Holt-Winters forecasts  \n",
    "- **Slate blue line**: Full imputed 24-hour series\n",
    "\n",
    "### Key Observations\n",
    "- **Heart Rate:**  \n",
    "  ARIMA consistently outperformed Holt-Winters across imputations. Linear Interpolation + ARIMA achieved the lowest MAE (around 2.27) and a positive R² (around 0.21), indicating some predictive skill.\n",
    "- **Systolic BP:**  \n",
    "  Mean Imputation + ARIMA gave the lowest MAE (~7.19), but R² values remained negative for all models , suggesting they captured general levels but failed to match variability.\n",
    "- **Negative R² values** mean the model performed worse than simply predicting the mean, common in noisy, short ICU series.\n",
    "\n",
    "> **Takeaway:**  \n",
    "> Classical methods can perform reasonably for smoother vitals like heart rate but often fail to capture the high variability in ICU blood pressure. This reinforces the need for more advanced models (e.g., Temporal Fusion Transformer) when forecasting in such settings.\n"
   ]
  },
  {
   "cell_type": "code",
   "execution_count": null,
   "id": "6b399ac7",
   "metadata": {},
   "outputs": [],
   "source": []
  },
  {
   "cell_type": "markdown",
   "id": "e9503448",
   "metadata": {},
   "source": [
    "## From Time Series Forecasting to Sepsis Classification: Setting Up the Real-World Problem\n",
    "\n",
    "So far in this notebook, we explored how to forecast individual ICU vital signs (like heart rate) using classic time series models such as ARIMA and Holt-Winters. This is a valuable exercise for understanding temporal dynamics and the impact of imputation on prediction.\n",
    "\n",
    "### **But: In the real world, our goal is often more ambitious, can we predict which ICU patients are developing sepsis, using the *full multivariate time series* from their first 24 hours?**\n",
    "\n",
    "#### **The Shift: Sequence Classification (Sepsis vs Non-Sepsis)**\n",
    "\n",
    "- Instead of predicting future values of a vital sign, we want to classify each ICU stay as **sepsis** or **non-sepsis** based on all vital signs measured over the first 24 hours.\n",
    "- This approach uses the *entire* multivariate time series (heart rate, BP, SpO₂, etc.) as input “features”, and the clinical diagnosis (sepsis yes/no) as the label.\n",
    "- **This is a much harder and clinically more useful problem:**  \n",
    "  It mimics what early warning systems try to do in practice, detect sepsis before it becomes obvious to clinicians.\n",
    "\n",
    "#### **Why Multivariate?**\n",
    "- Sepsis affects *many* physiological systems; changes in the combination or pattern of vitals over time often reveal risk earlier than a single variable.\n",
    "- **Multivariate sequence models** (like Temporal Fusion Transformer, GRU, LSTM) are designed for this kind of “sequence-to-label” task, capturing both time dynamics and cross-variable relationships.\n",
    "\n",
    "#### **Workflow: Best Practice for Clinical ML**\n",
    "1. **Build a classification-ready dataset:**  \n",
    "   - Each row = one ICU stay  \n",
    "   - Features = all time series values (or derived summaries) from the first 24h  \n",
    "   - Label = sepsis (1) or non-sepsis (0)\n",
    "2. **Train and benchmark classification models:**  \n",
    "   - Start with classical models (e.g., logistic regression, random forest) using simple features (means, mins, maxs, trends, or flattened series).\n",
    "   - Then, implement deep learning models (TFT, GRU, LSTM) to leverage the *full sequential* time series as input.\n",
    "3. **Compare performance and interpretability:**  \n",
    "   - Analyze which approaches detect sepsis earliest and most accurately.\n",
    "   - Discuss clinical relevance and implications for ICU care.\n",
    "\n",
    "---\n",
    "\n",
    "**Key References:**\n",
    "\n",
    "- Lim, B., Arik, S. O., Loeff, N., & Pfister, T. (2021). \"Temporal Fusion Transformers for interpretable multi-horizon time series forecasting.\" *International Journal of Forecasting*, 37(4), 1748-1764. [Link](https://arxiv.org/abs/1912.09363)\n",
    "- Johnson, A. E. W., et al. (2016). \"MIMIC-III, a freely accessible critical care database.\" *Scientific Data*, 3, 160035. [Link](https://www.nature.com/articles/sdata201635)\n",
    "\n",
    "---\n",
    "\n",
    "**Next:**  \n",
    "We will construct a multivariate time series classification dataset, benchmark classical classifiers, and then apply advanced deep learning models for early sepsis prediction.\n"
   ]
  },
  {
   "cell_type": "markdown",
   "id": "757deeb0",
   "metadata": {},
   "source": [
    "## Code Cell #10: Build Multivariate Time Series Classification Dataset"
   ]
  },
  {
   "cell_type": "code",
   "execution_count": 8,
   "id": "9d056268",
   "metadata": {},
   "outputs": [
    {
     "name": "stdout",
     "output_type": "stream",
     "text": [
      "Classification-ready shape: (19988, 170) (rows: stays, columns: flattened time points + label)\n"
     ]
    },
    {
     "data": {
      "text/html": [
       "<div>\n",
       "<style scoped>\n",
       "    .dataframe tbody tr th:only-of-type {\n",
       "        vertical-align: middle;\n",
       "    }\n",
       "\n",
       "    .dataframe tbody tr th {\n",
       "        vertical-align: top;\n",
       "    }\n",
       "\n",
       "    .dataframe thead th {\n",
       "        text-align: right;\n",
       "    }\n",
       "</style>\n",
       "<table border=\"1\" class=\"dataframe\">\n",
       "  <thead>\n",
       "    <tr style=\"text-align: right;\">\n",
       "      <th></th>\n",
       "      <th>stay_id</th>\n",
       "      <th>heart_rate_0</th>\n",
       "      <th>heart_rate_1</th>\n",
       "      <th>heart_rate_2</th>\n",
       "      <th>heart_rate_3</th>\n",
       "      <th>heart_rate_4</th>\n",
       "      <th>heart_rate_5</th>\n",
       "      <th>heart_rate_6</th>\n",
       "      <th>heart_rate_7</th>\n",
       "      <th>heart_rate_8</th>\n",
       "      <th>...</th>\n",
       "      <th>temperature_15</th>\n",
       "      <th>temperature_16</th>\n",
       "      <th>temperature_17</th>\n",
       "      <th>temperature_18</th>\n",
       "      <th>temperature_19</th>\n",
       "      <th>temperature_20</th>\n",
       "      <th>temperature_21</th>\n",
       "      <th>temperature_22</th>\n",
       "      <th>temperature_23</th>\n",
       "      <th>sepsis</th>\n",
       "    </tr>\n",
       "  </thead>\n",
       "  <tbody>\n",
       "    <tr>\n",
       "      <th>0</th>\n",
       "      <td>30002498.0</td>\n",
       "      <td>81.0</td>\n",
       "      <td>72.0</td>\n",
       "      <td>78.0</td>\n",
       "      <td>86.0</td>\n",
       "      <td>92.0</td>\n",
       "      <td>86.0</td>\n",
       "      <td>80.0</td>\n",
       "      <td>82.0</td>\n",
       "      <td>87.0</td>\n",
       "      <td>...</td>\n",
       "      <td>43.0</td>\n",
       "      <td>43.0</td>\n",
       "      <td>43.0</td>\n",
       "      <td>43.0</td>\n",
       "      <td>43.0</td>\n",
       "      <td>43.0</td>\n",
       "      <td>43.0</td>\n",
       "      <td>43.0</td>\n",
       "      <td>43.0</td>\n",
       "      <td>0</td>\n",
       "    </tr>\n",
       "    <tr>\n",
       "      <th>1</th>\n",
       "      <td>30003087.0</td>\n",
       "      <td>74.0</td>\n",
       "      <td>72.0</td>\n",
       "      <td>77.0</td>\n",
       "      <td>71.0</td>\n",
       "      <td>89.0</td>\n",
       "      <td>112.0</td>\n",
       "      <td>109.0</td>\n",
       "      <td>99.0</td>\n",
       "      <td>117.0</td>\n",
       "      <td>...</td>\n",
       "      <td>43.0</td>\n",
       "      <td>43.0</td>\n",
       "      <td>43.0</td>\n",
       "      <td>43.0</td>\n",
       "      <td>43.0</td>\n",
       "      <td>43.0</td>\n",
       "      <td>43.0</td>\n",
       "      <td>43.0</td>\n",
       "      <td>43.0</td>\n",
       "      <td>0</td>\n",
       "    </tr>\n",
       "    <tr>\n",
       "      <th>2</th>\n",
       "      <td>30003372.0</td>\n",
       "      <td>111.0</td>\n",
       "      <td>108.5</td>\n",
       "      <td>106.0</td>\n",
       "      <td>104.0</td>\n",
       "      <td>102.0</td>\n",
       "      <td>123.0</td>\n",
       "      <td>107.0</td>\n",
       "      <td>111.0</td>\n",
       "      <td>112.0</td>\n",
       "      <td>...</td>\n",
       "      <td>43.0</td>\n",
       "      <td>43.0</td>\n",
       "      <td>43.0</td>\n",
       "      <td>43.0</td>\n",
       "      <td>43.0</td>\n",
       "      <td>43.0</td>\n",
       "      <td>43.0</td>\n",
       "      <td>43.0</td>\n",
       "      <td>43.0</td>\n",
       "      <td>0</td>\n",
       "    </tr>\n",
       "    <tr>\n",
       "      <th>3</th>\n",
       "      <td>30003598.0</td>\n",
       "      <td>75.0</td>\n",
       "      <td>75.0</td>\n",
       "      <td>79.0</td>\n",
       "      <td>76.0</td>\n",
       "      <td>73.0</td>\n",
       "      <td>70.0</td>\n",
       "      <td>67.0</td>\n",
       "      <td>64.0</td>\n",
       "      <td>73.0</td>\n",
       "      <td>...</td>\n",
       "      <td>43.0</td>\n",
       "      <td>43.0</td>\n",
       "      <td>43.0</td>\n",
       "      <td>43.0</td>\n",
       "      <td>43.0</td>\n",
       "      <td>43.0</td>\n",
       "      <td>43.0</td>\n",
       "      <td>43.0</td>\n",
       "      <td>43.0</td>\n",
       "      <td>0</td>\n",
       "    </tr>\n",
       "    <tr>\n",
       "      <th>4</th>\n",
       "      <td>30003749.0</td>\n",
       "      <td>74.0</td>\n",
       "      <td>74.0</td>\n",
       "      <td>74.0</td>\n",
       "      <td>77.0</td>\n",
       "      <td>83.0</td>\n",
       "      <td>87.0</td>\n",
       "      <td>90.0</td>\n",
       "      <td>85.0</td>\n",
       "      <td>89.0</td>\n",
       "      <td>...</td>\n",
       "      <td>34.4</td>\n",
       "      <td>34.4</td>\n",
       "      <td>34.4</td>\n",
       "      <td>34.4</td>\n",
       "      <td>34.4</td>\n",
       "      <td>34.4</td>\n",
       "      <td>34.4</td>\n",
       "      <td>34.4</td>\n",
       "      <td>34.4</td>\n",
       "      <td>1</td>\n",
       "    </tr>\n",
       "  </tbody>\n",
       "</table>\n",
       "<p>5 rows × 170 columns</p>\n",
       "</div>"
      ],
      "text/plain": [
       "      stay_id  heart_rate_0  heart_rate_1  heart_rate_2  heart_rate_3  \\\n",
       "0  30002498.0          81.0          72.0          78.0          86.0   \n",
       "1  30003087.0          74.0          72.0          77.0          71.0   \n",
       "2  30003372.0         111.0         108.5         106.0         104.0   \n",
       "3  30003598.0          75.0          75.0          79.0          76.0   \n",
       "4  30003749.0          74.0          74.0          74.0          77.0   \n",
       "\n",
       "   heart_rate_4  heart_rate_5  heart_rate_6  heart_rate_7  heart_rate_8  ...  \\\n",
       "0          92.0          86.0          80.0          82.0          87.0  ...   \n",
       "1          89.0         112.0         109.0          99.0         117.0  ...   \n",
       "2         102.0         123.0         107.0         111.0         112.0  ...   \n",
       "3          73.0          70.0          67.0          64.0          73.0  ...   \n",
       "4          83.0          87.0          90.0          85.0          89.0  ...   \n",
       "\n",
       "   temperature_15  temperature_16  temperature_17  temperature_18  \\\n",
       "0            43.0            43.0            43.0            43.0   \n",
       "1            43.0            43.0            43.0            43.0   \n",
       "2            43.0            43.0            43.0            43.0   \n",
       "3            43.0            43.0            43.0            43.0   \n",
       "4            34.4            34.4            34.4            34.4   \n",
       "\n",
       "   temperature_19  temperature_20  temperature_21  temperature_22  \\\n",
       "0            43.0            43.0            43.0            43.0   \n",
       "1            43.0            43.0            43.0            43.0   \n",
       "2            43.0            43.0            43.0            43.0   \n",
       "3            43.0            43.0            43.0            43.0   \n",
       "4            34.4            34.4            34.4            34.4   \n",
       "\n",
       "   temperature_23  sepsis  \n",
       "0            43.0       0  \n",
       "1            43.0       0  \n",
       "2            43.0       0  \n",
       "3            43.0       0  \n",
       "4            34.4       1  \n",
       "\n",
       "[5 rows x 170 columns]"
      ]
     },
     "metadata": {},
     "output_type": "display_data"
    }
   ],
   "source": [
    "# 10. Prepare multivariate classification dataset: one row per stay, time series features, sepsis label\n",
    "\n",
    "# Pick which imputed data you want (usually linear interpolation is a strong default)\n",
    "imputed_df = hourly_interp.copy()\n",
    "\n",
    "# For modeling, let's focus on the main 6-7 vital signs\n",
    "feature_vars = ['heart_rate', 'sbp', 'dbp', 'mbp', 'resp_rate', 'spo2', 'temperature']\n",
    "\n",
    "# The sepsis label for each stay is already in 'balanced_cohort' dataframe\n",
    "labels = balanced_cohort.set_index('stay_id')['sepsis']\n",
    "\n",
    "# \"Flatten\" the 24-hour time series for each variable and stay into one row (wide format)\n",
    "# Feature names will be var_hour (e.g., heart_rate_0, heart_rate_1, ..., sbp_23, ...)\n",
    "def flatten_timeseries(df, vars, hours=24):\n",
    "    flat = []\n",
    "    stay_ids = df['stay_id'].unique()\n",
    "    for stay_id in stay_ids:\n",
    "        df_stay = df[df['stay_id'] == stay_id].sort_values('hour')\n",
    "        row = {'stay_id': stay_id}\n",
    "        for var in vars:\n",
    "            vals = df_stay[var].values if var in df_stay.columns else [np.nan]*hours\n",
    "            for h in range(hours):\n",
    "                key = f'{var}_{h}'\n",
    "                row[key] = vals[h] if h < len(vals) else np.nan\n",
    "        flat.append(row)\n",
    "    return pd.DataFrame(flat)\n",
    "\n",
    "flat_df = flatten_timeseries(imputed_df, feature_vars, hours=24)\n",
    "flat_df = flat_df.merge(labels, left_on='stay_id', right_index=True)\n",
    "\n",
    "print(f\"Classification-ready shape: {flat_df.shape} (rows: stays, columns: flattened time points + label)\")\n",
    "display(flat_df.head())\n"
   ]
  },
  {
   "cell_type": "markdown",
   "id": "a2b8a12b",
   "metadata": {},
   "source": [
    "## Multivariate Time Series Dataset for Sepsis Classification\n",
    "\n",
    "We have now transformed our raw ICU time series into a classification-ready “wide” dataset:\n",
    "\n",
    "- **Each row** = one ICU stay (patient encounter).\n",
    "- **Each column** = one hour of a vital sign, for all 24 hours and all key vitals (e.g., `heart_rate_0`, `sbp_0`, ..., `spo2_23`, etc.).\n",
    "- **Label** = `sepsis` (1 = sepsis, 0 = non-sepsis), from the clinical diagnosis codes.\n",
    "\n",
    "This structure allows us to benchmark both:\n",
    "- **Classic classifiers** (logistic regression, random forest, etc.), using simple statistical or flattened features.\n",
    "- **Deep learning models** (TFT, GRU, LSTM, etc.), by converting this back to sequence/tensor format as needed.\n",
    "\n",
    "\n",
    "**Next:**  \n",
    "Let’s split into train/test sets and benchmark classic classifiers as a baseline for early sepsis prediction.\n"
   ]
  },
  {
   "cell_type": "markdown",
   "id": "19e59f0f",
   "metadata": {},
   "source": [
    "## Code Cell #11: Handle Remaining NaNs for ML"
   ]
  },
  {
   "cell_type": "code",
   "execution_count": 9,
   "id": "53ccfe52",
   "metadata": {
    "scrolled": true
   },
   "outputs": [
    {
     "name": "stdout",
     "output_type": "stream",
     "text": [
      "Total remaining missing values in features: 0\n"
     ]
    }
   ],
   "source": [
    "# 11. Impute any remaining NaNs in the classification dataset (final clean-up for ML)\n",
    "\n",
    "# Exclude label and stay_id from imputation\n",
    "feature_cols = [col for col in flat_df.columns if col not in ['stay_id', 'sepsis']]\n",
    "\n",
    "# Fill any remaining NaNs in features with the column mean (robust and common for ML)\n",
    "flat_df[feature_cols] = flat_df[feature_cols].fillna(flat_df[feature_cols].mean())\n",
    "\n",
    "# Check for any remaining missing values (should be zero)\n",
    "total_missing = flat_df[feature_cols].isna().sum().sum()\n",
    "print(f\"Total remaining missing values in features: {total_missing}\")\n"
   ]
  },
  {
   "cell_type": "markdown",
   "id": "0be053b8",
   "metadata": {},
   "source": [
    "## Final Data Cleaning: Imputing Remaining Missing Values\n",
    "\n",
    "Even after our careful time series imputation and flattening, some NaN values may remain in the classification dataset.\n",
    "This is common in real-world EHR data, since not every vital sign is measured every hour for every patient.\n",
    "\n",
    "**Why is this important?**\n",
    "- Most classic machine learning algorithms (e.g., logistic regression, random forest, XGBoost) do **not** accept missing values.\n",
    "- To ensure robust model training and fair comparison, we fill any remaining NaNs with the **column mean**, a simple, effective, and widely used strategy in clinical ML.\n",
    "\n",
    "> **Best Practice:**  \n",
    "Always check and handle missing data at every stage, especially right before model fitting, to prevent subtle errors and ensure reproducibility.\n",
    "\n",
    "**Now our dataset is fully ML-ready!**\n",
    "\n"
   ]
  },
  {
   "cell_type": "markdown",
   "id": "e7db7cd6",
   "metadata": {},
   "source": [
    "## Code Cell #12: Train/Test Split for Sepsis Classification"
   ]
  },
  {
   "cell_type": "code",
   "execution_count": 10,
   "id": "b6233dd6",
   "metadata": {},
   "outputs": [
    {
     "name": "stdout",
     "output_type": "stream",
     "text": [
      "Train shape: (15990, 168), Test shape: (3998, 168)\n",
      "Train label distribution:\n",
      " sepsis\n",
      "1    0.500188\n",
      "0    0.499812\n",
      "Name: proportion, dtype: float64\n",
      "Test label distribution:\n",
      " sepsis\n",
      "1    0.50025\n",
      "0    0.49975\n",
      "Name: proportion, dtype: float64\n"
     ]
    }
   ],
   "source": [
    "# 12. Split the data into train/test sets for supervised learning\n",
    "\n",
    "from sklearn.model_selection import train_test_split\n",
    "\n",
    "# Exclude non-feature columns\n",
    "X = flat_df.drop(columns=['stay_id', 'sepsis'])\n",
    "y = flat_df['sepsis']\n",
    "\n",
    "# Stratified split ensures both train and test sets have similar sepsis/non-sepsis ratios\n",
    "X_train, X_test, y_train, y_test = train_test_split(\n",
    "    X, y, test_size=0.2, random_state=42, stratify=y\n",
    ")\n",
    "\n",
    "print(f\"Train shape: {X_train.shape}, Test shape: {X_test.shape}\")\n",
    "print(\"Train label distribution:\\n\", y_train.value_counts(normalize=True))\n",
    "print(\"Test label distribution:\\n\", y_test.value_counts(normalize=True))\n"
   ]
  },
  {
   "cell_type": "code",
   "execution_count": null,
   "id": "8a989df8",
   "metadata": {},
   "outputs": [],
   "source": []
  },
  {
   "cell_type": "markdown",
   "id": "a273a258",
   "metadata": {},
   "source": [
    "## Splitting the Data for Supervised Classification\n",
    "\n",
    "We now split our cleaned, feature-complete dataset into **training** and **testing** sets:\n",
    "\n",
    "- **80% for training, 20% for testing**, a standard ratio for robust model evaluation.\n",
    "- **Stratified splitting** ensures both sets have the same proportion of sepsis and non-sepsis cases, which is critical for fair assessment in imbalanced or rare-event prediction tasks.\n",
    "\n",
    "> **Best Practice:**  \n",
    "Never evaluate your models on the same data used for training, always use a separate hold-out set to get a realistic estimate of generalization performance.\n",
    "\n"
   ]
  },
  {
   "cell_type": "markdown",
   "id": "f4be7ac0",
   "metadata": {},
   "source": [
    "## 12a. Feature Scaling with RobustScaler (after train/test split)"
   ]
  },
  {
   "cell_type": "code",
   "execution_count": 11,
   "id": "9d31c524",
   "metadata": {
    "scrolled": true
   },
   "outputs": [
    {
     "name": "stdout",
     "output_type": "stream",
     "text": [
      "Medians after scaling (train): {'heart_rate_0': 0.0, 'heart_rate_1': 0.0, 'heart_rate_2': 0.0, 'heart_rate_3': 0.0, 'heart_rate_4': 0.0, 'heart_rate_5': 0.0, 'heart_rate_6': 0.0, 'heart_rate_7': 0.0, 'heart_rate_8': 0.0, 'heart_rate_9': 0.0, 'heart_rate_10': 0.0, 'heart_rate_11': 0.0, 'heart_rate_12': 0.0, 'heart_rate_13': 0.0, 'heart_rate_14': 0.0, 'heart_rate_15': 0.0, 'heart_rate_16': 0.0, 'heart_rate_17': 0.0, 'heart_rate_18': 0.0, 'heart_rate_19': 0.0, 'heart_rate_20': 0.0, 'heart_rate_21': 0.0, 'heart_rate_22': 0.0, 'heart_rate_23': 0.0, 'sbp_0': 0.0, 'sbp_1': 0.0, 'sbp_2': 0.0, 'sbp_3': 0.0, 'sbp_4': 0.0, 'sbp_5': 0.0, 'sbp_6': 0.0, 'sbp_7': 0.0, 'sbp_8': 0.0, 'sbp_9': 0.0, 'sbp_10': 0.0, 'sbp_11': 0.0, 'sbp_12': 0.0, 'sbp_13': 0.0, 'sbp_14': 0.0, 'sbp_15': 0.0, 'sbp_16': 0.0, 'sbp_17': 0.0, 'sbp_18': 0.0, 'sbp_19': 0.0, 'sbp_20': 0.0, 'sbp_21': 0.0, 'sbp_22': 0.0, 'sbp_23': 0.0, 'dbp_0': 0.0, 'dbp_1': 0.0, 'dbp_2': 0.0, 'dbp_3': 0.0, 'dbp_4': 0.0, 'dbp_5': 0.0, 'dbp_6': 0.0, 'dbp_7': 0.0, 'dbp_8': 0.0, 'dbp_9': 0.0, 'dbp_10': 0.0, 'dbp_11': 0.0, 'dbp_12': 0.0, 'dbp_13': 0.0, 'dbp_14': 0.0, 'dbp_15': 0.0, 'dbp_16': 0.0, 'dbp_17': 0.0, 'dbp_18': 0.0, 'dbp_19': 0.0, 'dbp_20': 0.0, 'dbp_21': 0.0, 'dbp_22': 0.0, 'dbp_23': 0.0, 'mbp_0': 0.0, 'mbp_1': 0.0, 'mbp_2': 0.0, 'mbp_3': 0.0, 'mbp_4': 0.0, 'mbp_5': 0.0, 'mbp_6': 0.0, 'mbp_7': 0.0, 'mbp_8': 0.0, 'mbp_9': 0.0, 'mbp_10': 0.0, 'mbp_11': 0.0, 'mbp_12': 0.0, 'mbp_13': 0.0, 'mbp_14': 0.0, 'mbp_15': 0.0, 'mbp_16': 0.0, 'mbp_17': 0.0, 'mbp_18': 0.0, 'mbp_19': 0.0, 'mbp_20': 0.0, 'mbp_21': 0.0, 'mbp_22': 0.0, 'mbp_23': 0.0, 'resp_rate_0': 0.0, 'resp_rate_1': 0.0, 'resp_rate_2': 0.0, 'resp_rate_3': 0.0, 'resp_rate_4': 0.0, 'resp_rate_5': 0.0, 'resp_rate_6': 0.0, 'resp_rate_7': 0.0, 'resp_rate_8': 0.0, 'resp_rate_9': 0.0, 'resp_rate_10': 0.0, 'resp_rate_11': 0.0, 'resp_rate_12': 0.0, 'resp_rate_13': 0.0, 'resp_rate_14': 0.0, 'resp_rate_15': 0.0, 'resp_rate_16': 0.0, 'resp_rate_17': 0.0, 'resp_rate_18': 0.0, 'resp_rate_19': 0.0, 'resp_rate_20': 0.0, 'resp_rate_21': 0.0, 'resp_rate_22': 0.0, 'resp_rate_23': 0.0, 'spo2_0': 0.0, 'spo2_1': 0.0, 'spo2_2': 0.0, 'spo2_3': 0.0, 'spo2_4': 0.0, 'spo2_5': 0.0, 'spo2_6': 0.0, 'spo2_7': 0.0, 'spo2_8': 0.0, 'spo2_9': 0.0, 'spo2_10': 0.0, 'spo2_11': 0.0, 'spo2_12': 0.0, 'spo2_13': 0.0, 'spo2_14': 0.0, 'spo2_15': 0.0, 'spo2_16': 0.0, 'spo2_17': 0.0, 'spo2_18': 0.0, 'spo2_19': 0.0, 'spo2_20': 0.0, 'spo2_21': 0.0, 'spo2_22': 0.0, 'spo2_23': 0.0, 'temperature_0': 0.0, 'temperature_1': 0.0, 'temperature_2': 0.0, 'temperature_3': 0.0, 'temperature_4': 0.0, 'temperature_5': 0.0, 'temperature_6': 0.0, 'temperature_7': 0.0, 'temperature_8': 0.0, 'temperature_9': 0.0, 'temperature_10': 0.0, 'temperature_11': 0.0, 'temperature_12': 0.0, 'temperature_13': 0.0, 'temperature_14': 0.0, 'temperature_15': 0.0, 'temperature_16': 0.0, 'temperature_17': 0.0, 'temperature_18': 0.0, 'temperature_19': 0.0, 'temperature_20': 0.0, 'temperature_21': 0.0, 'temperature_22': 0.0, 'temperature_23': 0.0}\n",
      "IQRs after scaling (train): {'heart_rate_0': 1.0, 'heart_rate_1': 1.0, 'heart_rate_2': 1.0, 'heart_rate_3': 1.0, 'heart_rate_4': 1.0, 'heart_rate_5': 1.0, 'heart_rate_6': 1.0, 'heart_rate_7': 1.0, 'heart_rate_8': 1.0, 'heart_rate_9': 1.0, 'heart_rate_10': 1.0, 'heart_rate_11': 1.0, 'heart_rate_12': 1.0, 'heart_rate_13': 1.0, 'heart_rate_14': 1.0, 'heart_rate_15': 1.0, 'heart_rate_16': 1.0, 'heart_rate_17': 1.0, 'heart_rate_18': 1.0, 'heart_rate_19': 1.0, 'heart_rate_20': 1.0, 'heart_rate_21': 1.0, 'heart_rate_22': 1.0, 'heart_rate_23': 0.0, 'sbp_0': 1.0, 'sbp_1': 1.0, 'sbp_2': 1.0, 'sbp_3': 1.0, 'sbp_4': 1.0, 'sbp_5': 1.0, 'sbp_6': 1.0, 'sbp_7': 1.0, 'sbp_8': 1.0, 'sbp_9': 1.0, 'sbp_10': 1.0, 'sbp_11': 1.0, 'sbp_12': 1.0, 'sbp_13': 1.0, 'sbp_14': 1.0, 'sbp_15': 1.0, 'sbp_16': 1.0, 'sbp_17': 1.0, 'sbp_18': 1.0, 'sbp_19': 1.0, 'sbp_20': 1.0, 'sbp_21': 1.0, 'sbp_22': 1.0, 'sbp_23': 1.0, 'dbp_0': 1.0, 'dbp_1': 1.0, 'dbp_2': 1.0, 'dbp_3': 1.0, 'dbp_4': 1.0, 'dbp_5': 1.0, 'dbp_6': 1.0, 'dbp_7': 1.0, 'dbp_8': 1.0, 'dbp_9': 1.0, 'dbp_10': 1.0, 'dbp_11': 1.0, 'dbp_12': 1.0, 'dbp_13': 1.0, 'dbp_14': 1.0, 'dbp_15': 1.0, 'dbp_16': 1.0, 'dbp_17': 1.0, 'dbp_18': 1.0, 'dbp_19': 1.0, 'dbp_20': 1.0, 'dbp_21': 1.0, 'dbp_22': 1.0, 'dbp_23': 0.0, 'mbp_0': 1.0, 'mbp_1': 1.0, 'mbp_2': 1.0, 'mbp_3': 1.0, 'mbp_4': 1.0, 'mbp_5': 1.0, 'mbp_6': 1.0, 'mbp_7': 1.0, 'mbp_8': 1.0, 'mbp_9': 1.0, 'mbp_10': 1.0, 'mbp_11': 1.0, 'mbp_12': 1.0, 'mbp_13': 1.0, 'mbp_14': 1.0, 'mbp_15': 1.0, 'mbp_16': 1.0, 'mbp_17': 1.0, 'mbp_18': 1.0, 'mbp_19': 1.0, 'mbp_20': 1.0, 'mbp_21': 1.0, 'mbp_22': 1.0, 'mbp_23': 0.0, 'resp_rate_0': 1.0, 'resp_rate_1': 1.0, 'resp_rate_2': 1.0, 'resp_rate_3': 1.0, 'resp_rate_4': 1.0, 'resp_rate_5': 1.0, 'resp_rate_6': 1.0, 'resp_rate_7': 1.0, 'resp_rate_8': 1.0, 'resp_rate_9': 1.0, 'resp_rate_10': 1.0, 'resp_rate_11': 1.0, 'resp_rate_12': 1.0, 'resp_rate_13': 1.0, 'resp_rate_14': 1.0, 'resp_rate_15': 1.0, 'resp_rate_16': 1.0, 'resp_rate_17': 1.0, 'resp_rate_18': 1.0, 'resp_rate_19': 1.0, 'resp_rate_20': 1.0, 'resp_rate_21': 1.0, 'resp_rate_22': 1.0, 'resp_rate_23': 1.0, 'spo2_0': 1.0, 'spo2_1': 1.0, 'spo2_2': 1.0, 'spo2_3': 1.0, 'spo2_4': 1.0, 'spo2_5': 1.0, 'spo2_6': 1.0, 'spo2_7': 1.0, 'spo2_8': 1.0, 'spo2_9': 1.0, 'spo2_10': 1.0, 'spo2_11': 1.0, 'spo2_12': 1.0, 'spo2_13': 1.0, 'spo2_14': 1.0, 'spo2_15': 1.0, 'spo2_16': 1.0, 'spo2_17': 1.0, 'spo2_18': 1.0, 'spo2_19': 1.0, 'spo2_20': 1.0, 'spo2_21': 1.0, 'spo2_22': 1.0, 'spo2_23': 0.0, 'temperature_0': 0.0, 'temperature_1': 0.0, 'temperature_2': 0.0, 'temperature_3': 0.0, 'temperature_4': 0.0, 'temperature_5': 0.0, 'temperature_6': 0.0, 'temperature_7': 0.0, 'temperature_8': 0.0, 'temperature_9': 0.0, 'temperature_10': 0.0, 'temperature_11': 0.0, 'temperature_12': 0.0, 'temperature_13': 0.0, 'temperature_14': 0.0, 'temperature_15': 0.0, 'temperature_16': 0.0, 'temperature_17': 0.0, 'temperature_18': 0.0, 'temperature_19': 1.0, 'temperature_20': 1.0, 'temperature_21': 1.0, 'temperature_22': 1.0, 'temperature_23': 1.0}\n"
     ]
    }
   ],
   "source": [
    "from sklearn.preprocessing import RobustScaler\n",
    "\n",
    "# 1. Initialize the scaler\n",
    "scaler = RobustScaler()\n",
    "\n",
    "# 2. Fit the scaler on the training data (DO NOT fit on test data!)\n",
    "scaler.fit(X_train)\n",
    "\n",
    "# 3. Transform both train and test features\n",
    "X_train_scaled = scaler.transform(X_train)\n",
    "X_test_scaled = scaler.transform(X_test)\n",
    "\n",
    "# 4. (Optional) If you need DataFrames instead of numpy arrays:\n",
    "X_train_scaled = pd.DataFrame(X_train_scaled, columns=X_train.columns, index=X_train.index)\n",
    "X_test_scaled = pd.DataFrame(X_test_scaled, columns=X_test.columns, index=X_test.index)\n",
    "\n",
    "# 5. Check the distribution after scaling (should be median~0, IQR~1 for train set)\n",
    "print(\"Medians after scaling (train):\", X_train_scaled.median().round(2).to_dict())\n",
    "print(\"IQRs after scaling (train):\", (X_train_scaled.quantile(0.75) - X_train_scaled.quantile(0.25)).round(2).to_dict())\n"
   ]
  },
  {
   "cell_type": "markdown",
   "id": "89be492e",
   "metadata": {},
   "source": [
    "## Feature Scaling: Robust Scaling ICU Time Series for Outlier-Resistant Modeling\n",
    "\n",
    "In ICU datasets, physiological measurements often contain **outliers** - extreme values caused by sensor noise, sudden patient changes, or recording errors.  \n",
    "Traditional scaling methods like **StandardScaler** (mean=0, std=1) can be heavily skewed by these outliers, leading to distorted feature distributions.\n",
    "\n",
    "### Why Use Robust Scaling?\n",
    "- **Outlier Resistance:** Uses the **median** and **interquartile range (IQR)** instead of mean and standard deviation.\n",
    "- **Stable Centering:** Median is less affected by extreme values, ensuring that scaling is not dominated by rare anomalies.\n",
    "- **Consistent Spread:** IQR (75th percentile – 25th percentile) provides a robust measure of variability.\n",
    "\n",
    "### What Did We Do?\n",
    "- Applied `RobustScaler` from scikit-learn:\n",
    "  - **Centering:** Subtracted the median of each feature.\n",
    "  - **Scaling:** Divided by the IQR.\n",
    "- **Fit only on the training set** to avoid data leakage, then applied the same transformation to the test set.\n",
    "- Converted the scaled NumPy arrays back to DataFrames for easier interpretation and alignment with original feature names.\n",
    "\n",
    "### Results of Scaling\n",
    "- **Median of each feature ≈ 0**\n",
    "- **IQR of each feature ≈ 1**\n",
    "- This makes the features comparable in scale while preserving robustness to outliers - a valuable property for noisy ICU data.\n",
    "\n",
    "> **Takeaway:** Robust scaling is particularly suitable when working with medical time series, where large, sudden spikes are common but should not dominate the model’s perception of the data.\n",
    "\n",
    "---\n",
    "**Reference:**  \n",
    "- Huber, P. J., & Ronchetti, E. M. (2009). *Robust Statistics* (2nd ed.). Wiley.\n"
   ]
  },
  {
   "cell_type": "markdown",
   "id": "1f40f83e",
   "metadata": {},
   "source": [
    "## Code Cell #13: Baseline Classification - Logistic Regression & Random Forest"
   ]
  },
  {
   "cell_type": "code",
   "execution_count": 12,
   "id": "4024e9d8",
   "metadata": {},
   "outputs": [
    {
     "data": {
      "image/png": "[encoded data removed]",
      "text/plain": [
       "<Figure size 576x432 with 1 Axes>"
      ]
     },
     "metadata": {
      "needs_background": "light"
     },
     "output_type": "display_data"
    },
    {
     "name": "stdout",
     "output_type": "stream",
     "text": [
      "Classification metrics on test set:\n"
     ]
    },
    {
     "data": {
      "text/html": [
       "<div>\n",
       "<style scoped>\n",
       "    .dataframe tbody tr th:only-of-type {\n",
       "        vertical-align: middle;\n",
       "    }\n",
       "\n",
       "    .dataframe tbody tr th {\n",
       "        vertical-align: top;\n",
       "    }\n",
       "\n",
       "    .dataframe thead th {\n",
       "        text-align: right;\n",
       "    }\n",
       "</style>\n",
       "<table border=\"1\" class=\"dataframe\">\n",
       "  <thead>\n",
       "    <tr style=\"text-align: right;\">\n",
       "      <th></th>\n",
       "      <th>Model</th>\n",
       "      <th>Accuracy</th>\n",
       "      <th>AUC</th>\n",
       "      <th>F1</th>\n",
       "    </tr>\n",
       "  </thead>\n",
       "  <tbody>\n",
       "    <tr>\n",
       "      <th>0</th>\n",
       "      <td>Logistic Regression</td>\n",
       "      <td>0.653577</td>\n",
       "      <td>0.715908</td>\n",
       "      <td>0.649987</td>\n",
       "    </tr>\n",
       "    <tr>\n",
       "      <th>1</th>\n",
       "      <td>Random Forest</td>\n",
       "      <td>0.676338</td>\n",
       "      <td>0.738260</td>\n",
       "      <td>0.679703</td>\n",
       "    </tr>\n",
       "  </tbody>\n",
       "</table>\n",
       "</div>"
      ],
      "text/plain": [
       "                 Model  Accuracy       AUC        F1\n",
       "0  Logistic Regression  0.653577  0.715908  0.649987\n",
       "1        Random Forest  0.676338  0.738260  0.679703"
      ]
     },
     "metadata": {},
     "output_type": "display_data"
    },
    {
     "name": "stdout",
     "output_type": "stream",
     "text": [
      "Random Forest detailed classification report:\n",
      "              precision    recall  f1-score   support\n",
      "\n",
      "           0      0.680     0.666     0.673      1998\n",
      "           1      0.673     0.686     0.680      2000\n",
      "\n",
      "    accuracy                          0.676      3998\n",
      "   macro avg      0.676     0.676     0.676      3998\n",
      "weighted avg      0.676     0.676     0.676      3998\n",
      "\n"
     ]
    }
   ],
   "source": [
    "# 13. Baseline models: Logistic Regression and Random Forest (using SCALED features)\n",
    "\n",
    "from sklearn.linear_model import LogisticRegression\n",
    "from sklearn.ensemble import RandomForestClassifier\n",
    "from sklearn.metrics import (\n",
    "    roc_auc_score, roc_curve, accuracy_score, f1_score, confusion_matrix, classification_report\n",
    ")\n",
    "import matplotlib.pyplot as plt\n",
    "\n",
    "# IMPORTANT: Use the scaled features from previous step!\n",
    "X_train_model = X_train_scaled\n",
    "X_test_model = X_test_scaled\n",
    "\n",
    "# Initialize models\n",
    "logreg = LogisticRegression(max_iter=1000, random_state=42, n_jobs=-1)\n",
    "rf = RandomForestClassifier(n_estimators=100, random_state=42, n_jobs=-1)\n",
    "\n",
    "# Fit and predict\n",
    "logreg.fit(X_train_model, y_train)\n",
    "rf.fit(X_train_model, y_train)\n",
    "\n",
    "y_pred_logreg = logreg.predict(X_test_model)\n",
    "y_pred_rf = rf.predict(X_test_model)\n",
    "y_proba_logreg = logreg.predict_proba(X_test_model)[:,1]\n",
    "y_proba_rf = rf.predict_proba(X_test_model)[:,1]\n",
    "\n",
    "# Metrics collection\n",
    "metrics = {\n",
    "    \"Model\": [],\n",
    "    \"Accuracy\": [],\n",
    "    \"AUC\": [],\n",
    "    \"F1\": [],\n",
    "}\n",
    "\n",
    "for name, y_pred, y_proba in [\n",
    "    (\"Logistic Regression\", y_pred_logreg, y_proba_logreg),\n",
    "    (\"Random Forest\", y_pred_rf, y_proba_rf),\n",
    "]:\n",
    "    metrics[\"Model\"].append(name)\n",
    "    metrics[\"Accuracy\"].append(accuracy_score(y_test, y_pred))\n",
    "    metrics[\"AUC\"].append(roc_auc_score(y_test, y_proba))\n",
    "    metrics[\"F1\"].append(f1_score(y_test, y_pred))\n",
    "\n",
    "metrics_df = pd.DataFrame(metrics)\n",
    "\n",
    "# ROC curves\n",
    "plt.figure(figsize=(8,6))\n",
    "for name, y_proba in [\n",
    "    (\"Logistic Regression\", y_proba_logreg),\n",
    "    (\"Random Forest\", y_proba_rf),\n",
    "]:\n",
    "    fpr, tpr, _ = roc_curve(y_test, y_proba)\n",
    "    plt.plot(fpr, tpr, label=f\"{name} (AUC={roc_auc_score(y_test, y_proba):.3f})\")\n",
    "plt.plot([0,1], [0,1], 'k--', alpha=0.6)\n",
    "plt.xlabel('False Positive Rate')\n",
    "plt.ylabel('True Positive Rate')\n",
    "plt.title('ROC Curves for Sepsis Prediction (Baseline Models)')\n",
    "plt.legend()\n",
    "plt.grid()\n",
    "plt.tight_layout()\n",
    "plt.show()\n",
    "\n",
    "print(\"Classification metrics on test set:\")\n",
    "display(metrics_df)\n",
    "\n",
    "# Optional: Show full classification report for Random Forest\n",
    "print(\"Random Forest detailed classification report:\")\n",
    "print(classification_report(y_test, y_pred_rf, digits=3))\n"
   ]
  },
  {
   "cell_type": "markdown",
   "id": "e7d197d5",
   "metadata": {},
   "source": [
    "## Baseline Classification: Logistic Regression and Random Forest (with Feature Scaling)\n",
    "\n",
    "After scaling our features, we established strong baseline models for sepsis prediction using two widely used supervised classifiers:\n",
    "\n",
    "- **Logistic Regression:** A simple, interpretable linear model that often serves as a solid baseline.\n",
    "- **Random Forest:** An ensemble tree-based method that captures nonlinearities and interactions without requiring feature scaling (but benefits from it when features are on different scales).\n",
    "\n",
    "### What We Did\n",
    "- **Training:** Both models were trained on the scaled feature set (`X_train_scaled`) to ensure fair comparison and model stability.\n",
    "- **Evaluation:** Predictions were made on the test set, and multiple performance metrics were computed:\n",
    "  - **Accuracy:** Fraction of correct predictions.\n",
    "  - **AUC (Area Under the ROC Curve):** Probability the classifier ranks a randomly chosen positive higher than a negative.\n",
    "  - **F1-score:** Harmonic mean of precision and recall, useful for imbalanced datasets.\n",
    "- **ROC Curves:** Plotted to visualize the true positive rate vs. false positive rate for both models.\n",
    "\n",
    "### Results\n",
    "\n",
    "| Model                | Accuracy |    AUC   |  F1   |\n",
    "|----------------------|----------|----------|-------|\n",
    "| Logistic Regression  | 0.653    | 0.716    | 0.650 |\n",
    "| Random Forest        | 0.678    | 0.738    | 0.682 |\n",
    "\n",
    "**Random Forest** slightly outperforms Logistic Regression in all metrics, indicating its ability to model more complex patterns in the data.\n",
    "\n",
    "#### Detailed Random Forest Classification Report\n",
    "- **Precision:** Proportion of predicted positives that are actually positive (0.674 for sepsis).\n",
    "- **Recall:** Proportion of actual positives correctly identified (0.691 for sepsis).\n",
    "- **Support:** Number of true instances for each class.\n",
    "- **F1-score:** Balances precision and recall (0.682 for sepsis).\n",
    "\n",
    "The macro and weighted averages show consistent performance across classes, reflecting well-balanced sensitivity and specificity.\n",
    "\n",
    "### Key Takeaways\n",
    "- Both models perform reasonably well, but there is room for improvement, especially by leveraging time-series models or incorporating additional clinical features.\n",
    "- **Scaling features is essential** for logistic regression and generally improves model convergence and performance.\n",
    "- The random forest’s higher F1 and AUC suggest it is a better choice as a classical baseline for this ICU sepsis prediction task.\n",
    "\n",
    "---\n"
   ]
  },
  {
   "cell_type": "markdown",
   "id": "77168f0e",
   "metadata": {},
   "source": [
    "## Code cell #13a: K-fold cross-validation is a gold-standard for robustly estimating model performance"
   ]
  },
  {
   "cell_type": "code",
   "execution_count": 13,
   "id": "7e9e8cc2",
   "metadata": {},
   "outputs": [
    {
     "name": "stdout",
     "output_type": "stream",
     "text": [
      "Logistic Regression CV AUC: 0.721 ± 0.007\n",
      "Random Forest CV AUC:      0.740 ± 0.007\n",
      "\n",
      "K-fold cross-validation metrics (5-fold):\n"
     ]
    },
    {
     "data": {
      "text/html": [
       "<div>\n",
       "<style scoped>\n",
       "    .dataframe tbody tr th:only-of-type {\n",
       "        vertical-align: middle;\n",
       "    }\n",
       "\n",
       "    .dataframe tbody tr th {\n",
       "        vertical-align: top;\n",
       "    }\n",
       "\n",
       "    .dataframe thead th {\n",
       "        text-align: right;\n",
       "    }\n",
       "</style>\n",
       "<table border=\"1\" class=\"dataframe\">\n",
       "  <thead>\n",
       "    <tr style=\"text-align: right;\">\n",
       "      <th></th>\n",
       "      <th>Model</th>\n",
       "      <th>AUC (mean ± std)</th>\n",
       "      <th>Accuracy (mean)</th>\n",
       "      <th>F1 (mean)</th>\n",
       "    </tr>\n",
       "  </thead>\n",
       "  <tbody>\n",
       "    <tr>\n",
       "      <th>0</th>\n",
       "      <td>Logistic Regression</td>\n",
       "      <td>0.721 ± 0.007</td>\n",
       "      <td>0.663</td>\n",
       "      <td>0.661</td>\n",
       "    </tr>\n",
       "    <tr>\n",
       "      <th>1</th>\n",
       "      <td>Random Forest</td>\n",
       "      <td>0.740 ± 0.007</td>\n",
       "      <td>0.681</td>\n",
       "      <td>0.685</td>\n",
       "    </tr>\n",
       "  </tbody>\n",
       "</table>\n",
       "</div>"
      ],
      "text/plain": [
       "                 Model AUC (mean ± std) Accuracy (mean) F1 (mean)\n",
       "0  Logistic Regression    0.721 ± 0.007           0.663     0.661\n",
       "1        Random Forest    0.740 ± 0.007           0.681     0.685"
      ]
     },
     "metadata": {},
     "output_type": "display_data"
    }
   ],
   "source": [
    "from sklearn.model_selection import StratifiedKFold, cross_val_score\n",
    "from sklearn.metrics import roc_auc_score, accuracy_score, f1_score\n",
    "from sklearn.preprocessing import RobustScaler\n",
    "from sklearn.pipeline import make_pipeline\n",
    "from sklearn.linear_model import LogisticRegression\n",
    "from sklearn.ensemble import RandomForestClassifier\n",
    "import numpy as np\n",
    "import pandas as pd\n",
    "\n",
    "# Models *with scaling* using Pipeline\n",
    "logreg_pipe = make_pipeline(RobustScaler(), \n",
    "                            LogisticRegression(max_iter=1000, random_state=42, n_jobs=-1))\n",
    "rf_pipe = make_pipeline(RobustScaler(),   # scaling doesn't hurt RF, so keep for fair comparison\n",
    "                        RandomForestClassifier(n_estimators=100, random_state=42, n_jobs=-1))\n",
    "\n",
    "# Stratified K-Fold setup\n",
    "n_splits = 5\n",
    "skf = StratifiedKFold(n_splits=n_splits, shuffle=True, random_state=42)\n",
    "\n",
    "# --- Fast: AUC using cross_val_score ---\n",
    "logreg_auc = cross_val_score(logreg_pipe, X, y, cv=skf, scoring='roc_auc', n_jobs=-1)\n",
    "rf_auc = cross_val_score(rf_pipe, X, y, cv=skf, scoring='roc_auc', n_jobs=-1)\n",
    "print(f\"Logistic Regression CV AUC: {logreg_auc.mean():.3f} ± {logreg_auc.std():.3f}\")\n",
    "print(f\"Random Forest CV AUC:      {rf_auc.mean():.3f} ± {rf_auc.std():.3f}\")\n",
    "\n",
    "# --- Manual loop for multiple metrics (AUC, Accuracy, F1) ---\n",
    "def kfold_metrics(model, X, y, cv):\n",
    "    aucs, accs, f1s = [], [], []\n",
    "    for train_idx, test_idx in cv.split(X, y):\n",
    "        # Pipeline: fit scaler and model on train, predict on test\n",
    "        model.fit(X[train_idx], y[train_idx])\n",
    "        y_pred = model.predict(X[test_idx])\n",
    "        y_prob = model.predict_proba(X[test_idx])[:, 1]\n",
    "        aucs.append(roc_auc_score(y[test_idx], y_prob))\n",
    "        accs.append(accuracy_score(y[test_idx], y_pred))\n",
    "        f1s.append(f1_score(y[test_idx], y_pred))\n",
    "    return np.mean(aucs), np.std(aucs), np.mean(accs), np.mean(f1s)\n",
    "\n",
    "# If X and y are DataFrames, convert to arrays for slicing\n",
    "X_np = np.asarray(X)\n",
    "y_np = np.asarray(y)\n",
    "\n",
    "logreg_metrics = kfold_metrics(logreg_pipe, X_np, y_np, skf)\n",
    "rf_metrics = kfold_metrics(rf_pipe, X_np, y_np, skf)\n",
    "\n",
    "results = pd.DataFrame({\n",
    "    \"Model\": [\"Logistic Regression\", \"Random Forest\"],\n",
    "    \"AUC (mean ± std)\": [f\"{logreg_metrics[0]:.3f} ± {logreg_metrics[1]:.3f}\", f\"{rf_metrics[0]:.3f} ± {rf_metrics[1]:.3f}\"],\n",
    "    \"Accuracy (mean)\": [f\"{logreg_metrics[2]:.3f}\", f\"{rf_metrics[2]:.3f}\"],\n",
    "    \"F1 (mean)\": [f\"{logreg_metrics[3]:.3f}\", f\"{rf_metrics[3]:.3f}\"]\n",
    "})\n",
    "\n",
    "print(\"\\nK-fold cross-validation metrics (5-fold):\")\n",
    "display(results)\n"
   ]
  },
  {
   "cell_type": "markdown",
   "id": "36cb81e8",
   "metadata": {},
   "source": [
    "## Model Evaluation with Stratified K-Fold Cross-Validation and Proper Feature Scaling\n",
    "\n",
    "To ensure robust and unbiased evaluation of our baseline models, we use **stratified k-fold cross-validation**.  \n",
    "This approach repeatedly splits the data into train/test sets, ensuring the **sepsis/non-sepsis ratio** is preserved in every fold.\n",
    "\n",
    "### Why do we use k-fold cross-validation?\n",
    "- It provides a more reliable estimate of model performance compared to a single train/test split.\n",
    "- Helps detect overfitting or instability: a model that performs well on one split but poorly on others will be revealed.\n",
    "\n",
    "### Preventing Data Leakage: Scaling **inside** the CV Loop\n",
    "\n",
    "A critical best practice: **feature scaling (standardization) must be performed inside each fold**.\n",
    "- If we scale using the *whole dataset* before cross-validation, information from the test folds leaks into the training process, leading to overly optimistic results.\n",
    "- Instead, we use a `Pipeline` that fits the scaler **only on the training data of each fold**, then applies it to the test data within that fold.\n",
    "\n",
    "### Code Summary\n",
    "- We use `StratifiedKFold` for class balance and 5 folds.\n",
    "- Both Logistic Regression and Random Forest are wrapped in a `Pipeline` with a `RobustScaler`.\n",
    "- We compute AUC, Accuracy, and F1 score for each fold and summarize the results.\n",
    "\n",
    "---\n",
    "\n",
    "**Results (5-fold cross-validation):**\n",
    "\n",
    "| Model               | AUC (mean ± std) | Accuracy (mean) | F1 (mean) |\n",
    "|---------------------|------------------|-----------------|-----------|\n",
    "| Logistic Regression | 0.721 ± 0.007    | 0.663           | 0.661     |\n",
    "| Random Forest       | 0.741 ± 0.007    | 0.681           | 0.685     |\n",
    "\n",
    "**Interpretation:**  \n",
    "- Both models show stable and reasonable performance across folds.\n",
    "- The Random Forest slightly outperforms Logistic Regression in all metrics, but both models are viable as baselines for this ICU sepsis prediction task.\n",
    "\n",
    "> **Remember:** Always incorporate cross-validation and proper scaling to get trustworthy model evaluation, especially when presenting to a data science audience!\n"
   ]
  },
  {
   "cell_type": "code",
   "execution_count": null,
   "id": "fdc7d5e0",
   "metadata": {},
   "outputs": [],
   "source": []
  },
  {
   "cell_type": "markdown",
   "id": "b3c1421f",
   "metadata": {},
   "source": [
    "## Code Cell #14: Prepare Data for TFT with PyTorch Forecasting"
   ]
  },
  {
   "cell_type": "code",
   "execution_count": 48,
   "id": "17efc8ff",
   "metadata": {},
   "outputs": [
    {
     "name": "stdout",
     "output_type": "stream",
     "text": [
      "Number of stays with <24 hours of data: 11370\n",
      "Example stay_ids with <24h: [30004811.0, 30004867.0, 30007228.0, 30007312.0, 30008148.0]\n",
      "Number of stays with missing vital(s) at hour 0: 0\n",
      "\n",
      "Missing value counts at hour 0 by variable:\n",
      "variable\n",
      "heart_rate     0\n",
      "sbp            0\n",
      "dbp            0\n",
      "mbp            0\n",
      "resp_rate      0\n",
      "spo2           0\n",
      "temperature    0\n",
      "dtype: int64\n"
     ]
    }
   ],
   "source": [
    "# 14a\n",
    "feature_cols = ['heart_rate', 'sbp', 'dbp', 'mbp', 'resp_rate', 'spo2', 'temperature']\n",
    "\n",
    "# --- 1. Stays with less than 24 hours ---\n",
    "stays_hour_counts = hourly_interp.groupby('stay_id')['hour'].nunique()\n",
    "short_stays = stays_hour_counts[stays_hour_counts < 24]\n",
    "print(f\"Number of stays with <24 hours of data: {len(short_stays)}\")\n",
    "print(\"Example stay_ids with <24h:\", short_stays.head().index.tolist())\n",
    "\n",
    "# --- 2. Stays with missing vitals at hour 0 ---\n",
    "hour0 = hourly_interp[hourly_interp['hour'] == 0]\n",
    "missing_at_start = hour0[feature_cols].isna()\n",
    "stays_missing_at_start = hour0.loc[missing_at_start.any(axis=1), 'stay_id']\n",
    "\n",
    "print(f\"Number of stays with missing vital(s) at hour 0: {stays_missing_at_start.nunique()}\")\n",
    "if not stays_missing_at_start.empty:\n",
    "    print(\"Example stay_ids missing at hour 0:\", stays_missing_at_start.unique()[:5])\n",
    "\n",
    "# Optionally, see which vitals are most commonly missing at hour 0\n",
    "missing_counts = missing_at_start.sum()\n",
    "print(\"\\nMissing value counts at hour 0 by variable:\")\n",
    "print(missing_counts)\n"
   ]
  },
  {
   "cell_type": "markdown",
   "id": "2ab9dae1",
   "metadata": {},
   "source": [
    "#### Data Exploration: ICU Stay Coverage and Initial Missingness\n",
    "\n",
    "Before preparing data for time series forecasting and classification, we first inspect the completeness of our ICU stay records in `hourly_interp`:\n",
    "\n",
    "- **Stays with <24 Hours:**  \n",
    "  Out of all ICU stays, **11,370 stays** have less than 24 hours of recorded data. This means a substantial portion of our cohort will require forecasting to obtain complete 24-hour trajectories.\n",
    "\n",
    "- **Missing Vitals at Admission:**  \n",
    "  At hour 0 (ICU admission), **no stays** have missing values for any vital sign. This is reassuring, as it means all stays start with at least one complete set of vital measurements.\n",
    "\n",
    "- **Summary:**  \n",
    "  All stays start with fully observed vitals, but many end before reaching 24 hours. To enable time series deep learning (e.g., Temporal Fusion Transformer, TFT), we must extend all stays to 24 hours, imputing the future values where necessary.\n"
   ]
  },
  {
   "cell_type": "code",
   "execution_count": null,
   "id": "c31818b8",
   "metadata": {},
   "outputs": [],
   "source": []
  },
  {
   "cell_type": "code",
   "execution_count": 54,
   "id": "e0db0a91",
   "metadata": {
    "scrolled": true
   },
   "outputs": [
    {
     "name": "stderr",
     "output_type": "stream",
     "text": [
      "Forecasting all stays: 100%|██████████| 19988/19988 [01:00<00:00, 327.83it/s]\n"
     ]
    },
    {
     "name": "stdout",
     "output_type": "stream",
     "text": [
      "Final shape (one row per stay_id/hour, all 24h, no missing): (479712, 13)\n",
      "   hour     stay_id           charttime   dbp  heart_rate    mbp  resp_rate  \\\n",
      "0     0  30002498.0 2158-01-23 16:12:00  81.0        81.0  101.0       17.0   \n",
      "1     1  30002498.0 2158-01-23 17:00:00  81.0        72.0  101.0       16.0   \n",
      "2     2  30002498.0 2158-01-23 18:00:00  81.0        78.0   93.0       12.0   \n",
      "3     3  30002498.0 2158-01-23 19:00:00  80.0        86.0   94.0       14.0   \n",
      "4     4  30002498.0 2158-01-23 20:00:00  79.0        92.0   95.0       26.0   \n",
      "\n",
      "     sbp  spo2  temperature  sepsis  stay_id_int  time_idx  \n",
      "0  156.0  91.0         43.0       0            0         0  \n",
      "1  156.0  94.0         43.0       0            0         1  \n",
      "2  139.0  92.0         43.0       0            0         2  \n",
      "3  139.5  92.0         43.0       0            0         3  \n",
      "4  140.0  92.0         43.0       0            0         4  \n"
     ]
    }
   ],
   "source": [
    "#14b --- Forecast each stay to 24h using ARIMA for trailing hours ---\n",
    "\n",
    "import pandas as pd\n",
    "import numpy as np\n",
    "from statsmodels.tsa.arima.model import ARIMA\n",
    "from statsmodels.tools.sm_exceptions import ConvergenceWarning\n",
    "import warnings\n",
    "from tqdm import tqdm\n",
    "\n",
    "# Suppress noisy warnings for ARIMA\n",
    "warnings.filterwarnings(\"ignore\", category=UserWarning)\n",
    "warnings.filterwarnings(\"ignore\", category=FutureWarning)\n",
    "warnings.filterwarnings(\"ignore\", category=RuntimeWarning)\n",
    "warnings.filterwarnings(\"ignore\", category=DeprecationWarning)\n",
    "warnings.filterwarnings(\"ignore\", category=ConvergenceWarning)\n",
    "\n",
    "feature_cols = ['heart_rate', 'sbp', 'dbp', 'mbp', 'resp_rate', 'spo2', 'temperature']\n",
    "max_hours = 24\n",
    "all_stays = hourly_interp['stay_id'].unique()\n",
    "forecasted_stays = []\n",
    "\n",
    "# --- Compute global medians for last-resort filling ---\n",
    "global_medians = {col: hourly_interp[col].median() for col in feature_cols}\n",
    "\n",
    "for stay_id in tqdm(all_stays, desc=\"Forecasting all stays\"):\n",
    "    # 1. Get and sort this stay's data, guarantee no duplicate hours\n",
    "    stay_df = hourly_interp[hourly_interp['stay_id'] == stay_id].sort_values('hour').drop_duplicates('hour')\n",
    "    # 2. Reindex to enforce hours 0–23 (creates NaNs for missing hours at the end)\n",
    "    stay_df = stay_df.set_index('hour').reindex(range(max_hours))\n",
    "    stay_df['stay_id'] = stay_id  # fill stay_id for new rows\n",
    "    # If you want to keep charttime, ffill it (not needed for TFT)\n",
    "    for col in set(stay_df.columns) - set(feature_cols) - {'stay_id'}:\n",
    "        stay_df[col] = stay_df[col].ffill().bfill()\n",
    "    # 3. For each vital, fill up to first NaN, then ARIMA-forecast to 24h\n",
    "    for col in feature_cols:\n",
    "        vals = stay_df[col].values\n",
    "        # Forward-fill intermediate missing values (shouldn't be any before trailing missing, but just in case)\n",
    "        vals = pd.Series(vals).ffill().values\n",
    "        # Find first missing index (for trailing missing)\n",
    "        first_nan = np.where(np.isnan(vals))[0]\n",
    "        if len(first_nan) > 0:\n",
    "            first_nan = first_nan[0]\n",
    "            observed = vals[:first_nan]\n",
    "            if len(observed) >= 6:  # ARIMA works with at least 6 values\n",
    "                try:\n",
    "                    model = ARIMA(observed, order=(1,1,1)).fit()\n",
    "                    preds = model.forecast(steps=max_hours - first_nan)\n",
    "                except:\n",
    "                    preds = np.full(max_hours - first_nan, np.nanmean(observed))\n",
    "            else:\n",
    "                preds = np.full(max_hours - first_nan, np.nanmean(observed))\n",
    "            vals[first_nan:] = preds\n",
    "        # Robust fill: ffill/bfill then, if still missing, global median\n",
    "        vals = pd.Series(vals).ffill().bfill().values\n",
    "        if np.isnan(vals).any():\n",
    "            vals = np.where(np.isnan(vals), global_medians[col], vals)\n",
    "        stay_df[col] = vals\n",
    "    # 4. Restore hour as column and append\n",
    "    stay_df = stay_df.reset_index()\n",
    "    forecasted_stays.append(stay_df)\n",
    "\n",
    "# --- Combine all stays ---\n",
    "forecasted_long = pd.concat(forecasted_stays, axis=0, ignore_index=True)\n",
    "\n",
    "# --- Attach the correct sepsis label ---\n",
    "labels = balanced_cohort.set_index('stay_id')['sepsis']\n",
    "forecasted_long = forecasted_long.drop(columns=[col for col in ['sepsis'] if col in forecasted_long], errors='ignore')\n",
    "forecasted_long = forecasted_long.merge(labels, on='stay_id', how='left')\n",
    "forecasted_long['sepsis'] = forecasted_long['sepsis'].astype(int)\n",
    "\n",
    "# --- Assign integer stay_id and time_idx ---\n",
    "forecasted_long['stay_id_int'] = forecasted_long['stay_id'].astype('category').cat.codes\n",
    "forecasted_long['time_idx'] = forecasted_long['hour'].astype(int)\n",
    "\n",
    "# --- Final assert: No missing values in vitals, all stays have 24 rows ---\n",
    "assert not forecasted_long[feature_cols].isna().any().any(), \"Missing values remain in vital signs!\"\n",
    "assert (forecasted_long.groupby('stay_id')['hour'].nunique() == 24).all(), \"Some stays do not have 24 hours!\"\n",
    "\n",
    "print(f\"Final shape (one row per stay_id/hour, all 24h, no missing): {forecasted_long.shape}\")\n",
    "print(forecasted_long.head())\n"
   ]
  },
  {
   "cell_type": "markdown",
   "id": "c6acbede",
   "metadata": {},
   "source": [
    "#### Robust Time Series Extension: ARIMA Forecasting for 24-Hour Trajectories\n",
    "\n",
    "To address the challenge of incomplete stays, we use a robust forecasting strategy for each patient and each vital sign:\n",
    "\n",
    "- **Reindexing:**  \n",
    "  Every ICU stay is forcibly reindexed to have exactly 24 hourly time points (0–23), ensuring uniform length for downstream modeling.\n",
    "\n",
    "- **ARIMA for Trailing Missingness:**  \n",
    "  For each vital sign, we forecast any trailing missing hours using ARIMA models. If there are at least 6 observed data points, we fit an ARIMA(1,1,1) model to forecast the remaining values. For shorter series or in case of model failure, we use the mean of available values.\n",
    "\n",
    "- **Edge Case Handling:**  \n",
    "  Any remaining missing values (including cases where a vital has no data at all for a stay) are filled using the **global median** for that vital. This guarantees *no missing values* in the final dataset.\n",
    "\n",
    "- **Result:**  \n",
    "  The resulting dataframe (`forecasted_long`) contains **one row per stay and hour** (24 rows per stay, for all stays), with no missing values in any vital sign. This makes the data fully compatible with deep time series models like TFT, enabling fair comparison across the full cohort.\n"
   ]
  },
  {
   "cell_type": "code",
   "execution_count": 55,
   "id": "4e0eca58",
   "metadata": {},
   "outputs": [
    {
     "name": "stdout",
     "output_type": "stream",
     "text": [
      "Number of rows with any missing vital: 0\n",
      "Sample of missing rows:\n"
     ]
    },
    {
     "data": {
      "text/html": [
       "<div>\n",
       "<style scoped>\n",
       "    .dataframe tbody tr th:only-of-type {\n",
       "        vertical-align: middle;\n",
       "    }\n",
       "\n",
       "    .dataframe tbody tr th {\n",
       "        vertical-align: top;\n",
       "    }\n",
       "\n",
       "    .dataframe thead th {\n",
       "        text-align: right;\n",
       "    }\n",
       "</style>\n",
       "<table border=\"1\" class=\"dataframe\">\n",
       "  <thead>\n",
       "    <tr style=\"text-align: right;\">\n",
       "      <th></th>\n",
       "      <th>hour</th>\n",
       "      <th>stay_id</th>\n",
       "      <th>charttime</th>\n",
       "      <th>dbp</th>\n",
       "      <th>heart_rate</th>\n",
       "      <th>mbp</th>\n",
       "      <th>resp_rate</th>\n",
       "      <th>sbp</th>\n",
       "      <th>spo2</th>\n",
       "      <th>temperature</th>\n",
       "      <th>sepsis</th>\n",
       "      <th>stay_id_int</th>\n",
       "      <th>time_idx</th>\n",
       "    </tr>\n",
       "  </thead>\n",
       "  <tbody>\n",
       "  </tbody>\n",
       "</table>\n",
       "</div>"
      ],
      "text/plain": [
       "Empty DataFrame\n",
       "Columns: [hour, stay_id, charttime, dbp, heart_rate, mbp, resp_rate, sbp, spo2, temperature, sepsis, stay_id_int, time_idx]\n",
       "Index: []"
      ]
     },
     "metadata": {},
     "output_type": "display_data"
    },
    {
     "name": "stdout",
     "output_type": "stream",
     "text": [
      "\n",
      "Missing value counts by vital:\n",
      "heart_rate     0\n",
      "sbp            0\n",
      "dbp            0\n",
      "mbp            0\n",
      "resp_rate      0\n",
      "spo2           0\n",
      "temperature    0\n",
      "dtype: int64\n",
      "\n",
      "Number of unique stays affected: 0\n",
      "Example affected stay_ids: []\n",
      "\n",
      "Distribution of hour for missing values:\n",
      "Series([], Name: count, dtype: int64)\n"
     ]
    }
   ],
   "source": [
    "# Some Checks\n",
    "# Which rows are missing any vital sign?\n",
    "missing_mask = forecasted_long[feature_cols].isna().any(axis=1)\n",
    "missing_rows = forecasted_long[missing_mask]\n",
    "\n",
    "print(f\"Number of rows with any missing vital: {missing_rows.shape[0]}\")\n",
    "print(\"Sample of missing rows:\")\n",
    "display(missing_rows.head())\n",
    "\n",
    "# Count missing by variable\n",
    "print(\"\\nMissing value counts by vital:\")\n",
    "print(forecasted_long[feature_cols].isna().sum())\n",
    "\n",
    "# Show which stay_ids are affected\n",
    "affected_stays = missing_rows['stay_id'].unique()\n",
    "print(f\"\\nNumber of unique stays affected: {len(affected_stays)}\")\n",
    "print(\"Example affected stay_ids:\", affected_stays[:10])\n",
    "\n",
    "# Where in the 0–23 hour range do missing values occur?\n",
    "print(\"\\nDistribution of hour for missing values:\")\n",
    "print(missing_rows['hour'].value_counts().sort_index())\n"
   ]
  },
  {
   "cell_type": "code",
   "execution_count": 56,
   "id": "ee15cfab",
   "metadata": {},
   "outputs": [
    {
     "name": "stdout",
     "output_type": "stream",
     "text": [
      "Number of unique stays in final forecasted_long: 19988\n"
     ]
    }
   ],
   "source": [
    "print(\"Number of unique stays in final forecasted_long:\", forecasted_long['stay_id'].nunique())\n"
   ]
  },
  {
   "cell_type": "code",
   "execution_count": 57,
   "id": "3c69aa2f",
   "metadata": {},
   "outputs": [
    {
     "name": "stdout",
     "output_type": "stream",
     "text": [
      "Saved forecasted_long to forecasted_long.csv\n"
     ]
    }
   ],
   "source": [
    "# --- Save to CSV for future use ---\n",
    "forecasted_long.to_csv('forecasted_long.csv', index=False)\n",
    "print(\"Saved forecasted_long to forecasted_long.csv\")\n"
   ]
  },
  {
   "cell_type": "code",
   "execution_count": 15,
   "id": "b38eb466",
   "metadata": {
    "scrolled": true
   },
   "outputs": [
    {
     "data": {
      "text/html": [
       "<div>\n",
       "<style scoped>\n",
       "    .dataframe tbody tr th:only-of-type {\n",
       "        vertical-align: middle;\n",
       "    }\n",
       "\n",
       "    .dataframe tbody tr th {\n",
       "        vertical-align: top;\n",
       "    }\n",
       "\n",
       "    .dataframe thead th {\n",
       "        text-align: right;\n",
       "    }\n",
       "</style>\n",
       "<table border=\"1\" class=\"dataframe\">\n",
       "  <thead>\n",
       "    <tr style=\"text-align: right;\">\n",
       "      <th></th>\n",
       "      <th>hour</th>\n",
       "      <th>stay_id</th>\n",
       "      <th>charttime</th>\n",
       "      <th>dbp</th>\n",
       "      <th>heart_rate</th>\n",
       "      <th>mbp</th>\n",
       "      <th>resp_rate</th>\n",
       "      <th>sbp</th>\n",
       "      <th>spo2</th>\n",
       "      <th>temperature</th>\n",
       "      <th>sepsis</th>\n",
       "      <th>stay_id_int</th>\n",
       "      <th>time_idx</th>\n",
       "    </tr>\n",
       "  </thead>\n",
       "  <tbody>\n",
       "    <tr>\n",
       "      <th>0</th>\n",
       "      <td>0</td>\n",
       "      <td>30002498.0</td>\n",
       "      <td>2158-01-23 16:12:00</td>\n",
       "      <td>81.0</td>\n",
       "      <td>81.0</td>\n",
       "      <td>101.0</td>\n",
       "      <td>17.0</td>\n",
       "      <td>156.0</td>\n",
       "      <td>91.0</td>\n",
       "      <td>43.0</td>\n",
       "      <td>0</td>\n",
       "      <td>0</td>\n",
       "      <td>0</td>\n",
       "    </tr>\n",
       "    <tr>\n",
       "      <th>1</th>\n",
       "      <td>1</td>\n",
       "      <td>30002498.0</td>\n",
       "      <td>2158-01-23 17:00:00</td>\n",
       "      <td>81.0</td>\n",
       "      <td>72.0</td>\n",
       "      <td>101.0</td>\n",
       "      <td>16.0</td>\n",
       "      <td>156.0</td>\n",
       "      <td>94.0</td>\n",
       "      <td>43.0</td>\n",
       "      <td>0</td>\n",
       "      <td>0</td>\n",
       "      <td>1</td>\n",
       "    </tr>\n",
       "    <tr>\n",
       "      <th>2</th>\n",
       "      <td>2</td>\n",
       "      <td>30002498.0</td>\n",
       "      <td>2158-01-23 18:00:00</td>\n",
       "      <td>81.0</td>\n",
       "      <td>78.0</td>\n",
       "      <td>93.0</td>\n",
       "      <td>12.0</td>\n",
       "      <td>139.0</td>\n",
       "      <td>92.0</td>\n",
       "      <td>43.0</td>\n",
       "      <td>0</td>\n",
       "      <td>0</td>\n",
       "      <td>2</td>\n",
       "    </tr>\n",
       "    <tr>\n",
       "      <th>3</th>\n",
       "      <td>3</td>\n",
       "      <td>30002498.0</td>\n",
       "      <td>2158-01-23 19:00:00</td>\n",
       "      <td>80.0</td>\n",
       "      <td>86.0</td>\n",
       "      <td>94.0</td>\n",
       "      <td>14.0</td>\n",
       "      <td>139.5</td>\n",
       "      <td>92.0</td>\n",
       "      <td>43.0</td>\n",
       "      <td>0</td>\n",
       "      <td>0</td>\n",
       "      <td>3</td>\n",
       "    </tr>\n",
       "    <tr>\n",
       "      <th>4</th>\n",
       "      <td>4</td>\n",
       "      <td>30002498.0</td>\n",
       "      <td>2158-01-23 20:00:00</td>\n",
       "      <td>79.0</td>\n",
       "      <td>92.0</td>\n",
       "      <td>95.0</td>\n",
       "      <td>26.0</td>\n",
       "      <td>140.0</td>\n",
       "      <td>92.0</td>\n",
       "      <td>43.0</td>\n",
       "      <td>0</td>\n",
       "      <td>0</td>\n",
       "      <td>4</td>\n",
       "    </tr>\n",
       "    <tr>\n",
       "      <th>...</th>\n",
       "      <td>...</td>\n",
       "      <td>...</td>\n",
       "      <td>...</td>\n",
       "      <td>...</td>\n",
       "      <td>...</td>\n",
       "      <td>...</td>\n",
       "      <td>...</td>\n",
       "      <td>...</td>\n",
       "      <td>...</td>\n",
       "      <td>...</td>\n",
       "      <td>...</td>\n",
       "      <td>...</td>\n",
       "      <td>...</td>\n",
       "    </tr>\n",
       "    <tr>\n",
       "      <th>479707</th>\n",
       "      <td>19</td>\n",
       "      <td>39999230.0</td>\n",
       "      <td>2147-09-01 18:00:00</td>\n",
       "      <td>58.0</td>\n",
       "      <td>103.0</td>\n",
       "      <td>76.0</td>\n",
       "      <td>24.0</td>\n",
       "      <td>121.0</td>\n",
       "      <td>93.0</td>\n",
       "      <td>43.0</td>\n",
       "      <td>0</td>\n",
       "      <td>19987</td>\n",
       "      <td>19</td>\n",
       "    </tr>\n",
       "    <tr>\n",
       "      <th>479708</th>\n",
       "      <td>20</td>\n",
       "      <td>39999230.0</td>\n",
       "      <td>2147-09-01 19:00:00</td>\n",
       "      <td>53.0</td>\n",
       "      <td>103.0</td>\n",
       "      <td>70.0</td>\n",
       "      <td>19.0</td>\n",
       "      <td>111.0</td>\n",
       "      <td>94.0</td>\n",
       "      <td>43.0</td>\n",
       "      <td>0</td>\n",
       "      <td>19987</td>\n",
       "      <td>20</td>\n",
       "    </tr>\n",
       "    <tr>\n",
       "      <th>479709</th>\n",
       "      <td>21</td>\n",
       "      <td>39999230.0</td>\n",
       "      <td>2147-09-01 20:00:00</td>\n",
       "      <td>49.0</td>\n",
       "      <td>106.0</td>\n",
       "      <td>68.0</td>\n",
       "      <td>26.0</td>\n",
       "      <td>113.0</td>\n",
       "      <td>91.0</td>\n",
       "      <td>43.0</td>\n",
       "      <td>0</td>\n",
       "      <td>19987</td>\n",
       "      <td>21</td>\n",
       "    </tr>\n",
       "    <tr>\n",
       "      <th>479710</th>\n",
       "      <td>22</td>\n",
       "      <td>39999230.0</td>\n",
       "      <td>2147-09-01 21:00:00</td>\n",
       "      <td>55.0</td>\n",
       "      <td>103.0</td>\n",
       "      <td>70.0</td>\n",
       "      <td>19.0</td>\n",
       "      <td>108.0</td>\n",
       "      <td>92.0</td>\n",
       "      <td>43.0</td>\n",
       "      <td>0</td>\n",
       "      <td>19987</td>\n",
       "      <td>22</td>\n",
       "    </tr>\n",
       "    <tr>\n",
       "      <th>479711</th>\n",
       "      <td>23</td>\n",
       "      <td>39999230.0</td>\n",
       "      <td>2147-09-01 22:00:00</td>\n",
       "      <td>53.0</td>\n",
       "      <td>103.0</td>\n",
       "      <td>70.0</td>\n",
       "      <td>21.0</td>\n",
       "      <td>110.0</td>\n",
       "      <td>92.0</td>\n",
       "      <td>43.0</td>\n",
       "      <td>0</td>\n",
       "      <td>19987</td>\n",
       "      <td>23</td>\n",
       "    </tr>\n",
       "  </tbody>\n",
       "</table>\n",
       "<p>479712 rows × 13 columns</p>\n",
       "</div>"
      ],
      "text/plain": [
       "        hour     stay_id            charttime   dbp  heart_rate    mbp  \\\n",
       "0          0  30002498.0  2158-01-23 16:12:00  81.0        81.0  101.0   \n",
       "1          1  30002498.0  2158-01-23 17:00:00  81.0        72.0  101.0   \n",
       "2          2  30002498.0  2158-01-23 18:00:00  81.0        78.0   93.0   \n",
       "3          3  30002498.0  2158-01-23 19:00:00  80.0        86.0   94.0   \n",
       "4          4  30002498.0  2158-01-23 20:00:00  79.0        92.0   95.0   \n",
       "...      ...         ...                  ...   ...         ...    ...   \n",
       "479707    19  39999230.0  2147-09-01 18:00:00  58.0       103.0   76.0   \n",
       "479708    20  39999230.0  2147-09-01 19:00:00  53.0       103.0   70.0   \n",
       "479709    21  39999230.0  2147-09-01 20:00:00  49.0       106.0   68.0   \n",
       "479710    22  39999230.0  2147-09-01 21:00:00  55.0       103.0   70.0   \n",
       "479711    23  39999230.0  2147-09-01 22:00:00  53.0       103.0   70.0   \n",
       "\n",
       "        resp_rate    sbp  spo2  temperature  sepsis  stay_id_int  time_idx  \n",
       "0            17.0  156.0  91.0         43.0       0            0         0  \n",
       "1            16.0  156.0  94.0         43.0       0            0         1  \n",
       "2            12.0  139.0  92.0         43.0       0            0         2  \n",
       "3            14.0  139.5  92.0         43.0       0            0         3  \n",
       "4            26.0  140.0  92.0         43.0       0            0         4  \n",
       "...           ...    ...   ...          ...     ...          ...       ...  \n",
       "479707       24.0  121.0  93.0         43.0       0        19987        19  \n",
       "479708       19.0  111.0  94.0         43.0       0        19987        20  \n",
       "479709       26.0  113.0  91.0         43.0       0        19987        21  \n",
       "479710       19.0  108.0  92.0         43.0       0        19987        22  \n",
       "479711       21.0  110.0  92.0         43.0       0        19987        23  \n",
       "\n",
       "[479712 rows x 13 columns]"
      ]
     },
     "execution_count": 15,
     "metadata": {},
     "output_type": "execute_result"
    }
   ],
   "source": [
    "forecasted_long = pd.read_csv('forecasted_long.csv')\n",
    "forecasted_long"
   ]
  },
  {
   "cell_type": "code",
   "execution_count": 25,
   "id": "bec8918b",
   "metadata": {},
   "outputs": [
    {
     "name": "stdout",
     "output_type": "stream",
     "text": [
      "Note: you may need to restart the kernel to use updated packages.\n"
     ]
    }
   ],
   "source": [
    "pip install pytorch-lightning pytorch-forecasting --quiet"
   ]
  },
  {
   "cell_type": "markdown",
   "id": "2ad43b8d",
   "metadata": {},
   "source": [
    "## Code Cell #15: Constructing PyTorch Forecasting TimeSeriesDataSet and DataLoaders for TFT"
   ]
  },
  {
   "cell_type": "code",
   "execution_count": 16,
   "id": "476ce206",
   "metadata": {
    "scrolled": true
   },
   "outputs": [
    {
     "name": "stdout",
     "output_type": "stream",
     "text": [
      "Train batches: 124, Validation batches: 32\n",
      "Each group (stay) has 24 time steps and all features for TFT.\n"
     ]
    }
   ],
   "source": [
    "# 15. Construct PyTorch Forecasting TimeSeriesDataSet and DataLoaders for TFT\n",
    "\n",
    "from pytorch_forecasting import TimeSeriesDataSet\n",
    "from sklearn.model_selection import train_test_split\n",
    "from torch.utils.data import DataLoader\n",
    "\n",
    "feature_cols = ['heart_rate', 'sbp', 'dbp', 'mbp', 'resp_rate', 'spo2', 'temperature']\n",
    "max_encoder_length = 22   # Use hours 0–21 as encoder\n",
    "max_prediction_length = 2 # Predict sepsis at hours 22, 23\n",
    "\n",
    "# Use the correct dataframe from ARIMA section:\n",
    "data_for_tft = forecasted_long  # Make sure this matches your ARIMA output\n",
    "\n",
    "# Ensure time_idx is integer type and continuous per stay\n",
    "data_for_tft[\"time_idx\"] = data_for_tft[\"time_idx\"].astype(int)\n",
    "\n",
    "# 1. Split stays reproducibly\n",
    "unique_stays = data_for_tft['stay_id_int'].unique()\n",
    "train_stays, valid_stays = train_test_split(unique_stays, test_size=0.2, random_state=42)\n",
    "\n",
    "# 2. Build TimeSeriesDataSet\n",
    "tft_dataset = TimeSeriesDataSet(\n",
    "    data_for_tft,\n",
    "    group_ids=[\"stay_id_int\"],\n",
    "    target=\"sepsis\",\n",
    "    time_idx=\"time_idx\",\n",
    "    max_encoder_length=max_encoder_length,\n",
    "    max_prediction_length=max_prediction_length,\n",
    "    static_categoricals=[],\n",
    "    static_reals=[],\n",
    "    time_varying_known_reals=[\"time_idx\"],\n",
    "    time_varying_unknown_reals=feature_cols,\n",
    "    target_normalizer=None,        # CrossEntropy loss expects raw int\n",
    "    allow_missing_timesteps=False  # Data should be complete 24h sequences\n",
    ")\n",
    "\n",
    "# 3. Filter by split\n",
    "train_dataset = tft_dataset.filter(lambda x: x[\"stay_id_int\"].isin(train_stays))\n",
    "valid_dataset = tft_dataset.filter(lambda x: x[\"stay_id_int\"].isin(valid_stays))\n",
    "\n",
    "# 4. DataLoaders\n",
    "train_dataloader = train_dataset.to_dataloader(\n",
    "    train=True,\n",
    "    batch_size=128,\n",
    "    num_workers=0,\n",
    "    shuffle=True,\n",
    ")\n",
    "valid_dataloader = valid_dataset.to_dataloader(\n",
    "    train=False,\n",
    "    batch_size=128,\n",
    "    num_workers=0,\n",
    "    shuffle=False,\n",
    ")\n",
    "\n",
    "print(f\"Train batches: {len(train_dataloader)}, Validation batches: {len(valid_dataloader)}\")\n",
    "print(\"Each group (stay) has 24 time steps and all features for TFT.\")\n"
   ]
  },
  {
   "cell_type": "markdown",
   "id": "d0a397c2",
   "metadata": {},
   "source": [
    "## Prepare Data for Temporal Fusion Transformer (TFT) with PyTorch Forecasting\n",
    "\n",
    "In this step, we convert our fully preprocessed ICU time series dataset into a format ready for deep learning with the **PyTorch Forecasting** library. We use the `TimeSeriesDataSet` object, which handles temporal indexing, feature grouping, and sequence batching, making it ideal for sequence models like the Temporal Fusion Transformer (TFT).\n",
    "\n",
    "---\n",
    "\n",
    "### 1. **Feature Columns and Time Configuration**\n",
    "- **Vital signs:** All 7 hourly vital sign features (`heart_rate`, `sbp`, `dbp`, `mbp`, `resp_rate`, `spo2`, `temperature`) are used as time-varying features.\n",
    "- **max_encoder_length:** 22 - The first 22 hours (0–21) of each stay are provided as input/context.\n",
    "- **max_prediction_length:** 2 - The model predicts sepsis risk for hours 22 and 23.\n",
    "\n",
    "### 2. **Patient-Level Train/Validation Split**\n",
    "- **Stays are split** (with a fixed random seed) so that each ICU stay only appears in either training or validation, never both. This ensures proper generalization testing.\n",
    "\n",
    "### 3. **Building the TimeSeriesDataSet**\n",
    "- **group_ids:** Each ICU stay is treated as a separate sequence using a unique stay identifier.\n",
    "- **target:** The binary sepsis label is the prediction target.\n",
    "- **time_idx:** Represents the hour (0-23) within each stay.\n",
    "- **allow_missing_timesteps:** Set to `False` to ensure that every sequence is fully complete, no missing hours per stay.\n",
    "- **No static features:** Only dynamic, hourly data are modeled here.\n",
    "\n",
    "### 4. **Creating DataLoaders**\n",
    "- **DataLoaders** enable efficient batch processing of sequential ICU stays during training and validation.\n",
    "- **Batch size:** 128 stays per batch.\n",
    "- **Shuffling:** Training data is shuffled, validation is not.\n",
    "\n",
    "---\n",
    "\n",
    "#### **Result:**\n",
    "- **124 training batches** and **32 validation batches** will be processed each epoch.\n",
    "- Each batch contains up to 128 complete ICU stays (sequences of 24 hours each).\n",
    "- Every sequence contains *all* vital signs, ready for direct input into the TFT model.\n",
    "\n",
    "> **In summary:**  \n",
    "> Our ICU dataset is now perfectly structured for time series deep learning with TFT, ensuring no data leakage and providing the model with the full 24-hour physiological trajectory for every ICU stay.\n"
   ]
  },
  {
   "cell_type": "code",
   "execution_count": 17,
   "id": "7408a458",
   "metadata": {
    "scrolled": true
   },
   "outputs": [
    {
     "name": "stderr",
     "output_type": "stream",
     "text": [
      "/home/jupyter-shikshuk/.local/lib/python3.9/site-packages/lightning/pytorch/utilities/parsing.py:209: Attribute 'loss' is an instance of `nn.Module` and is already saved during checkpointing. It is recommended to ignore them using `self.save_hyperparameters(ignore=['loss'])`.\n",
      "/home/jupyter-shikshuk/.local/lib/python3.9/site-packages/lightning/pytorch/utilities/parsing.py:209: Attribute 'logging_metrics' is an instance of `nn.Module` and is already saved during checkpointing. It is recommended to ignore them using `self.save_hyperparameters(ignore=['logging_metrics'])`.\n",
      "GPU available: True (cuda), used: True\n",
      "TPU available: False, using: 0 TPU cores\n",
      "HPU available: False, using: 0 HPUs\n",
      "You are using a CUDA device ('NVIDIA GeForce RTX 3090') that has Tensor Cores. To properly utilize them, you should set `torch.set_float32_matmul_precision('medium' | 'high')` which will trade-off precision for performance. For more details, read https://pytorch.org/docs/stable/generated/torch.set_float32_matmul_precision.html#torch.set_float32_matmul_precision\n",
      "LOCAL_RANK: 0 - CUDA_VISIBLE_DEVICES: [0,1]\n",
      "\n",
      "   | Name                               | Type                            | Params | Mode \n",
      "------------------------------------------------------------------------------------------------\n",
      "0  | loss                               | CrossEntropy                    | 0      | train\n",
      "1  | logging_metrics                    | ModuleList                      | 0      | train\n",
      "2  | input_embeddings                   | MultiEmbedding                  | 0      | train\n",
      "3  | prescalers                         | ModuleDict                      | 128    | train\n",
      "4  | static_variable_selection          | VariableSelectionNetwork        | 0      | train\n",
      "5  | encoder_variable_selection         | VariableSelectionNetwork        | 5.1 K  | train\n",
      "6  | decoder_variable_selection         | VariableSelectionNetwork        | 528    | train\n",
      "7  | static_context_variable_selection  | GatedResidualNetwork            | 1.1 K  | train\n",
      "8  | static_context_initial_hidden_lstm | GatedResidualNetwork            | 1.1 K  | train\n",
      "9  | static_context_initial_cell_lstm   | GatedResidualNetwork            | 1.1 K  | train\n",
      "10 | static_context_enrichment          | GatedResidualNetwork            | 1.1 K  | train\n",
      "11 | lstm_encoder                       | LSTM                            | 2.2 K  | train\n",
      "12 | lstm_decoder                       | LSTM                            | 2.2 K  | train\n",
      "13 | post_lstm_gate_encoder             | GatedLinearUnit                 | 544    | train\n",
      "14 | post_lstm_add_norm_encoder         | AddNorm                         | 32     | train\n",
      "15 | static_enrichment                  | GatedResidualNetwork            | 1.4 K  | train\n",
      "16 | multihead_attn                     | InterpretableMultiHeadAttention | 808    | train\n",
      "17 | post_attn_gate_norm                | GateAddNorm                     | 576    | train\n",
      "18 | pos_wise_ff                        | GatedResidualNetwork            | 1.1 K  | train\n",
      "19 | pre_output_gate_norm               | GateAddNorm                     | 576    | train\n",
      "20 | output_layer                       | Linear                          | 34     | train\n",
      "------------------------------------------------------------------------------------------------\n",
      "19.5 K    Trainable params\n",
      "0         Non-trainable params\n",
      "19.5 K    Total params\n",
      "0.078     Total estimated model params size (MB)\n",
      "262       Modules in train mode\n",
      "0         Modules in eval mode\n"
     ]
    },
    {
     "data": {
      "application/vnd.jupyter.widget-view+json": {
       "model_id": "",
       "version_major": 2,
       "version_minor": 0
      },
      "text/plain": [
       "Sanity Checking: |          | 0/? [00:00<?, ?it/s]"
      ]
     },
     "metadata": {},
     "output_type": "display_data"
    },
    {
     "name": "stderr",
     "output_type": "stream",
     "text": [
      "/home/jupyter-shikshuk/.local/lib/python3.9/site-packages/lightning/pytorch/trainer/connectors/data_connector.py:425: The 'val_dataloader' does not have many workers which may be a bottleneck. Consider increasing the value of the `num_workers` argument` to `num_workers=11` in the `DataLoader` to improve performance.\n",
      "/home/jupyter-shikshuk/.local/lib/python3.9/site-packages/lightning/pytorch/trainer/connectors/data_connector.py:425: The 'train_dataloader' does not have many workers which may be a bottleneck. Consider increasing the value of the `num_workers` argument` to `num_workers=11` in the `DataLoader` to improve performance.\n"
     ]
    },
    {
     "data": {
      "application/vnd.jupyter.widget-view+json": {
       "model_id": "572c799132a84e498d49885daeabbe4c",
       "version_major": 2,
       "version_minor": 0
      },
      "text/plain": [
       "Training: |          | 0/? [00:00<?, ?it/s]"
      ]
     },
     "metadata": {},
     "output_type": "display_data"
    },
    {
     "data": {
      "application/vnd.jupyter.widget-view+json": {
       "model_id": "",
       "version_major": 2,
       "version_minor": 0
      },
      "text/plain": [
       "Validation: |          | 0/? [00:00<?, ?it/s]"
      ]
     },
     "metadata": {},
     "output_type": "display_data"
    },
    {
     "name": "stderr",
     "output_type": "stream",
     "text": [
      "Metric val_loss improved. New best score: 0.646\n"
     ]
    },
    {
     "data": {
      "application/vnd.jupyter.widget-view+json": {
       "model_id": "",
       "version_major": 2,
       "version_minor": 0
      },
      "text/plain": [
       "Validation: |          | 0/? [00:00<?, ?it/s]"
      ]
     },
     "metadata": {},
     "output_type": "display_data"
    },
    {
     "name": "stderr",
     "output_type": "stream",
     "text": [
      "Metric val_loss improved by 0.009 >= min_delta = 0.0001. New best score: 0.637\n"
     ]
    },
    {
     "data": {
      "application/vnd.jupyter.widget-view+json": {
       "model_id": "",
       "version_major": 2,
       "version_minor": 0
      },
      "text/plain": [
       "Validation: |          | 0/? [00:00<?, ?it/s]"
      ]
     },
     "metadata": {},
     "output_type": "display_data"
    },
    {
     "name": "stderr",
     "output_type": "stream",
     "text": [
      "Metric val_loss improved by 0.003 >= min_delta = 0.0001. New best score: 0.634\n"
     ]
    },
    {
     "data": {
      "application/vnd.jupyter.widget-view+json": {
       "model_id": "",
       "version_major": 2,
       "version_minor": 0
      },
      "text/plain": [
       "Validation: |          | 0/? [00:00<?, ?it/s]"
      ]
     },
     "metadata": {},
     "output_type": "display_data"
    },
    {
     "data": {
      "application/vnd.jupyter.widget-view+json": {
       "model_id": "",
       "version_major": 2,
       "version_minor": 0
      },
      "text/plain": [
       "Validation: |          | 0/? [00:00<?, ?it/s]"
      ]
     },
     "metadata": {},
     "output_type": "display_data"
    },
    {
     "name": "stderr",
     "output_type": "stream",
     "text": [
      "Metric val_loss improved by 0.006 >= min_delta = 0.0001. New best score: 0.628\n"
     ]
    },
    {
     "data": {
      "application/vnd.jupyter.widget-view+json": {
       "model_id": "",
       "version_major": 2,
       "version_minor": 0
      },
      "text/plain": [
       "Validation: |          | 0/? [00:00<?, ?it/s]"
      ]
     },
     "metadata": {},
     "output_type": "display_data"
    },
    {
     "name": "stderr",
     "output_type": "stream",
     "text": [
      "Metric val_loss improved by 0.000 >= min_delta = 0.0001. New best score: 0.628\n"
     ]
    },
    {
     "data": {
      "application/vnd.jupyter.widget-view+json": {
       "model_id": "",
       "version_major": 2,
       "version_minor": 0
      },
      "text/plain": [
       "Validation: |          | 0/? [00:00<?, ?it/s]"
      ]
     },
     "metadata": {},
     "output_type": "display_data"
    },
    {
     "name": "stderr",
     "output_type": "stream",
     "text": [
      "Metric val_loss improved by 0.006 >= min_delta = 0.0001. New best score: 0.622\n"
     ]
    },
    {
     "data": {
      "application/vnd.jupyter.widget-view+json": {
       "model_id": "",
       "version_major": 2,
       "version_minor": 0
      },
      "text/plain": [
       "Validation: |          | 0/? [00:00<?, ?it/s]"
      ]
     },
     "metadata": {},
     "output_type": "display_data"
    },
    {
     "name": "stderr",
     "output_type": "stream",
     "text": [
      "Metric val_loss improved by 0.003 >= min_delta = 0.0001. New best score: 0.619\n"
     ]
    },
    {
     "data": {
      "application/vnd.jupyter.widget-view+json": {
       "model_id": "",
       "version_major": 2,
       "version_minor": 0
      },
      "text/plain": [
       "Validation: |          | 0/? [00:00<?, ?it/s]"
      ]
     },
     "metadata": {},
     "output_type": "display_data"
    },
    {
     "name": "stderr",
     "output_type": "stream",
     "text": [
      "Metric val_loss improved by 0.004 >= min_delta = 0.0001. New best score: 0.615\n"
     ]
    },
    {
     "data": {
      "application/vnd.jupyter.widget-view+json": {
       "model_id": "",
       "version_major": 2,
       "version_minor": 0
      },
      "text/plain": [
       "Validation: |          | 0/? [00:00<?, ?it/s]"
      ]
     },
     "metadata": {},
     "output_type": "display_data"
    },
    {
     "data": {
      "application/vnd.jupyter.widget-view+json": {
       "model_id": "",
       "version_major": 2,
       "version_minor": 0
      },
      "text/plain": [
       "Validation: |          | 0/? [00:00<?, ?it/s]"
      ]
     },
     "metadata": {},
     "output_type": "display_data"
    },
    {
     "name": "stderr",
     "output_type": "stream",
     "text": [
      "Metric val_loss improved by 0.002 >= min_delta = 0.0001. New best score: 0.613\n"
     ]
    },
    {
     "data": {
      "application/vnd.jupyter.widget-view+json": {
       "model_id": "",
       "version_major": 2,
       "version_minor": 0
      },
      "text/plain": [
       "Validation: |          | 0/? [00:00<?, ?it/s]"
      ]
     },
     "metadata": {},
     "output_type": "display_data"
    },
    {
     "data": {
      "application/vnd.jupyter.widget-view+json": {
       "model_id": "",
       "version_major": 2,
       "version_minor": 0
      },
      "text/plain": [
       "Validation: |          | 0/? [00:00<?, ?it/s]"
      ]
     },
     "metadata": {},
     "output_type": "display_data"
    },
    {
     "data": {
      "application/vnd.jupyter.widget-view+json": {
       "model_id": "",
       "version_major": 2,
       "version_minor": 0
      },
      "text/plain": [
       "Validation: |          | 0/? [00:00<?, ?it/s]"
      ]
     },
     "metadata": {},
     "output_type": "display_data"
    },
    {
     "name": "stderr",
     "output_type": "stream",
     "text": [
      "Metric val_loss improved by 0.004 >= min_delta = 0.0001. New best score: 0.609\n"
     ]
    },
    {
     "data": {
      "application/vnd.jupyter.widget-view+json": {
       "model_id": "",
       "version_major": 2,
       "version_minor": 0
      },
      "text/plain": [
       "Validation: |          | 0/? [00:00<?, ?it/s]"
      ]
     },
     "metadata": {},
     "output_type": "display_data"
    },
    {
     "name": "stderr",
     "output_type": "stream",
     "text": [
      "Metric val_loss improved by 0.003 >= min_delta = 0.0001. New best score: 0.606\n"
     ]
    },
    {
     "data": {
      "application/vnd.jupyter.widget-view+json": {
       "model_id": "",
       "version_major": 2,
       "version_minor": 0
      },
      "text/plain": [
       "Validation: |          | 0/? [00:00<?, ?it/s]"
      ]
     },
     "metadata": {},
     "output_type": "display_data"
    },
    {
     "data": {
      "application/vnd.jupyter.widget-view+json": {
       "model_id": "",
       "version_major": 2,
       "version_minor": 0
      },
      "text/plain": [
       "Validation: |          | 0/? [00:00<?, ?it/s]"
      ]
     },
     "metadata": {},
     "output_type": "display_data"
    },
    {
     "data": {
      "application/vnd.jupyter.widget-view+json": {
       "model_id": "",
       "version_major": 2,
       "version_minor": 0
      },
      "text/plain": [
       "Validation: |          | 0/? [00:00<?, ?it/s]"
      ]
     },
     "metadata": {},
     "output_type": "display_data"
    },
    {
     "name": "stderr",
     "output_type": "stream",
     "text": [
      "Metric val_loss improved by 0.001 >= min_delta = 0.0001. New best score: 0.604\n"
     ]
    },
    {
     "data": {
      "application/vnd.jupyter.widget-view+json": {
       "model_id": "",
       "version_major": 2,
       "version_minor": 0
      },
      "text/plain": [
       "Validation: |          | 0/? [00:00<?, ?it/s]"
      ]
     },
     "metadata": {},
     "output_type": "display_data"
    },
    {
     "name": "stderr",
     "output_type": "stream",
     "text": [
      "Metric val_loss improved by 0.001 >= min_delta = 0.0001. New best score: 0.603\n"
     ]
    },
    {
     "data": {
      "application/vnd.jupyter.widget-view+json": {
       "model_id": "",
       "version_major": 2,
       "version_minor": 0
      },
      "text/plain": [
       "Validation: |          | 0/? [00:00<?, ?it/s]"
      ]
     },
     "metadata": {},
     "output_type": "display_data"
    },
    {
     "data": {
      "application/vnd.jupyter.widget-view+json": {
       "model_id": "",
       "version_major": 2,
       "version_minor": 0
      },
      "text/plain": [
       "Validation: |          | 0/? [00:00<?, ?it/s]"
      ]
     },
     "metadata": {},
     "output_type": "display_data"
    },
    {
     "data": {
      "application/vnd.jupyter.widget-view+json": {
       "model_id": "",
       "version_major": 2,
       "version_minor": 0
      },
      "text/plain": [
       "Validation: |          | 0/? [00:00<?, ?it/s]"
      ]
     },
     "metadata": {},
     "output_type": "display_data"
    },
    {
     "name": "stderr",
     "output_type": "stream",
     "text": [
      "Metric val_loss improved by 0.001 >= min_delta = 0.0001. New best score: 0.602\n"
     ]
    },
    {
     "data": {
      "application/vnd.jupyter.widget-view+json": {
       "model_id": "",
       "version_major": 2,
       "version_minor": 0
      },
      "text/plain": [
       "Validation: |          | 0/? [00:00<?, ?it/s]"
      ]
     },
     "metadata": {},
     "output_type": "display_data"
    },
    {
     "data": {
      "application/vnd.jupyter.widget-view+json": {
       "model_id": "",
       "version_major": 2,
       "version_minor": 0
      },
      "text/plain": [
       "Validation: |          | 0/? [00:00<?, ?it/s]"
      ]
     },
     "metadata": {},
     "output_type": "display_data"
    },
    {
     "data": {
      "application/vnd.jupyter.widget-view+json": {
       "model_id": "",
       "version_major": 2,
       "version_minor": 0
      },
      "text/plain": [
       "Validation: |          | 0/? [00:00<?, ?it/s]"
      ]
     },
     "metadata": {},
     "output_type": "display_data"
    },
    {
     "name": "stderr",
     "output_type": "stream",
     "text": [
      "Metric val_loss improved by 0.002 >= min_delta = 0.0001. New best score: 0.601\n"
     ]
    },
    {
     "data": {
      "application/vnd.jupyter.widget-view+json": {
       "model_id": "",
       "version_major": 2,
       "version_minor": 0
      },
      "text/plain": [
       "Validation: |          | 0/? [00:00<?, ?it/s]"
      ]
     },
     "metadata": {},
     "output_type": "display_data"
    },
    {
     "data": {
      "application/vnd.jupyter.widget-view+json": {
       "model_id": "",
       "version_major": 2,
       "version_minor": 0
      },
      "text/plain": [
       "Validation: |          | 0/? [00:00<?, ?it/s]"
      ]
     },
     "metadata": {},
     "output_type": "display_data"
    },
    {
     "name": "stderr",
     "output_type": "stream",
     "text": [
      "Metric val_loss improved by 0.003 >= min_delta = 0.0001. New best score: 0.598\n"
     ]
    },
    {
     "data": {
      "application/vnd.jupyter.widget-view+json": {
       "model_id": "",
       "version_major": 2,
       "version_minor": 0
      },
      "text/plain": [
       "Validation: |          | 0/? [00:00<?, ?it/s]"
      ]
     },
     "metadata": {},
     "output_type": "display_data"
    },
    {
     "data": {
      "application/vnd.jupyter.widget-view+json": {
       "model_id": "",
       "version_major": 2,
       "version_minor": 0
      },
      "text/plain": [
       "Validation: |          | 0/? [00:00<?, ?it/s]"
      ]
     },
     "metadata": {},
     "output_type": "display_data"
    },
    {
     "data": {
      "application/vnd.jupyter.widget-view+json": {
       "model_id": "",
       "version_major": 2,
       "version_minor": 0
      },
      "text/plain": [
       "Validation: |          | 0/? [00:00<?, ?it/s]"
      ]
     },
     "metadata": {},
     "output_type": "display_data"
    },
    {
     "data": {
      "application/vnd.jupyter.widget-view+json": {
       "model_id": "",
       "version_major": 2,
       "version_minor": 0
      },
      "text/plain": [
       "Validation: |          | 0/? [00:00<?, ?it/s]"
      ]
     },
     "metadata": {},
     "output_type": "display_data"
    },
    {
     "data": {
      "application/vnd.jupyter.widget-view+json": {
       "model_id": "",
       "version_major": 2,
       "version_minor": 0
      },
      "text/plain": [
       "Validation: |          | 0/? [00:00<?, ?it/s]"
      ]
     },
     "metadata": {},
     "output_type": "display_data"
    },
    {
     "name": "stderr",
     "output_type": "stream",
     "text": [
      "Metric val_loss improved by 0.000 >= min_delta = 0.0001. New best score: 0.597\n"
     ]
    },
    {
     "data": {
      "application/vnd.jupyter.widget-view+json": {
       "model_id": "",
       "version_major": 2,
       "version_minor": 0
      },
      "text/plain": [
       "Validation: |          | 0/? [00:00<?, ?it/s]"
      ]
     },
     "metadata": {},
     "output_type": "display_data"
    },
    {
     "data": {
      "application/vnd.jupyter.widget-view+json": {
       "model_id": "",
       "version_major": 2,
       "version_minor": 0
      },
      "text/plain": [
       "Validation: |          | 0/? [00:00<?, ?it/s]"
      ]
     },
     "metadata": {},
     "output_type": "display_data"
    },
    {
     "data": {
      "application/vnd.jupyter.widget-view+json": {
       "model_id": "",
       "version_major": 2,
       "version_minor": 0
      },
      "text/plain": [
       "Validation: |          | 0/? [00:00<?, ?it/s]"
      ]
     },
     "metadata": {},
     "output_type": "display_data"
    },
    {
     "data": {
      "application/vnd.jupyter.widget-view+json": {
       "model_id": "",
       "version_major": 2,
       "version_minor": 0
      },
      "text/plain": [
       "Validation: |          | 0/? [00:00<?, ?it/s]"
      ]
     },
     "metadata": {},
     "output_type": "display_data"
    },
    {
     "data": {
      "application/vnd.jupyter.widget-view+json": {
       "model_id": "",
       "version_major": 2,
       "version_minor": 0
      },
      "text/plain": [
       "Validation: |          | 0/? [00:00<?, ?it/s]"
      ]
     },
     "metadata": {},
     "output_type": "display_data"
    },
    {
     "name": "stderr",
     "output_type": "stream",
     "text": [
      "Metric val_loss improved by 0.000 >= min_delta = 0.0001. New best score: 0.597\n"
     ]
    },
    {
     "data": {
      "application/vnd.jupyter.widget-view+json": {
       "model_id": "",
       "version_major": 2,
       "version_minor": 0
      },
      "text/plain": [
       "Validation: |          | 0/? [00:00<?, ?it/s]"
      ]
     },
     "metadata": {},
     "output_type": "display_data"
    },
    {
     "data": {
      "application/vnd.jupyter.widget-view+json": {
       "model_id": "",
       "version_major": 2,
       "version_minor": 0
      },
      "text/plain": [
       "Validation: |          | 0/? [00:00<?, ?it/s]"
      ]
     },
     "metadata": {},
     "output_type": "display_data"
    },
    {
     "data": {
      "application/vnd.jupyter.widget-view+json": {
       "model_id": "",
       "version_major": 2,
       "version_minor": 0
      },
      "text/plain": [
       "Validation: |          | 0/? [00:00<?, ?it/s]"
      ]
     },
     "metadata": {},
     "output_type": "display_data"
    },
    {
     "data": {
      "application/vnd.jupyter.widget-view+json": {
       "model_id": "",
       "version_major": 2,
       "version_minor": 0
      },
      "text/plain": [
       "Validation: |          | 0/? [00:00<?, ?it/s]"
      ]
     },
     "metadata": {},
     "output_type": "display_data"
    },
    {
     "data": {
      "application/vnd.jupyter.widget-view+json": {
       "model_id": "",
       "version_major": 2,
       "version_minor": 0
      },
      "text/plain": [
       "Validation: |          | 0/? [00:00<?, ?it/s]"
      ]
     },
     "metadata": {},
     "output_type": "display_data"
    },
    {
     "name": "stderr",
     "output_type": "stream",
     "text": [
      "Monitored metric val_loss did not improve in the last 5 records. Best score: 0.597. Signaling Trainer to stop.\n"
     ]
    }
   ],
   "source": [
    "# 16. Train the Temporal Fusion Transformer (TFT) model for ICU sepsis prediction\n",
    "\n",
    "from pytorch_forecasting import TemporalFusionTransformer\n",
    "from pytorch_forecasting.metrics import CrossEntropy\n",
    "import lightning.pytorch as pl\n",
    "from lightning.pytorch.callbacks import EarlyStopping\n",
    "import torch\n",
    "\n",
    "# --- 1. Ensure the label is integer type for CrossEntropy loss ---\n",
    "forecasted_long[\"sepsis\"] = forecasted_long[\"sepsis\"].astype(int)\n",
    "\n",
    "# --- 2. Define the TFT model from the training dataset ---\n",
    "tft = TemporalFusionTransformer.from_dataset(\n",
    "    train_dataset,\n",
    "    learning_rate=1e-3,\n",
    "    hidden_size=16,\n",
    "    attention_head_size=2,\n",
    "    dropout=0.1,\n",
    "    hidden_continuous_size=8,\n",
    "    output_size=2,\n",
    "    loss=CrossEntropy(),\n",
    "    log_interval=10,\n",
    "    reduce_on_plateau_patience=3,\n",
    ")\n",
    "\n",
    "# --- 3. Early stopping callback ---\n",
    "early_stop = EarlyStopping(\n",
    "    monitor=\"val_loss\",     # Monitors validation loss\n",
    "    patience=5,             # Stop if no improvement after 5 epochs\n",
    "    min_delta=1e-4,         # Smallest change to be considered improvement\n",
    "    mode=\"min\",             # Want to minimize val_loss\n",
    "    verbose=True\n",
    ")\n",
    "\n",
    "# --- 4. Set up the PyTorch Lightning trainer ---\n",
    "trainer = pl.Trainer(\n",
    "    max_epochs=100,                        #  epochs\n",
    "    accelerator=\"gpu\" if torch.cuda.is_available() else \"cpu\",\n",
    "    devices=1,\n",
    "    gradient_clip_val=0.1,\n",
    "    enable_checkpointing=False,\n",
    "    logger=False,\n",
    "    enable_progress_bar=True,\n",
    "    deterministic=False,\n",
    "    log_every_n_steps=5,\n",
    "    callbacks=[early_stop],               # <-- Add early stopping here!\n",
    ")\n",
    "\n",
    "# --- 5. Train the model! ---\n",
    "trainer.fit(\n",
    "    tft,\n",
    "    train_dataloaders=train_dataloader,\n",
    "    val_dataloaders=valid_dataloader,\n",
    ")\n"
   ]
  },
  {
   "cell_type": "markdown",
   "id": "04fd40fb",
   "metadata": {},
   "source": [
    "## Training the Temporal Fusion Transformer (TFT) for ICU Sepsis Prediction\n",
    "\n",
    "With our ICU vitals data **imputed, forecasted, and formatted into sequential windows**, we now train the **Temporal Fusion Transformer (TFT)** - a cutting-edge deep learning model designed for multi-horizon forecasting and sequence classification.\n",
    "\n",
    "---\n",
    "\n",
    "### **Why Temporal Fusion Transformer?**\n",
    "- **TFT** integrates *attention mechanisms*, *gating layers*, and *variable selection networks* to capture both short- and long-term temporal dependencies.\n",
    "- Its architecture is well-suited for **ICU time series**, where relationships between variables can change dynamically over time.\n",
    "- In our setup, TFT uses the first 22 hours of ICU data to predict **sepsis risk in the following 2 hours**.\n",
    "\n",
    "---\n",
    "\n",
    "### **Key Steps in This Training Cell**\n",
    "\n",
    "#### **1. Target Preparation**\n",
    "- `sepsis` labels are explicitly cast to integer (`0` or `1`) - a requirement for classification with cross-entropy loss.\n",
    "\n",
    "#### **2. Model Initialization**\n",
    "We use `TemporalFusionTransformer.from_dataset()` to auto-configure most dimensions from our `train_dataset`.\n",
    "- **Key hyperparameters:**\n",
    "  - `learning_rate=1e-3`: Balanced choice for Adam optimizer.\n",
    "  - `hidden_size=16`: LSTM layer size, controlling capacity.\n",
    "  - `attention_head_size=2`: Lightweight attention for 24-hour sequences.\n",
    "  - `dropout=0.1`: Reduces overfitting risk.\n",
    "  - `hidden_continuous_size=8`: Embedding dimension for continuous features.\n",
    "  - `output_size=2`: Binary classification (sepsis vs. non-sepsis).\n",
    "  - `loss=CrossEntropy()`: Optimized for categorical classification.\n",
    "\n",
    "#### **3. Early Stopping**\n",
    "- Configured to monitor `val_loss` and halt training after 5 epochs without improvement.\n",
    "- Prevents overfitting and reduces wasted computation.\n",
    "\n",
    "#### **4. PyTorch Lightning Trainer**\n",
    "- **Max epochs:** 100 (stops earlier if early stopping triggers).\n",
    "- **GPU support:** Automatically uses GPU if available.\n",
    "- **Gradient clipping:** `0.1` to stabilize training.\n",
    "- **Minimal logging:** For faster iteration in a teaching/research notebook.\n",
    "\n",
    "#### **5. Training**\n",
    "- `trainer.fit()` launches the training loop, using prebuilt train/validation DataLoaders.\n",
    "- Batch processing ensures that each training sample represents a complete ICU stay sequence.\n",
    "\n",
    "---\n",
    "\n",
    "### **Summary**\n",
    "- This configuration enables **robust sequence modeling** with interpretability (via TFT attention).\n",
    "- Early stopping ensures efficient use of training time.\n",
    "- The model directly learns **temporal patterns in ICU vitals** to support early sepsis detection.\n",
    "\n",
    "> **Takeaway:**  \n",
    "> TFT provides a powerful framework for leveraging full ICU time series - capturing complex interactions between vitals over time and delivering predictions that can inform early intervention.\n"
   ]
  },
  {
   "cell_type": "markdown",
   "id": "b40ce1a4",
   "metadata": {},
   "source": [
    "## Code cell 17: TFT Evaluation: Comprehensive Classification Metrics and Interpretation"
   ]
  },
  {
   "cell_type": "code",
   "execution_count": 19,
   "id": "ca05f717",
   "metadata": {
    "scrolled": false
   },
   "outputs": [
    {
     "name": "stderr",
     "output_type": "stream",
     "text": [
      "Trainer will use only 1 of 2 GPUs because it is running inside an interactive / notebook environment. You may try to set `Trainer(devices=2)` but please note that multi-GPU inside interactive / notebook environments is considered experimental and unstable. Your mileage may vary.\n",
      "💡 Tip: For seamless cloud uploads and versioning, try installing [litmodels](https://pypi.org/project/litmodels/) to enable LitModelCheckpoint, which syncs automatically with the Lightning model registry.\n",
      "GPU available: True (cuda), used: True\n",
      "TPU available: False, using: 0 TPU cores\n",
      "HPU available: False, using: 0 HPUs\n",
      "/home/jupyter-shikshuk/.local/lib/python3.9/site-packages/lightning/pytorch/trainer/connectors/logger_connector/logger_connector.py:76: Starting from v1.9.0, `tensorboardX` has been removed as a dependency of the `lightning.pytorch` package, due to potential conflicts with other packages in the ML ecosystem. For this reason, `logger=True` will use `CSVLogger` as the default logger, unless the `tensorboard` or `tensorboardX` packages are found. Please `pip install lightning[extra]` or one of them to enable TensorBoard support by default\n",
      "LOCAL_RANK: 0 - CUDA_VISIBLE_DEVICES: [0,1]\n",
      "/home/jupyter-shikshuk/.local/lib/python3.9/site-packages/lightning/pytorch/trainer/connectors/data_connector.py:425: The 'predict_dataloader' does not have many workers which may be a bottleneck. Consider increasing the value of the `num_workers` argument` to `num_workers=11` in the `DataLoader` to improve performance.\n"
     ]
    },
    {
     "name": "stdout",
     "output_type": "stream",
     "text": [
      "\n",
      "--- Evaluation Metrics for TFT (sepsis at last time step) ---\n",
      "AUROC:        0.734     # Discrimination (higher = better)\n",
      "AUPRC:        0.714   # Precision-Recall (higher = better)\n",
      "Accuracy:     0.671\n",
      "Precision:    0.731\n",
      "Recall:       0.538  # Sensitivity\n",
      "Specificity:  0.803\n",
      "F1-score:     0.620\n",
      "Brier score:  0.206   # Calibration (lower = better)\n"
     ]
    },
    {
     "data": {
      "image/png": "[encoded data removed]",
      "text/plain": [
       "<Figure size 1008x360 with 2 Axes>"
      ]
     },
     "metadata": {
      "needs_background": "light"
     },
     "output_type": "display_data"
    },
    {
     "data": {
      "image/png": "[encoded data removed]",
      "text/plain": [
       "<Figure size 432x288 with 2 Axes>"
      ]
     },
     "metadata": {
      "needs_background": "light"
     },
     "output_type": "display_data"
    },
    {
     "data": {
      "image/png": "[encoded data removed]",
      "text/plain": [
       "<Figure size 432x360 with 1 Axes>"
      ]
     },
     "metadata": {
      "needs_background": "light"
     },
     "output_type": "display_data"
    }
   ],
   "source": [
    "# 17\n",
    "\n",
    "import numpy as np\n",
    "import matplotlib.pyplot as plt\n",
    "from sklearn.metrics import (\n",
    "    roc_auc_score, roc_curve,\n",
    "    average_precision_score, precision_recall_curve,\n",
    "    accuracy_score, f1_score, precision_score, recall_score,\n",
    "    confusion_matrix, ConfusionMatrixDisplay, brier_score_loss\n",
    ")\n",
    "from sklearn.calibration import calibration_curve\n",
    "import torch\n",
    "\n",
    "# --- 1. Get model predictions on the validation set (raw for interpretation) ---\n",
    "pred_out = tft.predict(valid_dataloader, mode=\"raw\", return_x=True)\n",
    "\n",
    "# Robust unpacking to get predictions and targets\n",
    "if isinstance(pred_out, dict):\n",
    "    raw_preds = pred_out\n",
    "    x = None\n",
    "elif isinstance(pred_out, (tuple, list)):\n",
    "    raw_preds = pred_out[0]\n",
    "    x = pred_out[1] if len(pred_out) > 1 else None\n",
    "else:\n",
    "    raw_preds = pred_out\n",
    "    x = None\n",
    "\n",
    "def tonp(tensor):\n",
    "    \"Convert a Torch tensor (or array-like) to numpy.\"\n",
    "    if isinstance(tensor, torch.Tensor):\n",
    "        return tensor.detach().cpu().numpy()\n",
    "    return np.asarray(tensor)\n",
    "\n",
    "# --- True labels (targets) extraction ---\n",
    "if x is not None and \"decoder_target\" in x:\n",
    "    y_true = tonp(x[\"decoder_target\"])\n",
    "elif x is not None and \"target\" in x:\n",
    "    y_true = tonp(x[\"target\"])\n",
    "else:\n",
    "    raise RuntimeError(\"Could not find targets in prediction output.\")\n",
    "\n",
    "# --- 2. Convert logits to probabilities (softmax) ---\n",
    "logits = tonp(raw_preds[\"prediction\"])  # shape: [n_samples, max_pred_length, 2]\n",
    "softmax = lambda x: np.exp(x) / np.sum(np.exp(x), axis=-1, keepdims=True)\n",
    "probs_full = softmax(logits)            # Probabilities for both classes\n",
    "\n",
    "# --- 3. Select last prediction step (hour 23) for evaluation ---\n",
    "probs_eval = probs_full[:, -1, 1]   # Prob of sepsis=1 at last step\n",
    "y_true = np.asarray(y_true)\n",
    "if y_true.ndim == 3:\n",
    "    y_true = y_true.squeeze(-1)\n",
    "if y_true.ndim == 2:\n",
    "    y_true_eval = y_true[:, -1]\n",
    "else:\n",
    "    y_true_eval = y_true\n",
    "assert y_true_eval.shape == probs_eval.shape, \"Shape mismatch: predictions vs labels\"\n",
    "\n",
    "# --- 4. Binary predictions with 0.5 threshold ---\n",
    "y_pred = (probs_eval >= 0.5).astype(int)\n",
    "\n",
    "# --- 5. Classification Metrics ---\n",
    "# AUROC: Discrimination (how well does the model rank positive vs negative?)\n",
    "auc = roc_auc_score(y_true_eval, probs_eval)\n",
    "# AUPRC: Precision-Recall curve area (important for imbalanced data)\n",
    "auprc = average_precision_score(y_true_eval, probs_eval)\n",
    "# Accuracy: Overall fraction of correct predictions\n",
    "accuracy = accuracy_score(y_true_eval, y_pred)\n",
    "# Precision: Of predicted positives, how many are truly positive?\n",
    "precision = precision_score(y_true_eval, y_pred)\n",
    "# Recall (Sensitivity): Of true positives, how many did we identify?\n",
    "recall = recall_score(y_true_eval, y_pred)\n",
    "# F1-score: Harmonic mean of precision and recall (balances both)\n",
    "f1 = f1_score(y_true_eval, y_pred)\n",
    "# Specificity: Of true negatives, how many did we correctly identify?\n",
    "tn, fp, fn, tp = confusion_matrix(y_true_eval, y_pred).ravel()\n",
    "specificity = tn / (tn + fp)\n",
    "# Brier score: Mean squared error of predicted probabilities (lower is better, best=0)\n",
    "brier = brier_score_loss(y_true_eval, probs_eval)\n",
    "\n",
    "print(f\"\\n--- Evaluation Metrics for TFT (sepsis at last time step) ---\")\n",
    "print(f\"AUROC:        {auc:.3f}     # Discrimination (higher = better)\")\n",
    "print(f\"AUPRC:        {auprc:.3f}   # Precision-Recall (higher = better)\")\n",
    "print(f\"Accuracy:     {accuracy:.3f}\")\n",
    "print(f\"Precision:    {precision:.3f}\")\n",
    "print(f\"Recall:       {recall:.3f}  # Sensitivity\")\n",
    "print(f\"Specificity:  {specificity:.3f}\")\n",
    "print(f\"F1-score:     {f1:.3f}\")\n",
    "print(f\"Brier score:  {brier:.3f}   # Calibration (lower = better)\")\n",
    "\n",
    "# --- 6. ROC and Precision-Recall Curves ---\n",
    "fpr, tpr, _ = roc_curve(y_true_eval, probs_eval)\n",
    "prec, rec, _ = precision_recall_curve(y_true_eval, probs_eval)\n",
    "\n",
    "plt.figure(figsize=(14,5))\n",
    "plt.subplot(1,2,1)\n",
    "plt.plot(fpr, tpr, label=f\"AUROC = {auc:.2f}\")\n",
    "plt.plot([0, 1], [0, 1], \"k--\")\n",
    "plt.xlabel(\"False Positive Rate\")\n",
    "plt.ylabel(\"True Positive Rate\")\n",
    "plt.title(\"ROC Curve\")\n",
    "plt.legend()\n",
    "\n",
    "plt.subplot(1,2,2)\n",
    "plt.plot(rec, prec, label=f\"AUPRC = {auprc:.2f}\")\n",
    "plt.xlabel(\"Recall\")\n",
    "plt.ylabel(\"Precision\")\n",
    "plt.title(\"Precision-Recall Curve\")\n",
    "plt.legend()\n",
    "plt.tight_layout()\n",
    "plt.show()\n",
    "\n",
    "# --- 7. Confusion Matrix ---\n",
    "cm = confusion_matrix(y_true_eval, y_pred)\n",
    "disp = ConfusionMatrixDisplay(cm, display_labels=[\"No Sepsis\", \"Sepsis\"])\n",
    "disp.plot(cmap=\"Blues\")\n",
    "plt.title(\"Confusion Matrix\")\n",
    "plt.show()\n",
    "\n",
    "# --- 8. Calibration Curve ---\n",
    "prob_true, prob_pred = calibration_curve(y_true_eval, probs_eval, n_bins=10)\n",
    "plt.figure(figsize=(6,5))\n",
    "plt.plot(prob_pred, prob_true, marker='o', label=f\"Brier={brier:.3f}\")\n",
    "plt.plot([0, 1], [0, 1], \"k--\")\n",
    "plt.xlabel(\"Predicted Probability\")\n",
    "plt.ylabel(\"Observed Frequency\")\n",
    "plt.title(\"Calibration Curve\")\n",
    "plt.legend()\n",
    "plt.show()\n"
   ]
  },
  {
   "cell_type": "markdown",
   "id": "b3eb7412",
   "metadata": {},
   "source": [
    "## Model Evaluation: Temporal Fusion Transformer (TFT) for Sepsis Prediction\n",
    "\n",
    "With the TFT model trained, we now evaluate its performance on the **validation set**, focusing on sepsis prediction at the **final ICU hour (hour 23)**.\n",
    "\n",
    "---\n",
    "\n",
    "### **Evaluation Workflow**\n",
    "\n",
    "1. **Prediction Extraction**\n",
    "   - Obtained raw model predictions from the validation dataloader.\n",
    "   - Converted logits → probabilities via the **softmax** function.\n",
    "   - Focused on the **probability of sepsis** (`class=1`) at the last time step.\n",
    "\n",
    "2. **Classification Threshold**\n",
    "   - Applied a default threshold of `0.5` to classify predictions into *Sepsis* vs *No Sepsis*.\n",
    "\n",
    "3. **Performance Metrics**\n",
    "   - **AUROC** - Measures the ability to rank positive cases above negatives (discrimination power).\n",
    "   - **AUPRC** - Precision-Recall trade-off, especially informative for **imbalanced medical datasets**.\n",
    "   - **Accuracy** - Overall correctness of predictions.\n",
    "   - **Precision** - Of predicted sepsis cases, the fraction that were correct.\n",
    "   - **Recall (Sensitivity)** - Of actual sepsis cases, the fraction detected by the model.\n",
    "   - **Specificity** - Of actual non-sepsis cases, the fraction correctly identified.\n",
    "   - **F1-score** - Harmonic mean of precision and recall.\n",
    "   - **Brier Score** - Measures **calibration quality** (lower = better alignment between predicted probabilities and observed outcomes).\n",
    "\n",
    "4. **Visual Diagnostics**\n",
    "   - **ROC Curve** – Visualizes AUROC; ideal curve bows toward the top-left.\n",
    "   - **Precision-Recall Curve** – Highlights performance under class imbalance.\n",
    "   - **Confusion Matrix** – Summarizes classification outcomes (TP, TN, FP, FN).\n",
    "   - **Calibration Curve** – Compares predicted probabilities to actual outcome frequencies.\n",
    "\n",
    "---\n",
    "\n",
    "### **Results**\n",
    "\n",
    "| Metric         | Value  | Interpretation |\n",
    "|----------------|--------|----------------|\n",
    "| **AUROC**      | 0.734  | Good discrimination between sepsis and non-sepsis cases. |\n",
    "| **AUPRC**      | 0.714  | Strong performance given likely class imbalance. |\n",
    "| **Accuracy**   | 0.671  | 67% of predictions are correct overall. |\n",
    "| **Precision**  | 0.731  | 73% of predicted sepsis cases were correct. |\n",
    "| **Recall**     | 0.538  | Model detects ~54% of actual sepsis cases (room for improvement). |\n",
    "| **Specificity**| 0.803  | 80% of non-sepsis cases correctly identified. |\n",
    "| **F1-score**   | 0.620  | Balanced view of precision & recall. |\n",
    "| **Brier Score**| 0.206  | Reasonable probability calibration. |\n",
    "\n",
    "---\n",
    "\n",
    "### **Interpretation**\n",
    "- **Strengths:**  \n",
    "  - Good AUROC and AUPRC suggest TFT learns useful temporal patterns.\n",
    "  - Precision is relatively high - fewer false alarms.\n",
    "  - Specificity indicates strong identification of non-sepsis cases.\n",
    "  \n",
    "- **Limitations:**  \n",
    "  - Recall is moderate - the model misses some sepsis cases.\n",
    "  - Calibration could still be improved for more reliable probability outputs.\n",
    "  \n"
   ]
  },
  {
   "cell_type": "code",
   "execution_count": null,
   "id": "283f41f0",
   "metadata": {},
   "outputs": [],
   "source": [
    "# End"
   ]
  }
 ],
 "metadata": {
  "kernelspec": {
   "display_name": "Python 3 (ipykernel)",
   "language": "python",
   "name": "python3"
  },
  "language_info": {
   "codemirror_mode": {
    "name": "ipython",
    "version": 3
   },
   "file_extension": ".py",
   "mimetype": "text/x-python",
   "name": "python",
   "nbconvert_exporter": "python",
   "pygments_lexer": "ipython3",
   "version": "3.9.7"
  }
 },
 "nbformat": 4,
 "nbformat_minor": 5
}
